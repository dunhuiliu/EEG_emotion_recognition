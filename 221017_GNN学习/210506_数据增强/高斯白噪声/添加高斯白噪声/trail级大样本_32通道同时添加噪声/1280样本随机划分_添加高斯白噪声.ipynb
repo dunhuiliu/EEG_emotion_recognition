{
 "cells": [
  {
   "cell_type": "code",
   "execution_count": 1,
   "metadata": {
    "ExecuteTime": {
     "end_time": "2021-05-06T11:41:36.935813Z",
     "start_time": "2021-05-06T11:41:36.395365Z"
    }
   },
   "outputs": [],
   "source": [
    "#加载飞桨、Numpy和相关类库\n",
    "import numpy as np\n",
    "import pyeeg as pe\n",
    "import os\n",
    "import random\n",
    "import time\n",
    "\n",
    "from PIL import Image\n",
    "import matplotlib.pyplot as plt\n",
    "from matplotlib import pyplot\n",
    "from sklearn.model_selection import StratifiedShuffleSplit\n",
    "\n",
    "from scipy.stats import wasserstein_distance"
   ]
  },
  {
   "cell_type": "code",
   "execution_count": 2,
   "metadata": {
    "ExecuteTime": {
     "end_time": "2021-05-06T11:41:36.951084Z",
     "start_time": "2021-05-06T11:41:36.936773Z"
    }
   },
   "outputs": [],
   "source": [
    "import numpy as np\n",
    "import pylab as pl\n",
    " \n",
    "def wgn(x, snr):\n",
    "    snr = 10**(snr/10.0)\n",
    "    xpower = np.sum(x**2)/len(x)\n",
    "    npower = xpower / snr\n",
    "    return np.random.randn(len(x)) * np.sqrt(npower)\n",
    " \n",
    "# t = np.arange(0, 1000) * 0.1\n",
    "# x = np.sin(t)\n",
    "# n = wgn(x, 5)\n",
    "# xn = x+n # 增加了6dBz信噪比噪声的信号"
   ]
  },
  {
   "cell_type": "code",
   "execution_count": 3,
   "metadata": {
    "ExecuteTime": {
     "end_time": "2021-05-06T11:41:36.966897Z",
     "start_time": "2021-05-06T11:41:36.952136Z"
    }
   },
   "outputs": [],
   "source": [
    "#特征提取\n",
    "def feature_extraction(trainData):\n",
    "    \n",
    "    band = [4,8,13,16,30,45] #5 bands    band = [4,8,12,16,25,45]  \n",
    "    sample_rate = 128 #Sampling rate of 128 Hz\n",
    "\n",
    "    features = trainData.reshape(trainData.shape[0], 32, 7680)\n",
    "\n",
    "    newData=[]\n",
    "    for i in range(features.shape[0]):    #样本数\n",
    "        channel_features=[]\n",
    "        for j in range(32):\n",
    "            X = features[i][j]\n",
    "            Y = pe.bin_power(X, band, sample_rate)\n",
    "            channel_features += list(Y[0])\n",
    "        newData.append(np.array(channel_features))\n",
    "\n",
    "    return np.array(newData)"
   ]
  },
  {
   "cell_type": "code",
   "execution_count": 4,
   "metadata": {
    "ExecuteTime": {
     "end_time": "2021-05-06T11:41:36.982853Z",
     "start_time": "2021-05-06T11:41:36.967893Z"
    }
   },
   "outputs": [],
   "source": [
    "def Gaussian_normalization(trainData, testData):\n",
    "    \"\"\"高斯归一化\"\"\"\n",
    "\n",
    "    #训练样本归一化\n",
    "    feature=trainData[:,:-1]\n",
    "    mean=feature.mean(axis=0)\n",
    "    std=feature.std(axis=0)\n",
    "    feature-=mean\n",
    "    feature/=std\n",
    "    trainData[:,:-1] = feature\n",
    "\n",
    "    #测试样本归一化\n",
    "    feature=testData[:,:-1]\n",
    "    feature-=mean\n",
    "    feature/=std\n",
    "    testData[:,:-1] = feature\n",
    "\n",
    "    return trainData, testData"
   ]
  },
  {
   "cell_type": "code",
   "execution_count": 5,
   "metadata": {
    "ExecuteTime": {
     "end_time": "2021-05-06T11:41:37.028738Z",
     "start_time": "2021-05-06T11:41:36.983851Z"
    }
   },
   "outputs": [],
   "source": [
    "from sklearn import svm\n",
    "from sklearn.preprocessing import normalize\n",
    "from sklearn.ensemble import RandomForestClassifier\n",
    "from sklearn.neighbors import KNeighborsClassifier\n",
    "from sklearn.naive_bayes import GaussianNB\n",
    "from sklearn.naive_bayes import MultinomialNB\n",
    "from sklearn.metrics import accuracy_score\n",
    "\n",
    "def trainModel(trainData, testData):\n",
    "    \n",
    "    trainLabel = trainData[:, -1]\n",
    "    trainData = trainData[:, :-1]\n",
    "    \n",
    "    testLabel = testData[:, -1]\n",
    "    testData = testData[:, :-1]\n",
    "    \n",
    "#     svmModel = svm.SVC()\n",
    "#     svmModel.fit(data_training, valtrain) \n",
    "#     ypredict=svmModel.predict(data_testing)\n",
    "#     print(\"SVMacc：\",accuracy_score(ypredict,valtest)) \n",
    "\n",
    "    rfModel = RandomForestClassifier(n_estimators=512, n_jobs=16)\n",
    "    rfModel.fit(trainData, trainLabel)\n",
    "    ypredict = rfModel.predict(testData)\n",
    "    acc = accuracy_score(ypredict,testLabel)\n",
    "    print(\"acc = {:.2f}\".format(acc))\n",
    "    return acc"
   ]
  },
  {
   "cell_type": "markdown",
   "metadata": {},
   "source": [
    "## 训练集、测试集的标签比例与总体样本的类标签比例相同\n",
    "StratifiedShuffleSplit"
   ]
  },
  {
   "cell_type": "code",
   "execution_count": 6,
   "metadata": {
    "ExecuteTime": {
     "end_time": "2021-05-07T04:17:56.515584Z",
     "start_time": "2021-05-06T11:41:37.029732Z"
    },
    "scrolled": true
   },
   "outputs": [
    {
     "name": "stdout",
     "output_type": "stream",
     "text": [
      "trainShape =  (256000, 161) testShape =  (256, 161)\n",
      "split1 ：acc = 0.65\n",
      "split2 ：acc = 0.68\n",
      "split3 ：acc = 0.64\n",
      "split4 ：acc = 0.63\n",
      "split5 ：acc = 0.66\n",
      "split6 ：acc = 0.60\n",
      "split7 ：acc = 0.61\n",
      "split8 ：acc = 0.67\n",
      "split9 ：acc = 0.64\n",
      "split10 ：acc = 0.61\n"
     ]
    }
   ],
   "source": [
    "emotionDim = 0    #0 Valence 1 Arousal\n",
    "\n",
    "multiples = 249    #数据增强multiple倍\n",
    "snr = 5    #信噪比\n",
    "ratio = 0.2    #测试集占的比例\n",
    "num_splits = 10    #测试10次\n",
    "randomState = 2021    #随机状态\n",
    "allAcc = []    #记录num_splits次的准确率\n",
    "\n",
    "dir = 'E:\\JupyterNotebookWorkSpace\\dataSet\\\\1280x258050(32x8064+2).npy'\n",
    "\n",
    "AllSub = np.load(dir)\n",
    "feature = AllSub[: , :-2].reshape((1280, 32, 8064))\n",
    "\n",
    "feature = feature[:, :, 384:]\n",
    "feature = feature.reshape((1280, 245760))\n",
    "\n",
    "label = np.where(AllSub[: , -2:] >= 5 , 1 , -1)\n",
    "label = label[:, emotionDim]\n",
    "del AllSub\n",
    "\n",
    "sss = StratifiedShuffleSplit(n_splits=num_splits, test_size=ratio, random_state = randomState)#分成num_splits组，测试比例为ratio\n",
    "num_split = 1    #第一次split\n",
    "for train_index, test_index in sss.split(feature, label):\n",
    "    X_train, X_test = feature[train_index], feature[test_index]#训练集对应的值\n",
    "    y_train, y_test = label[train_index], label[test_index]#类别集对应的值\n",
    "    \n",
    "    trainFreqFeature = feature_extraction(X_train)\n",
    "    trainFreqFeature = np.append(trainFreqFeature, y_train.reshape((-1, 1)), axis = 1)\n",
    "    #print(trainFreqFeature.shape) #(1024, 161)\n",
    "    np.save('./原始训练样本、测试样本及噪声样本/rawTrainSignalFreq.npy', trainFreqFeature)\n",
    "    \n",
    "    testFreqFeature = feature_extraction(X_test)\n",
    "    testFreqFeature = np.append(testFreqFeature, y_test.reshape((-1, 1)), axis = 1)\n",
    "    #print(testFreqFeature.shape) #(256, 161)\n",
    "    np.save('./原始训练样本、测试样本及噪声样本/testSignalFreq.npy', testFreqFeature)\n",
    "    \n",
    "    # 添加高斯白噪声，训练数据增强multiple倍\n",
    "    for multiple in range(multiples):\n",
    "        newSignal = []\n",
    "        for signal in X_train:\n",
    "            noise = wgn(signal, snr)\n",
    "            noiseSignal = signal + noise\n",
    "            newSignal.append(noiseSignal)\n",
    "        newSignal = np.array(newSignal)\n",
    "        \n",
    "        trainFreqFeature = feature_extraction(newSignal)\n",
    "        trainFreqFeature = np.append(trainFreqFeature, y_train.reshape((-1, 1)), axis = 1)\n",
    "        np.save('./原始训练样本、测试样本及噪声样本/noiseSignal_{}.npy'.format(multiple + 1), trainFreqFeature)\n",
    "        #print(trainFreqFeature.shape)    #(1024, 161)\n",
    "        \n",
    "    del X_test\n",
    "    del y_test\n",
    "    del trainFreqFeature\n",
    "    del testFreqFeature\n",
    "    del X_train\n",
    "    del y_train\n",
    "    \n",
    "    #加载训练集、测试集，开始训练、测试\n",
    "    trainSet = []\n",
    "    trainFreqFeature = np.load('./原始训练样本、测试样本及噪声样本/rawTrainSignalFreq.npy')\n",
    "    trainSet.append(trainFreqFeature)\n",
    "    for multiple in range(multiples):\n",
    "        trainFreqFeature = np.load('./原始训练样本、测试样本及噪声样本/noiseSignal_{}.npy'.format(multiple + 1))\n",
    "        trainSet.append(trainFreqFeature)\n",
    "    trainSet = np.array(trainSet).reshape((-1, 161))\n",
    "    testSet = np.load('./原始训练样本、测试样本及噪声样本/testSignalFreq.npy')\n",
    "    \n",
    "    if num_split == 1:\n",
    "        print('trainShape = ', trainSet.shape, 'testShape = ', testSet.shape)\n",
    "    \n",
    "    #------------------------------------是否归一化------------------------------------\n",
    "    normal = True\n",
    "    if normal:\n",
    "        trainSet, testSet = Gaussian_normalization(trainSet, testSet)\n",
    "\n",
    "    # 训练\n",
    "    print('split{} ：'.format(num_split), end = '')\n",
    "    num_split += 1\n",
    "    acc = trainModel(trainSet, testSet)\n",
    "    allAcc.append(acc)"
   ]
  },
  {
   "cell_type": "code",
   "execution_count": 7,
   "metadata": {
    "ExecuteTime": {
     "end_time": "2021-05-07T04:17:56.544291Z",
     "start_time": "2021-05-07T04:17:56.528330Z"
    }
   },
   "outputs": [
    {
     "name": "stdout",
     "output_type": "stream",
     "text": [
      "meanAcc =  0.640234375 num_split =  1 maxAcc =  0.68359375 var =  0.0006513977050781251\n"
     ]
    }
   ],
   "source": [
    "allAcc = np.array(allAcc)\n",
    "\n",
    "maxIndex = allAcc.argmax()\n",
    "print('meanAcc = ', allAcc.mean(),'num_split = ', maxIndex, 'maxAcc = ',allAcc.max(), 'var = ',allAcc.var())"
   ]
  },
  {
   "cell_type": "code",
   "execution_count": 8,
   "metadata": {
    "ExecuteTime": {
     "end_time": "2021-05-07T04:17:56.699270Z",
     "start_time": "2021-05-07T04:17:56.545284Z"
    }
   },
   "outputs": [
    {
     "data": {
      "text/plain": [
       "[<matplotlib.lines.Line2D at 0x2619f452388>]"
      ]
     },
     "execution_count": 8,
     "metadata": {},
     "output_type": "execute_result"
    },
    {
     "data": {
      "image/png": "[encoded data removed]",
      "text/plain": [
       "<Figure size 432x288 with 1 Axes>"
      ]
     },
     "metadata": {
      "needs_background": "light"
     },
     "output_type": "display_data"
    }
   ],
   "source": [
    "plt.ylim([0,1])\n",
    "plt.xlabel('num_split')\n",
    "plt.ylabel('acc')\n",
    "plt.plot(range(1,11), allAcc)"
   ]
  },
  {
   "cell_type": "code",
   "execution_count": 9,
   "metadata": {
    "ExecuteTime": {
     "end_time": "2021-05-07T04:17:56.715226Z",
     "start_time": "2021-05-07T04:17:56.700266Z"
    }
   },
   "outputs": [],
   "source": [
    "# normal = False meanAcc = 0.581\n",
    "# normal = True meanAcc = 0.5811"
   ]
  }
 ],
 "metadata": {
  "kernelspec": {
   "display_name": "Python 3",
   "language": "python",
   "name": "python3"
  },
  "language_info": {
   "codemirror_mode": {
    "name": "ipython",
    "version": 3
   },
   "file_extension": ".py",
   "mimetype": "text/x-python",
   "name": "python",
   "nbconvert_exporter": "python",
   "pygments_lexer": "ipython3",
   "version": "3.7.6"
  },
  "toc": {
   "base_numbering": 1,
   "nav_menu": {},
   "number_sections": true,
   "sideBar": true,
   "skip_h1_title": false,
   "title_cell": "Table of Contents",
   "title_sidebar": "Contents",
   "toc_cell": false,
   "toc_position": {},
   "toc_section_display": true,
   "toc_window_display": false
  },
  "varInspector": {
   "cols": {
    "lenName": 16,
    "lenType": 16,
    "lenVar": 40
   },
   "kernels_config": {
    "python": {
     "delete_cmd_postfix": "",
     "delete_cmd_prefix": "del ",
     "library": "var_list.py",
     "varRefreshCmd": "print(var_dic_list())"
    },
    "r": {
     "delete_cmd_postfix": ") ",
     "delete_cmd_prefix": "rm(",
     "library": "var_list.r",
     "varRefreshCmd": "cat(var_dic_list()) "
    }
   },
   "types_to_exclude": [
    "module",
    "function",
    "builtin_function_or_method",
    "instance",
    "_Feature"
   ],
   "window_display": false
  }
 },
 "nbformat": 4,
 "nbformat_minor": 1
}

{
 "cells": [
  {
   "cell_type": "code",
   "execution_count": 1,
   "metadata": {
    "ExecuteTime": {
     "end_time": "2021-05-21T09:17:39.174125Z",
     "start_time": "2021-05-21T09:17:38.784911Z"
    }
   },
   "outputs": [],
   "source": [
    "#加载飞桨、Numpy和相关类库\n",
    "import numpy as np\n",
    "import pyeeg as pe\n",
    "import os\n",
    "import random\n",
    "import time\n",
    "\n",
    "from PIL import Image\n",
    "import matplotlib.pyplot as plt\n",
    "from matplotlib import pyplot\n",
    "\n",
    "from scipy.stats import wasserstein_distance"
   ]
  },
  {
   "cell_type": "code",
   "execution_count": 2,
   "metadata": {
    "ExecuteTime": {
     "end_time": "2021-05-21T09:17:39.189273Z",
     "start_time": "2021-05-21T09:17:39.174125Z"
    }
   },
   "outputs": [],
   "source": [
    "#加载一个受试者\n",
    "def loadSub(sub):\n",
    "    dir='E:\\JupyterNotebookWorkSpace\\dataSet\\\\1280x258050(32x8064+2).npy'\n",
    "    data=np.load(dir)\n",
    "    subData = data[sub * 40 : (sub + 1) * 40]\n",
    "    subData[: , -2:] = np.where(subData[: , -2:] >= 5 , 1 , -1)\n",
    "    return subData"
   ]
  },
  {
   "cell_type": "code",
   "execution_count": 3,
   "metadata": {
    "ExecuteTime": {
     "end_time": "2021-05-21T09:17:39.204598Z",
     "start_time": "2021-05-21T09:17:39.192701Z"
    }
   },
   "outputs": [],
   "source": [
    "# #数据集切60片，基线单独返回\n",
    "# def data_session(subData):\n",
    "#     features = subData[:,:-2]\n",
    "#     labels = subData[:,-2:]\n",
    "#     features = features.reshape(40,32,-1)\n",
    "#     features = features[:,:,384:]\n",
    "    \n",
    "#     dataList = []\n",
    "#     for i in range(40):\n",
    "#         for j in range(60):\n",
    "#             dataList.append(np.append(features[i][ : , j * 128 : (j + 1) * 128].reshape(-1) , labels[i]))\n",
    "\n",
    "#     dataList = np.array(dataList)\n",
    "\n",
    "#     return dataList"
   ]
  },
  {
   "cell_type": "code",
   "execution_count": 4,
   "metadata": {
    "ExecuteTime": {
     "end_time": "2021-05-21T09:17:39.219839Z",
     "start_time": "2021-05-21T09:17:39.207583Z"
    }
   },
   "outputs": [],
   "source": [
    "#特征提取\n",
    "def feature_extraction(trainData):\n",
    "\n",
    "    band = [4,8,13,16,30,45] #5 bands    band = [4,8,12,16,25,45]\n",
    "    sample_rate = 128 #Sampling rate of 128 Hz\n",
    "\n",
    "    features = trainData[:,:-2]\n",
    "    labels = trainData[:,-2:]\n",
    "    features = features.reshape(features.shape[0],32,8064)\n",
    "    features = features[:, :, 384:]\n",
    "\n",
    "    newData=[]\n",
    "    for i in range(features.shape[0]):    #样本数\n",
    "        channel_features=[]\n",
    "        for j in range(32):\n",
    "            X = features[i][j]\n",
    "            Y = pe.bin_power(X, band, sample_rate)\n",
    "            channel_features += list(Y[0])\n",
    "            ###################################################################################\n",
    "        channel_features += list(labels[i])    #添加标签\n",
    "        newData.append(channel_features)\n",
    "    trainData = np.array(newData)\n",
    "\n",
    "    return trainData"
   ]
  },
  {
   "cell_type": "code",
   "execution_count": 5,
   "metadata": {
    "ExecuteTime": {
     "end_time": "2021-05-21T09:17:39.235332Z",
     "start_time": "2021-05-21T09:17:39.222837Z"
    }
   },
   "outputs": [],
   "source": [
    "# AllSubFreq = []    #保存所有受试者的频域特征32*40*162\n",
    "# for sub in range(32):\n",
    "#     SubData = loadSub(sub)\n",
    "#     trainData = feature_extraction(SubData)\n",
    "#     AllSubFreq.append(trainData)\n",
    "# AllSubFreq = np.array(AllSubFreq)\n",
    "# print(AllSubFreq.shape)\n",
    "\n",
    "# np.save(\"./rawSignal.npy\",AllSubFreq)"
   ]
  },
  {
   "cell_type": "code",
   "execution_count": 6,
   "metadata": {
    "ExecuteTime": {
     "end_time": "2021-05-21T09:17:39.250964Z",
     "start_time": "2021-05-21T09:17:39.236333Z"
    }
   },
   "outputs": [],
   "source": [
    "def Gaussian_normalization(trainData, testData):\n",
    "    \"\"\"高斯归一化\"\"\"\n",
    "\n",
    "    #训练样本归一化\n",
    "    feature=trainData[:,:-2]\n",
    "    mean=feature.mean(axis=0)\n",
    "    std=feature.std(axis=0)\n",
    "    feature-=mean\n",
    "    feature/=std\n",
    "    trainData[:,:-2] = feature\n",
    "\n",
    "    #测试样本归一化\n",
    "    feature=testData[:,:-2]\n",
    "    feature-=mean\n",
    "    feature/=std\n",
    "    testData[:,:-2] = feature\n",
    "\n",
    "    return trainData, testData"
   ]
  },
  {
   "cell_type": "code",
   "execution_count": 7,
   "metadata": {
    "ExecuteTime": {
     "end_time": "2021-05-21T09:17:39.439865Z",
     "start_time": "2021-05-21T09:17:39.252600Z"
    }
   },
   "outputs": [],
   "source": [
    "from sklearn import svm\n",
    "from sklearn.preprocessing import normalize\n",
    "from sklearn.ensemble import RandomForestClassifier\n",
    "from sklearn.neighbors import KNeighborsClassifier\n",
    "from sklearn.naive_bayes import GaussianNB\n",
    "from sklearn.naive_bayes import MultinomialNB\n",
    "from sklearn.metrics import accuracy_score\n",
    "\n",
    "def trainModel(trainData, testData, Edim):\n",
    "    dim = Edim\n",
    "    \n",
    "    trainLabel = trainData[:, -2:]\n",
    "    trainData = trainData[:, :-2]\n",
    "    trainLabel = trainLabel[:, dim]\n",
    "    \n",
    "    testLabel = testData[:, -2:]\n",
    "    testData = testData[:, :-2]\n",
    "    testLabel = testLabel[:, dim]\n",
    "    \n",
    "#     svmModel = svm.SVC()\n",
    "#     svmModel.fit(data_training, valtrain) \n",
    "#     ypredict=svmModel.predict(data_testing)\n",
    "#     print(\"SVMacc：\",accuracy_score(ypredict,valtest)) \n",
    "\n",
    "    rfModel = RandomForestClassifier(n_estimators=512, n_jobs=16)\n",
    "    rfModel.fit(trainData, trainLabel)\n",
    "    ypredict = rfModel.predict(testData)\n",
    "    acc = accuracy_score(ypredict,testLabel)\n",
    "    print(\"acc = {:.2f}\".format(acc), end = '\\t')\n",
    "    return acc"
   ]
  },
  {
   "cell_type": "code",
   "execution_count": 8,
   "metadata": {
    "ExecuteTime": {
     "end_time": "2021-05-21T09:17:53.253047Z",
     "start_time": "2021-05-21T09:17:39.441858Z"
    }
   },
   "outputs": [
    {
     "name": "stdout",
     "output_type": "stream",
     "text": [
      "trainNum.shape = (1024, 162), testNum.shape = (256, 162)\n",
      "seed =  0 : ypredict <class 'numpy.ndarray'> (256,)\n",
      "testLabel <class 'numpy.ndarray'> (256,)\n",
      "acc = 0.60\tseed =  1 : ypredict <class 'numpy.ndarray'> (256,)\n",
      "testLabel <class 'numpy.ndarray'> (256,)\n",
      "acc = 0.64\tseed =  2 : ypredict <class 'numpy.ndarray'> (256,)\n",
      "testLabel <class 'numpy.ndarray'> (256,)\n",
      "acc = 0.65\tseed =  3 : ypredict <class 'numpy.ndarray'> (256,)\n",
      "testLabel <class 'numpy.ndarray'> (256,)\n",
      "acc = 0.66\tseed =  4 : ypredict <class 'numpy.ndarray'> (256,)\n",
      "testLabel <class 'numpy.ndarray'> (256,)\n",
      "acc = 0.67\tseed =  5 : ypredict <class 'numpy.ndarray'> (256,)\n",
      "testLabel <class 'numpy.ndarray'> (256,)\n",
      "acc = 0.67\tseed =  6 : ypredict <class 'numpy.ndarray'> (256,)\n",
      "testLabel <class 'numpy.ndarray'> (256,)\n",
      "acc = 0.58\tseed =  7 : ypredict <class 'numpy.ndarray'> (256,)\n",
      "testLabel <class 'numpy.ndarray'> (256,)\n",
      "acc = 0.66\tseed =  8 : ypredict <class 'numpy.ndarray'> (256,)\n",
      "testLabel <class 'numpy.ndarray'> (256,)\n",
      "acc = 0.62\tseed =  9 : ypredict <class 'numpy.ndarray'> (256,)\n",
      "testLabel <class 'numpy.ndarray'> (256,)\n",
      "acc = 0.60\tseed =  10 : ypredict <class 'numpy.ndarray'> (256,)\n",
      "testLabel <class 'numpy.ndarray'> (256,)\n",
      "acc = 0.71\tseed =  11 : ypredict <class 'numpy.ndarray'> (256,)\n",
      "testLabel <class 'numpy.ndarray'> (256,)\n",
      "acc = 0.62\tseed =  12 : ypredict <class 'numpy.ndarray'> (256,)\n",
      "testLabel <class 'numpy.ndarray'> (256,)\n",
      "acc = 0.67\tseed =  13 : ypredict <class 'numpy.ndarray'> (256,)\n",
      "testLabel <class 'numpy.ndarray'> (256,)\n",
      "acc = 0.59\tseed =  14 : ypredict <class 'numpy.ndarray'> (256,)\n",
      "testLabel <class 'numpy.ndarray'> (256,)\n",
      "acc = 0.66\tseed =  15 : ypredict <class 'numpy.ndarray'> (256,)\n",
      "testLabel <class 'numpy.ndarray'> (256,)\n",
      "acc = 0.73\tseed =  16 : ypredict <class 'numpy.ndarray'> (256,)\n",
      "testLabel <class 'numpy.ndarray'> (256,)\n",
      "acc = 0.67\tseed =  17 : "
     ]
    },
    {
     "ename": "KeyboardInterrupt",
     "evalue": "",
     "output_type": "error",
     "traceback": [
      "\u001b[1;31m---------------------------------------------------------------------------\u001b[0m",
      "\u001b[1;31mKeyboardInterrupt\u001b[0m                         Traceback (most recent call last)",
      "\u001b[1;32m<ipython-input-8-ab1779a7326c>\u001b[0m in \u001b[0;36m<module>\u001b[1;34m\u001b[0m\n\u001b[0;32m     22\u001b[0m     \u001b[1;31m# 训练\u001b[0m\u001b[1;33m\u001b[0m\u001b[1;33m\u001b[0m\u001b[1;33m\u001b[0m\u001b[0m\n\u001b[0;32m     23\u001b[0m     \u001b[0mprint\u001b[0m\u001b[1;33m(\u001b[0m\u001b[1;34m'seed = '\u001b[0m\u001b[1;33m,\u001b[0m \u001b[0mSEED\u001b[0m\u001b[1;33m,\u001b[0m \u001b[0mend\u001b[0m \u001b[1;33m=\u001b[0m \u001b[1;34m' : '\u001b[0m\u001b[1;33m)\u001b[0m\u001b[1;33m\u001b[0m\u001b[1;33m\u001b[0m\u001b[0m\n\u001b[1;32m---> 24\u001b[1;33m     \u001b[0macc\u001b[0m \u001b[1;33m=\u001b[0m \u001b[0mtrainModel\u001b[0m\u001b[1;33m(\u001b[0m\u001b[0mtrainSet\u001b[0m\u001b[1;33m,\u001b[0m \u001b[0mtestSet\u001b[0m\u001b[1;33m,\u001b[0m \u001b[0mEdim\u001b[0m\u001b[1;33m)\u001b[0m\u001b[1;33m\u001b[0m\u001b[1;33m\u001b[0m\u001b[0m\n\u001b[0m\u001b[0;32m     25\u001b[0m     \u001b[0mallAcc\u001b[0m\u001b[1;33m.\u001b[0m\u001b[0mappend\u001b[0m\u001b[1;33m(\u001b[0m\u001b[0macc\u001b[0m\u001b[1;33m)\u001b[0m\u001b[1;33m\u001b[0m\u001b[1;33m\u001b[0m\u001b[0m\n",
      "\u001b[1;32m<ipython-input-7-f51c0602be47>\u001b[0m in \u001b[0;36mtrainModel\u001b[1;34m(trainData, testData, Edim)\u001b[0m\n\u001b[0;32m     24\u001b[0m \u001b[1;33m\u001b[0m\u001b[0m\n\u001b[0;32m     25\u001b[0m     \u001b[0mrfModel\u001b[0m \u001b[1;33m=\u001b[0m \u001b[0mRandomForestClassifier\u001b[0m\u001b[1;33m(\u001b[0m\u001b[0mn_estimators\u001b[0m\u001b[1;33m=\u001b[0m\u001b[1;36m512\u001b[0m\u001b[1;33m,\u001b[0m \u001b[0mn_jobs\u001b[0m\u001b[1;33m=\u001b[0m\u001b[1;36m16\u001b[0m\u001b[1;33m)\u001b[0m\u001b[1;33m\u001b[0m\u001b[1;33m\u001b[0m\u001b[0m\n\u001b[1;32m---> 26\u001b[1;33m     \u001b[0mrfModel\u001b[0m\u001b[1;33m.\u001b[0m\u001b[0mfit\u001b[0m\u001b[1;33m(\u001b[0m\u001b[0mtrainData\u001b[0m\u001b[1;33m,\u001b[0m \u001b[0mtrainLabel\u001b[0m\u001b[1;33m)\u001b[0m\u001b[1;33m\u001b[0m\u001b[1;33m\u001b[0m\u001b[0m\n\u001b[0m\u001b[0;32m     27\u001b[0m     \u001b[0mypredict\u001b[0m \u001b[1;33m=\u001b[0m \u001b[0mrfModel\u001b[0m\u001b[1;33m.\u001b[0m\u001b[0mpredict\u001b[0m\u001b[1;33m(\u001b[0m\u001b[0mtestData\u001b[0m\u001b[1;33m)\u001b[0m\u001b[1;33m\u001b[0m\u001b[1;33m\u001b[0m\u001b[0m\n\u001b[0;32m     28\u001b[0m     \u001b[0mprint\u001b[0m\u001b[1;33m(\u001b[0m\u001b[1;34m'ypredict'\u001b[0m\u001b[1;33m,\u001b[0m\u001b[0mtype\u001b[0m\u001b[1;33m(\u001b[0m\u001b[0mypredict\u001b[0m\u001b[1;33m)\u001b[0m\u001b[1;33m,\u001b[0m\u001b[0mypredict\u001b[0m\u001b[1;33m.\u001b[0m\u001b[0mshape\u001b[0m\u001b[1;33m)\u001b[0m\u001b[1;33m\u001b[0m\u001b[1;33m\u001b[0m\u001b[0m\n",
      "\u001b[1;32mD:\\anconda202007\\envs\\python37\\lib\\site-packages\\sklearn\\ensemble\\_forest.py\u001b[0m in \u001b[0;36mfit\u001b[1;34m(self, X, y, sample_weight)\u001b[0m\n\u001b[0;32m    376\u001b[0m             trees = [self._make_estimator(append=False,\n\u001b[0;32m    377\u001b[0m                                           random_state=random_state)\n\u001b[1;32m--> 378\u001b[1;33m                      for i in range(n_more_estimators)]\n\u001b[0m\u001b[0;32m    379\u001b[0m \u001b[1;33m\u001b[0m\u001b[0m\n\u001b[0;32m    380\u001b[0m             \u001b[1;31m# Parallel loop: we prefer the threading backend as the Cython code\u001b[0m\u001b[1;33m\u001b[0m\u001b[1;33m\u001b[0m\u001b[1;33m\u001b[0m\u001b[0m\n",
      "\u001b[1;32mD:\\anconda202007\\envs\\python37\\lib\\site-packages\\sklearn\\ensemble\\_forest.py\u001b[0m in \u001b[0;36m<listcomp>\u001b[1;34m(.0)\u001b[0m\n\u001b[0;32m    376\u001b[0m             trees = [self._make_estimator(append=False,\n\u001b[0;32m    377\u001b[0m                                           random_state=random_state)\n\u001b[1;32m--> 378\u001b[1;33m                      for i in range(n_more_estimators)]\n\u001b[0m\u001b[0;32m    379\u001b[0m \u001b[1;33m\u001b[0m\u001b[0m\n\u001b[0;32m    380\u001b[0m             \u001b[1;31m# Parallel loop: we prefer the threading backend as the Cython code\u001b[0m\u001b[1;33m\u001b[0m\u001b[1;33m\u001b[0m\u001b[1;33m\u001b[0m\u001b[0m\n",
      "\u001b[1;32mD:\\anconda202007\\envs\\python37\\lib\\site-packages\\sklearn\\ensemble\\_base.py\u001b[0m in \u001b[0;36m_make_estimator\u001b[1;34m(self, append, random_state)\u001b[0m\n\u001b[0;32m    149\u001b[0m         \u001b[0msub\u001b[0m\u001b[1;33m-\u001b[0m\u001b[0mestimators\u001b[0m\u001b[1;33m.\u001b[0m\u001b[1;33m\u001b[0m\u001b[1;33m\u001b[0m\u001b[0m\n\u001b[0;32m    150\u001b[0m         \"\"\"\n\u001b[1;32m--> 151\u001b[1;33m         \u001b[0mestimator\u001b[0m \u001b[1;33m=\u001b[0m \u001b[0mclone\u001b[0m\u001b[1;33m(\u001b[0m\u001b[0mself\u001b[0m\u001b[1;33m.\u001b[0m\u001b[0mbase_estimator_\u001b[0m\u001b[1;33m)\u001b[0m\u001b[1;33m\u001b[0m\u001b[1;33m\u001b[0m\u001b[0m\n\u001b[0m\u001b[0;32m    152\u001b[0m         estimator.set_params(**{p: getattr(self, p)\n\u001b[0;32m    153\u001b[0m                                 for p in self.estimator_params})\n",
      "\u001b[1;32mD:\\anconda202007\\envs\\python37\\lib\\site-packages\\sklearn\\utils\\validation.py\u001b[0m in \u001b[0;36minner_f\u001b[1;34m(*args, **kwargs)\u001b[0m\n\u001b[0;32m     70\u001b[0m                           FutureWarning)\n\u001b[0;32m     71\u001b[0m         \u001b[0mkwargs\u001b[0m\u001b[1;33m.\u001b[0m\u001b[0mupdate\u001b[0m\u001b[1;33m(\u001b[0m\u001b[1;33m{\u001b[0m\u001b[0mk\u001b[0m\u001b[1;33m:\u001b[0m \u001b[0marg\u001b[0m \u001b[1;32mfor\u001b[0m \u001b[0mk\u001b[0m\u001b[1;33m,\u001b[0m \u001b[0marg\u001b[0m \u001b[1;32min\u001b[0m \u001b[0mzip\u001b[0m\u001b[1;33m(\u001b[0m\u001b[0msig\u001b[0m\u001b[1;33m.\u001b[0m\u001b[0mparameters\u001b[0m\u001b[1;33m,\u001b[0m \u001b[0margs\u001b[0m\u001b[1;33m)\u001b[0m\u001b[1;33m}\u001b[0m\u001b[1;33m)\u001b[0m\u001b[1;33m\u001b[0m\u001b[1;33m\u001b[0m\u001b[0m\n\u001b[1;32m---> 72\u001b[1;33m         \u001b[1;32mreturn\u001b[0m \u001b[0mf\u001b[0m\u001b[1;33m(\u001b[0m\u001b[1;33m**\u001b[0m\u001b[0mkwargs\u001b[0m\u001b[1;33m)\u001b[0m\u001b[1;33m\u001b[0m\u001b[1;33m\u001b[0m\u001b[0m\n\u001b[0m\u001b[0;32m     73\u001b[0m     \u001b[1;32mreturn\u001b[0m \u001b[0minner_f\u001b[0m\u001b[1;33m\u001b[0m\u001b[1;33m\u001b[0m\u001b[0m\n\u001b[0;32m     74\u001b[0m \u001b[1;33m\u001b[0m\u001b[0m\n",
      "\u001b[1;32mD:\\anconda202007\\envs\\python37\\lib\\site-packages\\sklearn\\base.py\u001b[0m in \u001b[0;36mclone\u001b[1;34m(estimator, safe)\u001b[0m\n\u001b[0;32m     85\u001b[0m     \u001b[0mnew_object_params\u001b[0m \u001b[1;33m=\u001b[0m \u001b[0mestimator\u001b[0m\u001b[1;33m.\u001b[0m\u001b[0mget_params\u001b[0m\u001b[1;33m(\u001b[0m\u001b[0mdeep\u001b[0m\u001b[1;33m=\u001b[0m\u001b[1;32mFalse\u001b[0m\u001b[1;33m)\u001b[0m\u001b[1;33m\u001b[0m\u001b[1;33m\u001b[0m\u001b[0m\n\u001b[0;32m     86\u001b[0m     \u001b[1;32mfor\u001b[0m \u001b[0mname\u001b[0m\u001b[1;33m,\u001b[0m \u001b[0mparam\u001b[0m \u001b[1;32min\u001b[0m \u001b[0mnew_object_params\u001b[0m\u001b[1;33m.\u001b[0m\u001b[0mitems\u001b[0m\u001b[1;33m(\u001b[0m\u001b[1;33m)\u001b[0m\u001b[1;33m:\u001b[0m\u001b[1;33m\u001b[0m\u001b[1;33m\u001b[0m\u001b[0m\n\u001b[1;32m---> 87\u001b[1;33m         \u001b[0mnew_object_params\u001b[0m\u001b[1;33m[\u001b[0m\u001b[0mname\u001b[0m\u001b[1;33m]\u001b[0m \u001b[1;33m=\u001b[0m \u001b[0mclone\u001b[0m\u001b[1;33m(\u001b[0m\u001b[0mparam\u001b[0m\u001b[1;33m,\u001b[0m \u001b[0msafe\u001b[0m\u001b[1;33m=\u001b[0m\u001b[1;32mFalse\u001b[0m\u001b[1;33m)\u001b[0m\u001b[1;33m\u001b[0m\u001b[1;33m\u001b[0m\u001b[0m\n\u001b[0m\u001b[0;32m     88\u001b[0m     \u001b[0mnew_object\u001b[0m \u001b[1;33m=\u001b[0m \u001b[0mklass\u001b[0m\u001b[1;33m(\u001b[0m\u001b[1;33m**\u001b[0m\u001b[0mnew_object_params\u001b[0m\u001b[1;33m)\u001b[0m\u001b[1;33m\u001b[0m\u001b[1;33m\u001b[0m\u001b[0m\n\u001b[0;32m     89\u001b[0m     \u001b[0mparams_set\u001b[0m \u001b[1;33m=\u001b[0m \u001b[0mnew_object\u001b[0m\u001b[1;33m.\u001b[0m\u001b[0mget_params\u001b[0m\u001b[1;33m(\u001b[0m\u001b[0mdeep\u001b[0m\u001b[1;33m=\u001b[0m\u001b[1;32mFalse\u001b[0m\u001b[1;33m)\u001b[0m\u001b[1;33m\u001b[0m\u001b[1;33m\u001b[0m\u001b[0m\n",
      "\u001b[1;32mD:\\anconda202007\\envs\\python37\\lib\\site-packages\\sklearn\\utils\\validation.py\u001b[0m in \u001b[0;36minner_f\u001b[1;34m(*args, **kwargs)\u001b[0m\n\u001b[0;32m     57\u001b[0m             \u001b[0mkwonly_args\u001b[0m\u001b[1;33m.\u001b[0m\u001b[0mappend\u001b[0m\u001b[1;33m(\u001b[0m\u001b[0mname\u001b[0m\u001b[1;33m)\u001b[0m\u001b[1;33m\u001b[0m\u001b[1;33m\u001b[0m\u001b[0m\n\u001b[0;32m     58\u001b[0m \u001b[1;33m\u001b[0m\u001b[0m\n\u001b[1;32m---> 59\u001b[1;33m     \u001b[1;33m@\u001b[0m\u001b[0mwraps\u001b[0m\u001b[1;33m(\u001b[0m\u001b[0mf\u001b[0m\u001b[1;33m)\u001b[0m\u001b[1;33m\u001b[0m\u001b[1;33m\u001b[0m\u001b[0m\n\u001b[0m\u001b[0;32m     60\u001b[0m     \u001b[1;32mdef\u001b[0m \u001b[0minner_f\u001b[0m\u001b[1;33m(\u001b[0m\u001b[1;33m*\u001b[0m\u001b[0margs\u001b[0m\u001b[1;33m,\u001b[0m \u001b[1;33m**\u001b[0m\u001b[0mkwargs\u001b[0m\u001b[1;33m)\u001b[0m\u001b[1;33m:\u001b[0m\u001b[1;33m\u001b[0m\u001b[1;33m\u001b[0m\u001b[0m\n\u001b[0;32m     61\u001b[0m         \u001b[0mextra_args\u001b[0m \u001b[1;33m=\u001b[0m \u001b[0mlen\u001b[0m\u001b[1;33m(\u001b[0m\u001b[0margs\u001b[0m\u001b[1;33m)\u001b[0m \u001b[1;33m-\u001b[0m \u001b[0mlen\u001b[0m\u001b[1;33m(\u001b[0m\u001b[0mall_args\u001b[0m\u001b[1;33m)\u001b[0m\u001b[1;33m\u001b[0m\u001b[1;33m\u001b[0m\u001b[0m\n",
      "\u001b[1;31mKeyboardInterrupt\u001b[0m: "
     ]
    }
   ],
   "source": [
    "allAcc = []\n",
    "\n",
    "# 数据集划分\n",
    "AllSubFreq = np.load(\"./rawSignal.npy\")\n",
    "AllSubFreq = AllSubFreq.reshape((1280, 162))\n",
    "for SEED in range(100):\n",
    "    np.random.seed(SEED)\n",
    "    np.random.shuffle(AllSubFreq)\n",
    "    ratio = 0.8\n",
    "    trainSet = AllSubFreq[:int(ratio * AllSubFreq.shape[0])]\n",
    "    testSet = AllSubFreq[int(ratio * AllSubFreq.shape[0]):]\n",
    "\n",
    "    if SEED == 0:\n",
    "        print('trainNum.shape = {}, testNum.shape = {}'.format(trainSet.shape, testSet.shape))\n",
    "\n",
    "    #------------------------------------是否归一化------------------------------------\n",
    "    normal = True\n",
    "    Edim = 0\n",
    "    if normal:\n",
    "        trainSet, testSet = Gaussian_normalization(trainSet, testSet)\n",
    "\n",
    "    # 训练\n",
    "    print('seed = ', SEED, end = ' : ')\n",
    "    acc = trainModel(trainSet, testSet, Edim)\n",
    "    allAcc.append(acc)"
   ]
  },
  {
   "cell_type": "code",
   "execution_count": null,
   "metadata": {
    "ExecuteTime": {
     "end_time": "2021-05-21T09:17:53.256039Z",
     "start_time": "2021-05-21T09:17:38.773Z"
    }
   },
   "outputs": [],
   "source": [
    "allAcc = np.array(allAcc)\n",
    "\n",
    "maxIndex = allAcc.argmax()\n",
    "print('meanAcc = ', allAcc.mean(),'seed = ', maxIndex, 'maxAcc = ',allAcc.max(), 'var = ',allAcc.var())"
   ]
  },
  {
   "cell_type": "code",
   "execution_count": null,
   "metadata": {
    "ExecuteTime": {
     "end_time": "2021-05-21T09:17:53.256039Z",
     "start_time": "2021-05-21T09:17:38.773Z"
    }
   },
   "outputs": [],
   "source": [
    "plt.ylim([0,1])\n",
    "plt.xlabel('seed')\n",
    "plt.ylabel('acc')\n",
    "plt.plot(range(1,101), allAcc)"
   ]
  },
  {
   "cell_type": "code",
   "execution_count": null,
   "metadata": {
    "ExecuteTime": {
     "end_time": "2021-05-21T09:17:53.257037Z",
     "start_time": "2021-05-21T09:17:38.774Z"
    }
   },
   "outputs": [],
   "source": [
    "normal = False meanAcc = 0.581\n",
    "normal = True meanAcc = 0.5811"
   ]
  }
 ],
 "metadata": {
  "kernelspec": {
   "display_name": "Python 3",
   "language": "python",
   "name": "python3"
  },
  "language_info": {
   "codemirror_mode": {
    "name": "ipython",
    "version": 3
   },
   "file_extension": ".py",
   "mimetype": "text/x-python",
   "name": "python",
   "nbconvert_exporter": "python",
   "pygments_lexer": "ipython3",
   "version": "3.7.6"
  },
  "toc": {
   "base_numbering": 1,
   "nav_menu": {},
   "number_sections": true,
   "sideBar": true,
   "skip_h1_title": false,
   "title_cell": "Table of Contents",
   "title_sidebar": "Contents",
   "toc_cell": false,
   "toc_position": {},
   "toc_section_display": true,
   "toc_window_display": false
  },
  "varInspector": {
   "cols": {
    "lenName": 16,
    "lenType": 16,
    "lenVar": 40
   },
   "kernels_config": {
    "python": {
     "delete_cmd_postfix": "",
     "delete_cmd_prefix": "del ",
     "library": "var_list.py",
     "varRefreshCmd": "print(var_dic_list())"
    },
    "r": {
     "delete_cmd_postfix": ") ",
     "delete_cmd_prefix": "rm(",
     "library": "var_list.r",
     "varRefreshCmd": "cat(var_dic_list()) "
    }
   },
   "types_to_exclude": [
    "module",
    "function",
    "builtin_function_or_method",
    "instance",
    "_Feature"
   ],
   "window_display": false
  }
 },
 "nbformat": 4,
 "nbformat_minor": 1
}

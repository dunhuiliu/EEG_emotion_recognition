{
 "cells": [
  {
   "cell_type": "markdown",
   "metadata": {},
   "source": [
    "### 身份识别：每个人打相同的标签\n",
    "### 电影识别：每个电影打相同的标签"
   ]
  },
  {
   "cell_type": "code",
   "execution_count": 1,
   "metadata": {
    "ExecuteTime": {
     "end_time": "2021-05-08T08:36:24.884448Z",
     "start_time": "2021-05-08T08:36:24.652482Z"
    }
   },
   "outputs": [],
   "source": [
    "import numpy as np\n",
    "import pyeeg as pe\n",
    "import matplotlib.pyplot as plt"
   ]
  },
  {
   "cell_type": "code",
   "execution_count": 2,
   "metadata": {
    "ExecuteTime": {
     "end_time": "2021-05-08T08:36:24.899669Z",
     "start_time": "2021-05-08T08:36:24.885694Z"
    }
   },
   "outputs": [],
   "source": [
    "#加载一个受试者\n",
    "def loadSub(sub):\n",
    "    dir='E:\\JupyterNotebookWorkSpace\\dataSet\\\\1280x258050(32x8064+2).npy'\n",
    "    data=np.load(dir)\n",
    "    subData = data[sub * 40 : (sub + 1) * 40, :-2]\n",
    "    return subData, np.array([sub for _ in range(40)]).reshape((-1, 1))"
   ]
  },
  {
   "cell_type": "code",
   "execution_count": 3,
   "metadata": {
    "ExecuteTime": {
     "end_time": "2021-05-08T08:36:24.915652Z",
     "start_time": "2021-05-08T08:36:24.900663Z"
    }
   },
   "outputs": [],
   "source": [
    "# #数据集切60片，基线单独返回\n",
    "# def data_session(subData):\n",
    "#     features = subData[:,:-2]\n",
    "#     labels = subData[:,-2:]\n",
    "#     features = features.reshape(40,32,-1)\n",
    "#     features = features[:,:,384:]\n",
    "    \n",
    "#     dataList = []\n",
    "#     for i in range(40):\n",
    "#         for j in range(60):\n",
    "#             dataList.append(np.append(features[i][ : , j * 128 : (j + 1) * 128].reshape(-1) , labels[i]))\n",
    "\n",
    "#     dataList = np.array(dataList)\n",
    "\n",
    "#     return dataList"
   ]
  },
  {
   "cell_type": "code",
   "execution_count": 4,
   "metadata": {
    "ExecuteTime": {
     "end_time": "2021-05-08T08:36:24.931605Z",
     "start_time": "2021-05-08T08:36:24.916646Z"
    }
   },
   "outputs": [],
   "source": [
    "#特征提取\n",
    "def feature_extraction(trainData):\n",
    "\n",
    "    band = [4,8,13,16,30,45] #5 bands    band = [4,8,12,16,25,45]\n",
    "    sample_rate = 128 #Sampling rate of 128 Hz\n",
    "\n",
    "    features = trainData.reshape(trainData.shape[0], 32, 8064)\n",
    "    features = features[:, :, 384:]\n",
    "\n",
    "    newData=[]\n",
    "    for i in range(features.shape[0]):    #样本数\n",
    "        channel_features=[]\n",
    "        for j in range(32):\n",
    "            X = features[i][j]\n",
    "            Y = pe.bin_power(X, band, sample_rate)\n",
    "            channel_features += list(Y[0])\n",
    "        newData.append(np.array(channel_features))\n",
    "    trainData = np.array(newData)\n",
    "\n",
    "    return trainData"
   ]
  },
  {
   "cell_type": "code",
   "execution_count": 5,
   "metadata": {
    "ExecuteTime": {
     "end_time": "2021-05-08T08:36:24.946759Z",
     "start_time": "2021-05-08T08:36:24.932602Z"
    }
   },
   "outputs": [],
   "source": [
    "# AllSubFreq = []    #保存所有受试者的频域特征32*40*162\n",
    "# for sub in range(32):\n",
    "#     SubData, label = loadSub(sub)\n",
    "#     trainData = feature_extraction(SubData)\n",
    "#     AllSubFreq.append(np.append(trainData, label, axis = 1))\n",
    "# AllSubFreq = np.array(AllSubFreq)\n",
    "# print(AllSubFreq.shape) #(32, 40, 161)\n",
    "# print(AllSubFreq)\n",
    "# np.save(\"./rawSignal.npy\",AllSubFreq)"
   ]
  },
  {
   "cell_type": "code",
   "execution_count": 6,
   "metadata": {
    "ExecuteTime": {
     "end_time": "2021-05-08T08:36:24.962547Z",
     "start_time": "2021-05-08T08:36:24.947624Z"
    }
   },
   "outputs": [],
   "source": [
    "def Gaussian_normalization(trainData, testData):\n",
    "    \"\"\"高斯归一化\"\"\"\n",
    "\n",
    "    #训练样本归一化\n",
    "    feature=trainData[:,:-1]\n",
    "    mean=feature.mean(axis=0)\n",
    "    std=feature.std(axis=0)\n",
    "    feature-=mean\n",
    "    feature/=std\n",
    "    trainData[:,:-1] = feature\n",
    "\n",
    "    #测试样本归一化\n",
    "    feature=testData[:,:-1]\n",
    "    feature-=mean\n",
    "    feature/=std\n",
    "    testData[:,:-1] = feature\n",
    "\n",
    "    return trainData, testData"
   ]
  },
  {
   "cell_type": "code",
   "execution_count": 7,
   "metadata": {
    "ExecuteTime": {
     "end_time": "2021-05-08T08:36:25.336495Z",
     "start_time": "2021-05-08T08:36:24.964537Z"
    }
   },
   "outputs": [],
   "source": [
    "from sklearn import svm\n",
    "from sklearn.preprocessing import normalize\n",
    "from sklearn.ensemble import RandomForestClassifier\n",
    "from sklearn.neighbors import KNeighborsClassifier\n",
    "from sklearn.naive_bayes import GaussianNB\n",
    "from sklearn.naive_bayes import MultinomialNB\n",
    "from sklearn.metrics import accuracy_score\n",
    "\n",
    "def trainModel(trainData, testData):\n",
    "    \n",
    "    trainLabel = trainData[:, -1]\n",
    "    trainData = trainData[:, :-1]\n",
    "    \n",
    "    testLabel = testData[:, -1]\n",
    "    testData = testData[:, :-1]\n",
    "    \n",
    "#     svmModel = svm.SVC()\n",
    "#     svmModel.fit(data_training, valtrain) \n",
    "#     ypredict=svmModel.predict(data_testing)\n",
    "#     print(\"SVMacc：\",accuracy_score(ypredict,valtest)) \n",
    "\n",
    "    rfModel = RandomForestClassifier(n_estimators=512, n_jobs=16)\n",
    "    rfModel.fit(trainData, trainLabel)\n",
    "    ypredict = rfModel.predict(testData)\n",
    "    acc = accuracy_score(ypredict,testLabel)\n",
    "    print(\"acc = {}\".format(acc), end = '\\t')\n",
    "    return acc"
   ]
  },
  {
   "cell_type": "code",
   "execution_count": 8,
   "metadata": {
    "ExecuteTime": {
     "end_time": "2021-05-08T08:36:52.755611Z",
     "start_time": "2021-05-08T08:36:25.337493Z"
    }
   },
   "outputs": [
    {
     "name": "stdout",
     "output_type": "stream",
     "text": [
      "trainNum.shape = (32, 161), testNum.shape = (1248, 161)\n",
      "trail =  0 : acc = 0.9767628205128205\ttrail =  1 : acc = 0.9639423076923077\ttrail =  2 : acc = 0.9463141025641025\ttrail =  3 : acc = 0.9535256410256411\ttrail =  4 : acc = 0.9751602564102564\ttrail =  5 : acc = 0.9286858974358975\ttrail =  6 : acc = 0.9471153846153846\ttrail =  7 : acc = 0.9735576923076923\ttrail =  8 : acc = 0.9775641025641025\ttrail =  9 : acc = 0.9751602564102564\ttrail =  10 : acc = 0.9775641025641025\ttrail =  11 : acc = 0.9847756410256411\ttrail =  12 : acc = 0.967948717948718\ttrail =  13 : acc = 0.9511217948717948\ttrail =  14 : acc = 0.9735576923076923\ttrail =  15 : acc = 0.9495192307692307\ttrail =  16 : acc = 0.9575320512820513\ttrail =  17 : acc = 0.9471153846153846\ttrail =  18 : acc = 0.9639423076923077\ttrail =  19 : acc = 0.9783653846153846\ttrail =  20 : acc = 0.9791666666666666\ttrail =  21 : acc = 0.9807692307692307\ttrail =  22 : acc = 0.9751602564102564\ttrail =  23 : acc = 0.9551282051282052\ttrail =  24 : acc = 0.9823717948717948\ttrail =  25 : acc = 0.9663461538461539\ttrail =  26 : acc = 0.9743589743589743\ttrail =  27 : acc = 0.9487179487179487\ttrail =  28 : acc = 0.9615384615384616\ttrail =  29 : acc = 0.9743589743589743\ttrail =  30 : acc = 0.9487179487179487\ttrail =  31 : acc = 0.9791666666666666\ttrail =  32 : acc = 0.9775641025641025\ttrail =  33 : acc = 0.9807692307692307\ttrail =  34 : acc = 0.9631410256410257\ttrail =  35 : acc = 0.9527243589743589\ttrail =  36 : acc = 0.9815705128205128\ttrail =  37 : acc = 0.9615384615384616\ttrail =  38 : acc = 0.9647435897435898\ttrail =  39 : acc = 0.9511217948717948\t"
     ]
    }
   ],
   "source": [
    "allAcc = []\n",
    "\n",
    "for trail in range(40):\n",
    "    # 数据集划分\n",
    "    AllSubFreq = np.load(\"./rawSignal.npy\")\n",
    "    trainSet = AllSubFreq[:, trail : trail + 1]\n",
    "    testSet = np.delete(AllSubFreq, trail, axis = 1)\n",
    "    \n",
    "    trainSet = trainSet.reshape((32, 161))\n",
    "    testSet = testSet.reshape((32 * 39, 161))\n",
    "    \n",
    "    if trail == 0:\n",
    "        print('trainNum.shape = {}, testNum.shape = {}'.format(trainSet.shape, testSet.shape))\n",
    "\n",
    "    #------------------------------------是否归一化------------------------------------\n",
    "    normal = True\n",
    "    if normal:\n",
    "        trainSet, testSet = Gaussian_normalization(trainSet, testSet)\n",
    "\n",
    "    # 训练\n",
    "    print('trail = ', trail, end = ' : ')\n",
    "    acc = trainModel(trainSet, testSet)\n",
    "    allAcc.append(acc)"
   ]
  },
  {
   "cell_type": "code",
   "execution_count": 9,
   "metadata": {
    "ExecuteTime": {
     "end_time": "2021-05-08T08:36:52.771411Z",
     "start_time": "2021-05-08T08:36:52.756605Z"
    }
   },
   "outputs": [
    {
     "name": "stdout",
     "output_type": "stream",
     "text": [
      "meanAcc =  0.9657051282051281 trail =  11 maxAcc =  0.9847756410256411 var =  0.00018016647148257712\n"
     ]
    }
   ],
   "source": [
    "allAcc = np.array(allAcc)\n",
    "\n",
    "maxIndex = allAcc.argmax()\n",
    "print('meanAcc = ', allAcc.mean(),'trail = ', maxIndex, 'maxAcc = ',allAcc.max(), 'var = ',allAcc.var())"
   ]
  },
  {
   "cell_type": "code",
   "execution_count": 10,
   "metadata": {
    "ExecuteTime": {
     "end_time": "2021-05-08T08:36:52.863906Z",
     "start_time": "2021-05-08T08:36:52.772404Z"
    }
   },
   "outputs": [
    {
     "data": {
      "text/plain": [
       "[<matplotlib.lines.Line2D at 0x1bfa46dd688>]"
      ]
     },
     "execution_count": 10,
     "metadata": {},
     "output_type": "execute_result"
    },
    {
     "data": {
      "image/png": "[encoded data removed]",
      "text/plain": [
       "<Figure size 432x288 with 1 Axes>"
      ]
     },
     "metadata": {
      "needs_background": "light"
     },
     "output_type": "display_data"
    }
   ],
   "source": [
    "plt.ylim([0,1])\n",
    "plt.xlabel('trail')\n",
    "plt.ylabel('acc')\n",
    "plt.plot(range(1,41), allAcc)"
   ]
  },
  {
   "cell_type": "code",
   "execution_count": 11,
   "metadata": {
    "ExecuteTime": {
     "end_time": "2021-05-08T08:36:52.878774Z",
     "start_time": "2021-05-08T08:36:52.864899Z"
    }
   },
   "outputs": [
    {
     "data": {
      "text/plain": [
       "0.99628125"
      ]
     },
     "execution_count": 11,
     "metadata": {},
     "output_type": "execute_result"
    }
   ],
   "source": [
    "0.99628125"
   ]
  }
 ],
 "metadata": {
  "kernelspec": {
   "display_name": "Python 3",
   "language": "python",
   "name": "python3"
  },
  "language_info": {
   "codemirror_mode": {
    "name": "ipython",
    "version": 3
   },
   "file_extension": ".py",
   "mimetype": "text/x-python",
   "name": "python",
   "nbconvert_exporter": "python",
   "pygments_lexer": "ipython3",
   "version": "3.7.6"
  },
  "toc": {
   "base_numbering": 1,
   "nav_menu": {},
   "number_sections": true,
   "sideBar": true,
   "skip_h1_title": false,
   "title_cell": "Table of Contents",
   "title_sidebar": "Contents",
   "toc_cell": false,
   "toc_position": {},
   "toc_section_display": true,
   "toc_window_display": false
  },
  "varInspector": {
   "cols": {
    "lenName": 16,
    "lenType": 16,
    "lenVar": 40
   },
   "kernels_config": {
    "python": {
     "delete_cmd_postfix": "",
     "delete_cmd_prefix": "del ",
     "library": "var_list.py",
     "varRefreshCmd": "print(var_dic_list())"
    },
    "r": {
     "delete_cmd_postfix": ") ",
     "delete_cmd_prefix": "rm(",
     "library": "var_list.r",
     "varRefreshCmd": "cat(var_dic_list()) "
    }
   },
   "types_to_exclude": [
    "module",
    "function",
    "builtin_function_or_method",
    "instance",
    "_Feature"
   ],
   "window_display": false
  }
 },
 "nbformat": 4,
 "nbformat_minor": 1
}

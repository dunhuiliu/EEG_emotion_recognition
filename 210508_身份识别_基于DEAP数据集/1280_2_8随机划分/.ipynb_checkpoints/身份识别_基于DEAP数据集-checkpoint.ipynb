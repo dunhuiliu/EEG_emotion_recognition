{
 "cells": [
  {
   "cell_type": "markdown",
   "metadata": {},
   "source": [
    "### 身份识别：每个人打相同的标签\n",
    "### 电影识别：每个电影打相同的标签"
   ]
  },
  {
   "cell_type": "code",
   "execution_count": 1,
   "metadata": {
    "ExecuteTime": {
     "end_time": "2021-05-11T14:36:26.903309Z",
     "start_time": "2021-05-11T14:36:26.690372Z"
    }
   },
   "outputs": [],
   "source": [
    "import numpy as np\n",
    "import pyeeg as pe\n",
    "import matplotlib.pyplot as plt"
   ]
  },
  {
   "cell_type": "code",
   "execution_count": 2,
   "metadata": {
    "ExecuteTime": {
     "end_time": "2021-05-11T14:36:26.919265Z",
     "start_time": "2021-05-11T14:36:26.904307Z"
    }
   },
   "outputs": [],
   "source": [
    "#加载一个受试者\n",
    "def loadSub(sub):\n",
    "    dir='E:\\JupyterNotebookWorkSpace\\dataSet\\\\1280x258050(32x8064+2).npy'\n",
    "    data=np.load(dir)\n",
    "    subData = data[sub * 40 : (sub + 1) * 40, :-2]\n",
    "    return subData, np.array([sub for _ in range(40)]).reshape((-1, 1))"
   ]
  },
  {
   "cell_type": "code",
   "execution_count": 3,
   "metadata": {
    "ExecuteTime": {
     "end_time": "2021-05-11T14:36:26.934226Z",
     "start_time": "2021-05-11T14:36:26.921261Z"
    }
   },
   "outputs": [],
   "source": [
    "# #数据集切60片，基线单独返回\n",
    "# def data_session(subData):\n",
    "#     features = subData[:,:-2]\n",
    "#     labels = subData[:,-2:]\n",
    "#     features = features.reshape(40,32,-1)\n",
    "#     features = features[:,:,384:]\n",
    "    \n",
    "#     dataList = []\n",
    "#     for i in range(40):\n",
    "#         for j in range(60):\n",
    "#             dataList.append(np.append(features[i][ : , j * 128 : (j + 1) * 128].reshape(-1) , labels[i]))\n",
    "\n",
    "#     dataList = np.array(dataList)\n",
    "\n",
    "#     return dataList"
   ]
  },
  {
   "cell_type": "code",
   "execution_count": 4,
   "metadata": {
    "ExecuteTime": {
     "end_time": "2021-05-11T14:36:26.949186Z",
     "start_time": "2021-05-11T14:36:26.935224Z"
    }
   },
   "outputs": [],
   "source": [
    "#特征提取\n",
    "def feature_extraction(trainData):\n",
    "\n",
    "    band = [4,8,13,16,30,45] #5 bands    band = [4,8,12,16,25,45]\n",
    "    sample_rate = 128 #Sampling rate of 128 Hz\n",
    "\n",
    "    features = trainData.reshape(trainData.shape[0], 32, 8064)\n",
    "    features = features[:, :, 384:]\n",
    "\n",
    "    newData=[]\n",
    "    for i in range(features.shape[0]):    #样本数\n",
    "        channel_features=[]\n",
    "        for j in range(32):\n",
    "            X = features[i][j]\n",
    "            Y = pe.bin_power(X, band, sample_rate)\n",
    "            channel_features += list(Y[0])\n",
    "        newData.append(np.array(channel_features))\n",
    "    trainData = np.array(newData)\n",
    "\n",
    "    return trainData"
   ]
  },
  {
   "cell_type": "code",
   "execution_count": 5,
   "metadata": {
    "ExecuteTime": {
     "end_time": "2021-05-11T14:36:26.965143Z",
     "start_time": "2021-05-11T14:36:26.950184Z"
    }
   },
   "outputs": [],
   "source": [
    "# AllSubFreq = []    #保存所有受试者的频域特征32*40*162\n",
    "# for sub in range(32):\n",
    "#     SubData, label = loadSub(sub)\n",
    "#     trainData = feature_extraction(SubData)\n",
    "#     AllSubFreq.append(np.append(trainData, label, axis = 1))\n",
    "# AllSubFreq = np.array(AllSubFreq)\n",
    "# print(AllSubFreq.shape) #(32, 40, 161)\n",
    "# print(AllSubFreq)\n",
    "# np.save(\"./rawSignal.npy\",AllSubFreq)"
   ]
  },
  {
   "cell_type": "code",
   "execution_count": 6,
   "metadata": {
    "ExecuteTime": {
     "end_time": "2021-05-11T14:36:26.980103Z",
     "start_time": "2021-05-11T14:36:26.967138Z"
    }
   },
   "outputs": [],
   "source": [
    "def Gaussian_normalization(trainData, testData):\n",
    "    \"\"\"高斯归一化\"\"\"\n",
    "\n",
    "    #训练样本归一化\n",
    "    feature=trainData[:,:-1]\n",
    "    mean=feature.mean(axis=0)\n",
    "    std=feature.std(axis=0)\n",
    "    feature-=mean\n",
    "    feature/=std\n",
    "    trainData[:,:-1] = feature\n",
    "\n",
    "    #测试样本归一化\n",
    "    feature=testData[:,:-1]\n",
    "    feature-=mean\n",
    "    feature/=std\n",
    "    testData[:,:-1] = feature\n",
    "\n",
    "    return trainData, testData"
   ]
  },
  {
   "cell_type": "code",
   "execution_count": 7,
   "metadata": {
    "ExecuteTime": {
     "end_time": "2021-05-11T14:36:27.364115Z",
     "start_time": "2021-05-11T14:36:26.981101Z"
    }
   },
   "outputs": [],
   "source": [
    "from sklearn import svm\n",
    "from sklearn.preprocessing import normalize\n",
    "from sklearn.ensemble import RandomForestClassifier\n",
    "from sklearn.neighbors import KNeighborsClassifier\n",
    "from sklearn.naive_bayes import GaussianNB\n",
    "from sklearn.naive_bayes import MultinomialNB\n",
    "from sklearn.metrics import accuracy_score\n",
    "\n",
    "def trainModel(trainData, testData):\n",
    "    \n",
    "    trainLabel = trainData[:, -1]\n",
    "    trainData = trainData[:, :-1]\n",
    "    \n",
    "    testLabel = testData[:, -1]\n",
    "    testData = testData[:, :-1]\n",
    "    \n",
    "#     svmModel = svm.SVC()\n",
    "#     svmModel.fit(data_training, valtrain) \n",
    "#     ypredict=svmModel.predict(data_testing)\n",
    "#     print(\"SVMacc：\",accuracy_score(ypredict,valtest)) \n",
    "\n",
    "    rfModel = RandomForestClassifier(n_estimators=512, n_jobs=16)\n",
    "    rfModel.fit(trainData, trainLabel)\n",
    "    ypredict = rfModel.predict(testData)\n",
    "    acc = accuracy_score(ypredict,testLabel)\n",
    "    print(\"acc = {}\".format(acc), end = '\\t')\n",
    "    return acc"
   ]
  },
  {
   "cell_type": "code",
   "execution_count": 8,
   "metadata": {
    "ExecuteTime": {
     "end_time": "2021-05-11T14:37:36.084866Z",
     "start_time": "2021-05-11T14:36:27.365113Z"
    }
   },
   "outputs": [
    {
     "name": "stdout",
     "output_type": "stream",
     "text": [
      "trainNum.shape = (256, 161), testNum.shape = (1024, 161)\n",
      "seed =  0 : acc = 0.986328125\tseed =  1 : acc = 0.98828125\tseed =  2 : acc = 0.98828125\tseed =  3 : acc = 0.990234375\tseed =  4 : acc = 0.9931640625\tseed =  5 : acc = 0.978515625\tseed =  6 : acc = 0.99609375\tseed =  7 : acc = 0.9931640625\tseed =  8 : acc = 0.99609375\tseed =  9 : acc = 0.9765625\tseed =  10 : acc = 0.984375\tseed =  11 : acc = 0.990234375\tseed =  12 : acc = 0.990234375\tseed =  13 : acc = 0.9912109375\tseed =  14 : acc = 0.9912109375\tseed =  15 : acc = 0.986328125\tseed =  16 : acc = 0.9892578125\tseed =  17 : acc = 0.9921875\tseed =  18 : acc = 0.99609375\tseed =  19 : acc = 0.9931640625\tseed =  20 : acc = 0.9892578125\tseed =  21 : acc = 0.99609375\tseed =  22 : acc = 0.9873046875\tseed =  23 : acc = 0.990234375\tseed =  24 : acc = 0.9921875\tseed =  25 : acc = 0.96875\tseed =  26 : acc = 0.9912109375\tseed =  27 : acc = 0.990234375\tseed =  28 : acc = 0.9912109375\tseed =  29 : acc = 0.990234375\tseed =  30 : acc = 0.998046875\tseed =  31 : acc = 0.9921875\tseed =  32 : acc = 0.9912109375\tseed =  33 : acc = 0.9921875\tseed =  34 : acc = 0.9921875\tseed =  35 : acc = 0.98828125\tseed =  36 : acc = 0.9912109375\tseed =  37 : acc = 0.9931640625\tseed =  38 : acc = 0.9833984375\tseed =  39 : acc = 0.9931640625\tseed =  40 : acc = 0.994140625\tseed =  41 : acc = 0.9931640625\tseed =  42 : acc = 0.9921875\tseed =  43 : acc = 0.9912109375\tseed =  44 : acc = 0.994140625\tseed =  45 : acc = 0.9912109375\tseed =  46 : acc = 0.994140625\tseed =  47 : acc = 0.9912109375\tseed =  48 : acc = 0.9912109375\tseed =  49 : acc = 0.9921875\tseed =  50 : acc = 0.9921875\tseed =  51 : acc = 0.9892578125\tseed =  52 : acc = 0.9892578125\tseed =  53 : acc = 0.986328125\tseed =  54 : acc = 0.9931640625\tseed =  55 : acc = 0.9931640625\tseed =  56 : acc = 0.9921875\tseed =  57 : acc = 0.9921875\tseed =  58 : acc = 0.9921875\tseed =  59 : acc = 0.9931640625\tseed =  60 : acc = 0.9853515625\tseed =  61 : acc = 0.9970703125\tseed =  62 : acc = 0.986328125\tseed =  63 : acc = 0.9833984375\tseed =  64 : acc = 0.98828125\tseed =  65 : acc = 0.9892578125\tseed =  66 : acc = 0.98828125\tseed =  67 : acc = 0.994140625\tseed =  68 : acc = 0.9892578125\tseed =  69 : acc = 0.994140625\tseed =  70 : acc = 0.9931640625\tseed =  71 : acc = 0.994140625\tseed =  72 : acc = 0.98828125\tseed =  73 : acc = 0.9873046875\tseed =  74 : acc = 0.9853515625\tseed =  75 : acc = 0.9921875\tseed =  76 : acc = 0.9912109375\tseed =  77 : acc = 0.98828125\tseed =  78 : acc = 0.9912109375\tseed =  79 : acc = 0.9921875\tseed =  80 : acc = 0.990234375\tseed =  81 : acc = 0.986328125\tseed =  82 : acc = 0.9853515625\tseed =  83 : acc = 0.99609375\tseed =  84 : acc = 0.9931640625\tseed =  85 : acc = 0.994140625\tseed =  86 : acc = 0.990234375\tseed =  87 : acc = 0.9892578125\tseed =  88 : acc = 0.9912109375\tseed =  89 : acc = 0.99609375\tseed =  90 : acc = 0.99609375\tseed =  91 : acc = 0.9912109375\tseed =  92 : acc = 0.9921875\tseed =  93 : acc = 0.98828125\tseed =  94 : acc = 0.994140625\tseed =  95 : acc = 0.9970703125\tseed =  96 : acc = 0.9931640625\tseed =  97 : acc = 0.9853515625\tseed =  98 : acc = 0.9912109375\tseed =  99 : acc = 0.990234375\t"
     ]
    }
   ],
   "source": [
    "allAcc = []\n",
    "\n",
    "# 数据集划分\n",
    "AllSubFreq = np.load(\"./rawSignal.npy\")\n",
    "AllSubFreq = AllSubFreq.reshape((1280, 161))\n",
    "\n",
    "for SEED in range(100):\n",
    "    np.random.seed(SEED)\n",
    "    np.random.shuffle(AllSubFreq)\n",
    "    ratio = 0.2\n",
    "    trainSet = AllSubFreq[:int(ratio * AllSubFreq.shape[0])]\n",
    "    testSet = AllSubFreq[int(ratio * AllSubFreq.shape[0]):]\n",
    "    \n",
    "    if SEED == 0:\n",
    "        print('trainNum.shape = {}, testNum.shape = {}'.format(trainSet.shape, testSet.shape))\n",
    "\n",
    "    #------------------------------------是否归一化------------------------------------\n",
    "    normal = True\n",
    "    if normal:\n",
    "        trainSet, testSet = Gaussian_normalization(trainSet, testSet)\n",
    "\n",
    "    # 训练\n",
    "    print('seed = ', SEED, end = ' : ')\n",
    "    acc = trainModel(trainSet, testSet)\n",
    "    allAcc.append(acc)"
   ]
  },
  {
   "cell_type": "code",
   "execution_count": 9,
   "metadata": {
    "ExecuteTime": {
     "end_time": "2021-05-11T14:37:36.100823Z",
     "start_time": "2021-05-11T14:37:36.085865Z"
    }
   },
   "outputs": [
    {
     "name": "stdout",
     "output_type": "stream",
     "text": [
      "meanAcc =  0.99060546875 seed =  30 maxAcc =  0.998046875 var =  1.8134689331054683e-05\n"
     ]
    }
   ],
   "source": [
    "allAcc = np.array(allAcc)\n",
    "\n",
    "maxIndex = allAcc.argmax()\n",
    "print('meanAcc = ', allAcc.mean(),'seed = ', maxIndex, 'maxAcc = ',allAcc.max(), 'var = ',allAcc.var())"
   ]
  },
  {
   "cell_type": "code",
   "execution_count": 10,
   "metadata": {
    "ExecuteTime": {
     "end_time": "2021-05-11T14:37:36.194110Z",
     "start_time": "2021-05-11T14:37:36.101821Z"
    }
   },
   "outputs": [
    {
     "data": {
      "text/plain": [
       "[<matplotlib.lines.Line2D at 0x20ea4ff0dc8>]"
      ]
     },
     "execution_count": 10,
     "metadata": {},
     "output_type": "execute_result"
    },
    {
     "data": {
      "image/png": "[encoded data removed]",
      "text/plain": [
       "<Figure size 432x288 with 1 Axes>"
      ]
     },
     "metadata": {
      "needs_background": "light"
     },
     "output_type": "display_data"
    }
   ],
   "source": [
    "plt.ylim([0,1])\n",
    "plt.xlabel('seed')\n",
    "plt.ylabel('acc')\n",
    "plt.plot(range(1,101), allAcc)"
   ]
  }
 ],
 "metadata": {
  "kernelspec": {
   "display_name": "Python 3",
   "language": "python",
   "name": "python3"
  },
  "language_info": {
   "codemirror_mode": {
    "name": "ipython",
    "version": 3
   },
   "file_extension": ".py",
   "mimetype": "text/x-python",
   "name": "python",
   "nbconvert_exporter": "python",
   "pygments_lexer": "ipython3",
   "version": "3.7.6"
  },
  "toc": {
   "base_numbering": 1,
   "nav_menu": {},
   "number_sections": true,
   "sideBar": true,
   "skip_h1_title": false,
   "title_cell": "Table of Contents",
   "title_sidebar": "Contents",
   "toc_cell": false,
   "toc_position": {},
   "toc_section_display": true,
   "toc_window_display": false
  },
  "varInspector": {
   "cols": {
    "lenName": 16,
    "lenType": 16,
    "lenVar": 40
   },
   "kernels_config": {
    "python": {
     "delete_cmd_postfix": "",
     "delete_cmd_prefix": "del ",
     "library": "var_list.py",
     "varRefreshCmd": "print(var_dic_list())"
    },
    "r": {
     "delete_cmd_postfix": ") ",
     "delete_cmd_prefix": "rm(",
     "library": "var_list.r",
     "varRefreshCmd": "cat(var_dic_list()) "
    }
   },
   "types_to_exclude": [
    "module",
    "function",
    "builtin_function_or_method",
    "instance",
    "_Feature"
   ],
   "window_display": false
  }
 },
 "nbformat": 4,
 "nbformat_minor": 1
}

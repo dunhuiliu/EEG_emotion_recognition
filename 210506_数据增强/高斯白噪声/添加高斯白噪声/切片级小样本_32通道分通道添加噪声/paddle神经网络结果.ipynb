{
 "cells": [
  {
   "cell_type": "code",
   "execution_count": 1,
   "metadata": {
    "collapsed": false
   },
   "outputs": [
    {
     "data": {
      "text/plain": [
       "'\\n每次运行环境，到终端执行如下两行命令（然后重启内核）：\\ncd ./work/pyeeg-master\\npython setup.py install\\n'"
      ]
     },
     "execution_count": 1,
     "metadata": {},
     "output_type": "execute_result"
    }
   ],
   "source": [
    "# 每次新建项目，先到运行：\r\n",
    "\r\n",
    "# import zipfile\r\n",
    "# import os\r\n",
    "# def un_zip(file_name):\r\n",
    "#     \"\"\"unzip zip file\"\"\"\r\n",
    "#     zip_file = zipfile.ZipFile(file_name)\r\n",
    "#     for names in zip_file.namelist():\r\n",
    "#         zip_file.extract(names,'work/')\r\n",
    "#     zip_file.close()\r\n",
    "\r\n",
    "# un_zip('/home/aistudio/data/data77240/pyeeg-master.zip')\r\n",
    "\r\n",
    "# if os.path.isdir(\"work/data\"):\r\n",
    "#     pass\r\n",
    "# else:\r\n",
    "#     os.mkdir(\"work/data\")\r\n",
    "\r\n",
    "\"\"\"\r\n",
    "每次运行环境，到终端执行如下两行命令（然后重启内核）：\r\n",
    "cd ./work/pyeeg-master\r\n",
    "python setup.py install\r\n",
    "\"\"\""
   ]
  },
  {
   "cell_type": "code",
   "execution_count": 2,
   "metadata": {
    "collapsed": false
   },
   "outputs": [],
   "source": [
    "#加载飞桨、Numpy和相关类库\n",
    "import numpy as np\n",
    "#import pyeeg as pe\n",
    "import random\n",
    "import matplotlib.pyplot as plt\n",
    "from matplotlib import pyplot\n",
    "from sklearn.model_selection import StratifiedShuffleSplit\n",
    "\n",
    "import paddle.fluid as fluid\n",
    "import paddle.fluid.dygraph as dygraph\n",
    "import paddle.fluid.optimizer as opt\n",
    "from paddle.fluid.dygraph.nn import Linear"
   ]
  },
  {
   "cell_type": "code",
   "execution_count": 3,
   "metadata": {
    "collapsed": false
   },
   "outputs": [],
   "source": [
    "import numpy as np\n",
    "import pylab as pl\n",
    " \n",
    "def wgn(x, snr):\n",
    "    snr = 10**(snr/10.0)\n",
    "    xpower = np.sum(x**2)/len(x)\n",
    "    npower = xpower / snr\n",
    "    return np.random.randn(len(x)) * np.sqrt(npower)\n",
    " \n",
    "# t = np.arange(0, 1000) * 0.1\n",
    "# x = np.sin(t)\n",
    "# n = wgn(x, 5)\n",
    "# xn = x+n # 增加了6dBz信噪比噪声的信号"
   ]
  },
  {
   "cell_type": "code",
   "execution_count": 4,
   "metadata": {
    "collapsed": false
   },
   "outputs": [],
   "source": [
    "# 切片\n",
    "def piece(data):\n",
    "    allTrail = []\n",
    "    channelData = data.reshape((data.shape[0], 32, 7680))\n",
    "    for trail in channelData:\n",
    "        oneTrail = []\n",
    "        for time in range(60):\n",
    "            oneTrail.append(trail[:, time * 128 : (time + 1) * 128])\n",
    "        allTrail.append(np.array(oneTrail))\n",
    "    return np.array(allTrail).reshape((data.shape[0] * 60, 32, 128))"
   ]
  },
  {
   "cell_type": "code",
   "execution_count": 5,
   "metadata": {
    "collapsed": false
   },
   "outputs": [],
   "source": [
    "#特征提取\n",
    "def feature_extraction(trainData):\n",
    "    \n",
    "    band = [4,8,13,16,30,45] #5 bands    band = [4,8,12,16,25,45]  \n",
    "    sample_rate = 128 #Sampling rate of 128 Hz\n",
    "\n",
    "    newData=[]\n",
    "    for i in range(trainData.shape[0]):    #样本数\n",
    "        channel_features=[]\n",
    "        for j in range(32):\n",
    "            X = trainData[i][j]\n",
    "            Y = pe.bin_power(X, band, sample_rate)\n",
    "            channel_features += list(Y[0])\n",
    "        newData.append(np.array(channel_features))\n",
    "\n",
    "    return np.array(newData)"
   ]
  },
  {
   "cell_type": "code",
   "execution_count": 6,
   "metadata": {
    "collapsed": false
   },
   "outputs": [],
   "source": [
    "def Gaussian_normalization(trainData, testData):\n",
    "    \"\"\"高斯归一化\"\"\"\n",
    "\n",
    "    #训练样本归一化\n",
    "    feature=trainData[:,:-1]\n",
    "    mean=feature.mean(axis=0)\n",
    "    std=feature.std(axis=0)\n",
    "    feature-=mean\n",
    "    feature/=std\n",
    "    trainData[:,:-1] = feature\n",
    "\n",
    "    #测试样本归一化\n",
    "    feature=testData[:,:-1]\n",
    "    feature-=mean\n",
    "    feature/=std\n",
    "    testData[:,:-1] = feature\n",
    "\n",
    "    return trainData, testData"
   ]
  },
  {
   "cell_type": "code",
   "execution_count": 7,
   "metadata": {
    "collapsed": false
   },
   "outputs": [],
   "source": [
    "def load_data(BATCHSIZE):\r\n",
    "   \r\n",
    "    # 定义数据生成器\r\n",
    "    def data_generator():\r\n",
    "        data_list = []\r\n",
    "        for idx in range(50):\r\n",
    "            data = np.load('work/trainSetFreq/{}.npy'.format(idx))\r\n",
    "\r\n",
    "            index_list = list(range(data.shape[0]))\r\n",
    "            random.shuffle(index_list)\r\n",
    "\r\n",
    "            for i in index_list:\r\n",
    "                \r\n",
    "                data_list.append(data[i])\r\n",
    "                if len(data_list) == BATCHSIZE:\r\n",
    "                    yield np.array(data_list)\r\n",
    "                    # 清空数据读取列表\r\n",
    "                    data_list = []\r\n",
    "        \r\n",
    "        if len(data_list) > 0:\r\n",
    "            yield np.array(data_list)\r\n",
    "    return data_generator"
   ]
  },
  {
   "cell_type": "code",
   "execution_count": 8,
   "metadata": {
    "collapsed": false
   },
   "outputs": [],
   "source": [
    "class FcMLP(dygraph.Layer):\r\n",
    "    def __init__(self):\r\n",
    "        super(FcMLP, self).__init__()\r\n",
    "        \r\n",
    "        self.fc1 = Linear(input_dim = 160, output_dim = 320, act = 'relu')\r\n",
    "        self.fc2 = Linear(input_dim = 320, output_dim = 320, act = 'relu')\r\n",
    "        self.fc3 = Linear(input_dim = 320, output_dim = 320, act = 'relu')\r\n",
    "        self.fc4 = Linear(input_dim = 320, output_dim = 320, act = 'relu')\r\n",
    "        self.fc5 = Linear(input_dim = 320, output_dim = 320, act = 'relu')\r\n",
    "        self.fc6 = Linear(input_dim = 320, output_dim = 320, act = 'relu')\r\n",
    "        self.fc7 = Linear(input_dim = 320, output_dim = 320, act = 'relu')\r\n",
    "        self.fc8 = Linear(input_dim = 320, output_dim = 320, act = 'relu')\r\n",
    "        self.fc9 = Linear(input_dim = 320, output_dim = 320, act = 'relu')\r\n",
    "        self.fc10 = Linear(input_dim = 320, output_dim = 160, act = 'relu')\r\n",
    "        self.fc11 = Linear(input_dim = 160, output_dim = 80, act = 'relu')\r\n",
    "        self.fc12 = Linear(input_dim = 80, output_dim = 2, act = 'softmax')\r\n",
    "    \r\n",
    "    def forward(self, x, label = None):\r\n",
    "        x = fluid.layers.reshape(x, [x.shape[0], -1])\r\n",
    "        x = self.fc1(x)\r\n",
    "        x = self.fc2(x)\r\n",
    "        x = self.fc3(x)\r\n",
    "        x = self.fc4(x)\r\n",
    "        x = self.fc5(x)\r\n",
    "        x = self.fc6(x)\r\n",
    "        x = self.fc7(x)\r\n",
    "        x = self.fc8(x)\r\n",
    "        x = self.fc9(x)\r\n",
    "        x = self.fc10(x)\r\n",
    "        x = self.fc11(x)\r\n",
    "        x = self.fc12(x)\r\n",
    "\r\n",
    "        if label is not  None :\r\n",
    "            acc = fluid.layers.accuracy(input = x, label = label)\r\n",
    "            return x, acc\r\n",
    "        else :\r\n",
    "            return x"
   ]
  },
  {
   "cell_type": "markdown",
   "metadata": {
    "collapsed": false
   },
   "source": [
    "## 训练集、测试集的标签比例与总体样本的类标签比例相同\n",
    "StratifiedShuffleSplit"
   ]
  },
  {
   "cell_type": "code",
   "execution_count": 9,
   "metadata": {
    "collapsed": false
   },
   "outputs": [],
   "source": [
    "def train(epoch, batch_size):\r\n",
    "    \r\n",
    "    iter_ = 0\r\n",
    "    iters = []\r\n",
    "    losses = []\r\n",
    "    accs = []\r\n",
    "    validation_losses = []\r\n",
    "    validation_accs = []\r\n",
    "\r\n",
    "    use_gpu = False\r\n",
    "    place = fluid.CUDAPlace(0) if use_gpu else fluid.CPUPlace()\r\n",
    "    \r\n",
    "    with dygraph.guard(place):\r\n",
    "\r\n",
    "        model = FcMLP()\r\n",
    "        model.train()\r\n",
    "        \r\n",
    "        regularization = fluid.regularizer.L2Decay(regularization_coeff=0.02)\r\n",
    "        #regularization=regularization,\r\n",
    "        optimizer = opt.SGDOptimizer(learning_rate=0.001, parameter_list=model.parameters())\r\n",
    "        \r\n",
    "        train_loader = load_data(batch_size)\r\n",
    "        \r\n",
    "        validationData = np.load('work/validationSetFreq.npy')\r\n",
    "        validationFeature = validationData[:, :-1]\r\n",
    "        validationLabel = validationData[:, -1:]\r\n",
    "\r\n",
    "        for epoch_id in range(epoch):\r\n",
    "            for batch_id, mini_batch in enumerate(train_loader()):\r\n",
    "                x = mini_batch[:, :-1].astype('float32')\r\n",
    "                y = mini_batch[:, -1:].astype('int64')\r\n",
    "                \r\n",
    "                x = dygraph.to_variable(x)\r\n",
    "                y = dygraph.to_variable(y)\r\n",
    "                \r\n",
    "                predict, acc = model(x, y)\r\n",
    "\r\n",
    "                loss = fluid.layers.cross_entropy(predict, label = y)\r\n",
    "                avg_loss = fluid.layers.mean(loss)\r\n",
    "\r\n",
    "                if batch_id % 1000 == 0:\r\n",
    "                    iters.append(iter_)\r\n",
    "                    iter_ += 1\r\n",
    "                    losses.append(avg_loss.numpy())\r\n",
    "                    accs.append(acc.numpy())\r\n",
    "                    if iter_ % 7 == 0 :\r\n",
    "                        print('epoch : ', epoch_id, 'batch_id : ', batch_id, 'loss = ', avg_loss.numpy(), 'acc = ', acc.numpy())\r\n",
    "\r\n",
    "                    # 记录验证集准确率\r\n",
    "                    x = validationFeature.astype('float32')\r\n",
    "                    y = validationLabel.astype('int64')\r\n",
    "\r\n",
    "                    x = dygraph.to_variable(x)\r\n",
    "                    y = dygraph.to_variable(y)\r\n",
    "\r\n",
    "                    predict, acc = model(x, y)\r\n",
    "                    loss = fluid.layers.cross_entropy(input = predict, label = y)\r\n",
    "                    validation_avg_loss = fluid.layers.mean(loss)\r\n",
    "\r\n",
    "                    validation_losses.append(validation_avg_loss.numpy())\r\n",
    "                    validation_accs.append(acc.numpy())\r\n",
    "\r\n",
    "                avg_loss.backward()\r\n",
    "                optimizer.minimize(avg_loss)\r\n",
    "                model.clear_gradients()\r\n",
    "        fluid.save_dygraph(model.state_dict(), 'FcMLP')\r\n",
    "\r\n",
    "\r\n",
    "    #画出训练过程中Loss的变化曲线\r\n",
    "    #plt.figure()\r\n",
    "    #plt.subplot(211)\r\n",
    "    plt.title(\"loss\", fontsize=24)\r\n",
    "    plt.xlabel(\"iter\", fontsize=14)\r\n",
    "    plt.ylabel(\"loss\", fontsize=14)\r\n",
    "\r\n",
    "    plt.plot(iters, validation_losses,color='red',label='validation loss')\r\n",
    "    plt.plot(iters, losses,color='blue',label='train loss') \r\n",
    "\r\n",
    "    plt.grid()\r\n",
    "    plt.legend()\r\n",
    "    plt.show()\r\n",
    "\r\n",
    "    plt.title(\"accuracy\", fontsize=24)\r\n",
    "    plt.xlabel(\"iter\", fontsize=14)\r\n",
    "    plt.ylabel(\"accuracy\", fontsize=14)\r\n",
    "\r\n",
    "    plt.plot(iters, validation_accs, color='red', label='validation accuracy')\r\n",
    "    plt.plot(iters, accs, color='blue', label='train accuracy')\r\n",
    "\r\n",
    "    plt.grid()\r\n",
    "    plt.legend()\r\n",
    "    plt.show()"
   ]
  },
  {
   "cell_type": "code",
   "execution_count": 10,
   "metadata": {
    "collapsed": false
   },
   "outputs": [],
   "source": [
    "def test():\r\n",
    "    with fluid.dygraph.guard():\r\n",
    "        model = FcMLP()\r\n",
    "        model_dict, _ = fluid.load_dygraph('FcMLP')\r\n",
    "        model.load_dict(model_dict)\r\n",
    "        model.eval()\r\n",
    "        testData = np.load('work/testSetFreq.npy')\r\n",
    "\r\n",
    "        x = testData[:, :-1].astype('float32')\r\n",
    "        y = testData[:, -1:].astype('int64')\r\n",
    "\r\n",
    "        x = dygraph.to_variable(x)\r\n",
    "        y = dygraph.to_variable(y)\r\n",
    "\r\n",
    "        predict, acc = model(x, y)\r\n",
    "\r\n",
    "        loss = fluid.layers.cross_entropy(input = predict, label = y)\r\n",
    "        avg_loss = fluid.layers.mean(loss)\r\n",
    "\r\n",
    "        print('test loss={}, test acc={}'.format(avg_loss.numpy(), acc.numpy()))\r\n",
    "        return acc.numpy()"
   ]
  },
  {
   "cell_type": "code",
   "execution_count": 11,
   "metadata": {
    "collapsed": false
   },
   "outputs": [
    {
     "name": "stdout",
     "output_type": "stream",
     "text": [
      "epoch :  299 batch_id :  26000 loss =  [0.07586069] acc =  [0.96]\r"
     ]
    },
    {
     "data": {
      "image/png": "[encoded data removed]",
      "text/plain": [
       "<Figure size 432x288 with 1 Axes>"
      ]
     },
     "metadata": {},
     "output_type": "display_data"
    },
    {
     "data": {
      "image/png": "[encoded data removed]",
      "text/plain": [
       "<Figure size 432x288 with 1 Axes>"
      ]
     },
     "metadata": {},
     "output_type": "display_data"
    },
    {
     "name": "stdout",
     "output_type": "stream",
     "text": [
      "test loss=[3.95669], test acc=[0.565625]\n"
     ]
    }
   ],
   "source": [
    "train(epoch = 300, batch_size = 100)#epoch = 20\r\n",
    "acc = test()\r\n",
    "#print(acc)"
   ]
  },
  {
   "cell_type": "code",
   "execution_count": 12,
   "metadata": {
    "collapsed": false
   },
   "outputs": [],
   "source": [
    "# emotionDim = 0    #0 Valence 1 Arousal\n",
    "\n",
    "# multiples = 249    #数据增强multiple倍\n",
    "# snr = 5    #信噪比\n",
    "# ratio = 0.2    #验证集和测试集占总体的比例\n",
    "# validation_test_ratio = 0.5\n",
    "# num_splits = 10    #测试10次\n",
    "# randomState = 2021    #随机状态\n",
    "# allAcc = []    #记录num_splits次的准确率\n",
    "\n",
    "# dir = '/home/aistudio/data/data57707/1280x258050(32x8064+2).npy'\n",
    "\n",
    "# AllSub = np.load(dir)\n",
    "# feature = AllSub[: , :-2].reshape((1280, 32, 8064))\n",
    "\n",
    "# feature = feature[:, :, 384:]\n",
    "# feature = feature.reshape((1280, 245760))\n",
    "\n",
    "# label = np.where(AllSub[: , -2:] >= 5 , 1 , 0)\n",
    "# label = label[:, emotionDim]\n",
    "# del AllSub\n",
    "\n",
    "# sss = StratifiedShuffleSplit(n_splits=num_splits, test_size=ratio, random_state = randomState)#分成num_splits组，测试比例为ratio\n",
    "# num_split = 1    #第一次split\n",
    "# for train_index, test_index in sss.split(feature, label):\n",
    "#     X_train, X_test = feature[train_index], feature[test_index]#训练集对应的值\n",
    "#     y_train, y_test = label[train_index], label[test_index]#类别集对应的值\n",
    "    \n",
    "    \n",
    "#     unitSignal = piece(X_train)\n",
    "#     unitSignal = feature_extraction(unitSignal)\n",
    "#     unitLabel = []\n",
    "#     for idx in range(unitSignal.shape[0]):\n",
    "#         unitLabel.append(y_train[idx // 60])\n",
    "#     np.save('./work/trainSetFreq/{}.npy'.format(0), np.append(unitSignal, np.array(unitLabel).reshape((-1, 1)), axis = 1))\n",
    "    \n",
    "#     unitSignal = piece(X_test)\n",
    "#     unitSignal = feature_extraction(unitSignal)\n",
    "#     unitLabel = []\n",
    "#     for idx in range(unitSignal.shape[0]):\n",
    "#         unitLabel.append(y_test[idx // 60])\n",
    "    \n",
    "#     np.save('./work/validationSetFreq.npy', np.append(unitSignal, np.array(unitLabel).reshape((-1, 1)), axis = 1)[:int(validation_test_ratio * unitSignal.shape[0])])\n",
    "#     np.save('./work/testSetFreq.npy', np.append(unitSignal, np.array(unitLabel).reshape((-1, 1)), axis = 1)[int(validation_test_ratio * unitSignal.shape[0]):])\n",
    "    \n",
    "#     # 添加高斯白噪声，训练数据增强multiple倍\n",
    "#     for multiple in range(multiples):\n",
    "#         newSignal = []\n",
    "#         for signal in X_train:\n",
    "#             newChannelFeature = []\n",
    "#             channelFeature = signal.reshape((32, 7680))\n",
    "#             for channel in channelFeature:\n",
    "#                 noise = wgn(channel, snr)\n",
    "#                 noiseSignal = channel + noise\n",
    "#                 newChannelFeature.append(noiseSignal)\n",
    "#             newChannelFeature = np.array(newChannelFeature).reshape(245760)\n",
    "#             newSignal.append(newChannelFeature)\n",
    "#         newSignal = np.array(newSignal)\n",
    "        \n",
    "        \n",
    "        \n",
    "#         unitSignal = piece(newSignal)\n",
    "#         unitSignal = feature_extraction(unitSignal)\n",
    "#         unitLabel = []\n",
    "#         for idx in range(unitSignal.shape[0]):\n",
    "#             unitLabel.append(y_train[idx // 60])\n",
    "#         np.save('./work/trainSetFreq/{}.npy'.format(multiple + 1), np.append(unitSignal, np.array(unitLabel).reshape((-1, 1)), axis = 1))\n",
    "        \n",
    "#     del X_test\n",
    "#     del X_train\n",
    "#     del y_train\n",
    "#     del y_test\n",
    "#     del unitSignal\n",
    "#     del unitLabel\n",
    "    \n",
    "    \n",
    "#     #加载训练集、测试集，开始训练、测试\n",
    "\n",
    "#     if num_split == 1:\n",
    "#         print('trainShape = ', int(1280 * 0.8) * 60 * 250, 'validationShape = ', int(1280 * 0.1) * 60, 'testShape = ', int(1280 * 0.1) * 60)\n",
    "    \n",
    "#     # normal = True\n",
    "#     # if normal:\n",
    "#     #     trainSet, testSet = Gaussian_normalization(trainSet, testSet)\n",
    "\n",
    "#     # 训练\n",
    "#     print('split{} ：'.format(num_split), end = '')\n",
    "#     num_split += 1\n",
    "#     train(epoch = 2, batch_size = 20)\n",
    "#     acc = test()\n",
    "#     allAcc.append(acc)"
   ]
  },
  {
   "cell_type": "code",
   "execution_count": 13,
   "metadata": {
    "collapsed": false
   },
   "outputs": [],
   "source": [
    "# allAcc = np.array(allAcc)\n",
    "\n",
    "# maxIndex = allAcc.argmax()\n",
    "# print('meanAcc = ', allAcc.mean(),'num_split = ', maxIndex, 'maxAcc = ',allAcc.max(), 'var = ',allAcc.var())\n",
    "\n",
    "# plt.ylim([0,1])\n",
    "# plt.xlabel('num_split')\n",
    "# plt.ylabel('acc')\n",
    "# plt.plot(range(1,11), allAcc)"
   ]
  },
  {
   "cell_type": "code",
   "execution_count": 14,
   "metadata": {
    "collapsed": false
   },
   "outputs": [],
   "source": [
    "# normal = False meanAcc = 0.581\n",
    "# normal = True meanAcc = 0.5811"
   ]
  }
 ],
 "metadata": {
  "kernelspec": {
   "display_name": "PaddlePaddle 1.8.4 (Python 3.5)",
   "language": "python",
   "name": "py35-paddle1.2.0"
  },
  "language_info": {
   "codemirror_mode": {
    "name": "ipython",
    "version": 3
   },
   "file_extension": ".py",
   "mimetype": "text/x-python",
   "name": "python",
   "nbconvert_exporter": "python",
   "pygments_lexer": "ipython3",
   "version": "3.7.4"
  }
 },
 "nbformat": 4,
 "nbformat_minor": 1
}

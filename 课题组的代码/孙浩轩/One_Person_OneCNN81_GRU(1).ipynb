{
 "cells": [
  {
   "cell_type": "code",
   "execution_count": 29,
   "id": "fccdd676",
   "metadata": {},
   "outputs": [],
   "source": [
    "import numpy as np\n",
    "import pickle as pickle"
   ]
  },
  {
   "cell_type": "code",
   "execution_count": 30,
   "id": "203c40f4",
   "metadata": {},
   "outputs": [],
   "source": [
    "deapSubList=['01','02','03','04','05','06','07','08','09','10','11','12','13','14',\\\n",
    "         '15','16','17','18','19','20','21','22','23','24','25','26','27','28','29','30','31','32']"
   ]
  },
  {
   "cell_type": "code",
   "execution_count": 31,
   "id": "e3e15ee0",
   "metadata": {},
   "outputs": [],
   "source": [
    "# 读取Deap数据 ,\n",
    "#deap的eeg_data,egg_baseline_data,other_data,other_baseline_data,labels\n",
    "def deap_read(deapSubs):\n",
    "        sub=np.load('../eeg_to_1020/1020sub'+deapSubs+'.npy',allow_pickle=True).item()\n",
    "        eeg_features=sub['eeg_features']\n",
    "        other_features=sub['other_features']  \n",
    "        labels=sub01['labels']  \n",
    "        return eeg_features,other_features,labels"
   ]
  },
  {
   "cell_type": "code",
   "execution_count": 32,
   "id": "6034bc91",
   "metadata": {},
   "outputs": [],
   "source": [
    "# 测试代码\n",
    "sub01=np.load('../eeg_to_1020/1020sub'+ '02' +'.npy',allow_pickle=True).item()\n",
    "eeg_features=sub01['eeg_features']\n",
    "other_features=sub01['other_features']  \n",
    "labels=sub01['labels']  "
   ]
  },
  {
   "cell_type": "code",
   "execution_count": 33,
   "id": "a7dde8da",
   "metadata": {},
   "outputs": [
    {
     "data": {
      "text/plain": [
       "((40, 7680, 9, 9), (40, 8, 7680), (40, 2))"
      ]
     },
     "execution_count": 33,
     "metadata": {},
     "output_type": "execute_result"
    }
   ],
   "source": [
    "eeg_features.shape,other_features.shape,labels.shape"
   ]
  },
  {
   "cell_type": "code",
   "execution_count": 34,
   "id": "8c70cfc2",
   "metadata": {},
   "outputs": [],
   "source": [
    "# 进行eeg信号的窗口分割\n",
    "def deap_deal(eeg_features):\n",
    "    \n",
    "    #处理deap基线信号\n",
    "    deap_split=np.zeros((40,60,128,9,9))\n",
    "    for i in range(40):\n",
    "        windows = 128//1\n",
    "        part = 60\n",
    "        baseli = np.stack(np.split( eeg_features[i] , part , axis=0)) \n",
    "        deap_split[i] = baseli\n",
    "    return deap_split"
   ]
  },
  {
   "cell_type": "code",
   "execution_count": 35,
   "id": "cb2914b6",
   "metadata": {},
   "outputs": [
    {
     "name": "stdout",
     "output_type": "stream",
     "text": [
      "(40, 60, 128, 9, 9)\n"
     ]
    }
   ],
   "source": [
    "sub01_data = deap_deal(eeg_features)\n",
    "print(sub01_data.shape)"
   ]
  },
  {
   "cell_type": "code",
   "execution_count": 36,
   "id": "3b417961",
   "metadata": {},
   "outputs": [
    {
     "data": {
      "text/plain": [
       "(128, 9, 9)"
      ]
     },
     "execution_count": 36,
     "metadata": {},
     "output_type": "execute_result"
    }
   ],
   "source": [
    "sub01_data.shape[2:]"
   ]
  },
  {
   "cell_type": "code",
   "execution_count": 37,
   "id": "065d6604",
   "metadata": {},
   "outputs": [],
   "source": [
    "#labels"
   ]
  },
  {
   "cell_type": "code",
   "execution_count": 38,
   "id": "c4479890",
   "metadata": {},
   "outputs": [],
   "source": [
    "# 把特征也做成这个形状\n",
    "# 这个只能把1280,1形状的标签转换为alpha特征形状一致\n",
    "def label_deal(labels):\n",
    "    templabel = np.zeros((40,60,2))\n",
    "    for i in range(40):\n",
    "        for j in range(60):\n",
    "                templabel[i][j] = labels[i]\n",
    "    return templabel"
   ]
  },
  {
   "cell_type": "code",
   "execution_count": 39,
   "id": "5342f486",
   "metadata": {},
   "outputs": [],
   "source": [
    "# 把特征做成softmax需要的格式\n",
    "def to_softmax(label):\n",
    "    softmax_label = np.zeros((2400,2))\n",
    "    #两列，第一列表示他是正例，第二例表示他是反例\n",
    "    for i in range(2400):\n",
    "        if label[i] ==1 :\n",
    "            softmax_label[i][0] = 1\n",
    "        else:\n",
    "            softmax_label[i][1] = 1\n",
    "    return softmax_label"
   ]
  },
  {
   "cell_type": "code",
   "execution_count": 40,
   "id": "5348dd06",
   "metadata": {},
   "outputs": [],
   "source": [
    "#划分训练集和测试集，标签也进行划分\n",
    "def data_split(feature,labels):\n",
    "    #前两维压压平，后三维压平\n",
    "    x_train = feature[:39,:,:,:,:].reshape((2340,*feature.shape[2:])).reshape((2340,-1)) #训练集划分\n",
    "    x_test = feature[39:,:,:,:,:].reshape((60,-1))\n",
    "    #弄成1dcnn需要的形式\n",
    "    x_train = x_train.reshape((*x_train.shape,1))\n",
    "    x_test = x_test.reshape((*x_test.shape,1))\n",
    "    labels = np.where(labels>5 , 1 , 0)\n",
    "    labels = label_deal(labels).reshape((-1,2))\n",
    "    #把标签做成softmax回归的模式\n",
    "    vlabel = labels[:,:-1]\n",
    "    alabel = labels[:,-1:]\n",
    "    vlabel = to_softmax(vlabel)\n",
    "    alabel = to_softmax(alabel)\n",
    "    print(vlabel.shape)\n",
    "    print(alabel.shape)\n",
    "    vy_train = vlabel[:2340,:]\n",
    "    vy_test = vlabel[2340:,:]\n",
    "    ay_train = alabel[:2340,:]\n",
    "    ay_test = alabel[2340:,:]\n",
    "    return x_train,x_test,vy_train,vy_test,ay_train,ay_test"
   ]
  },
  {
   "cell_type": "code",
   "execution_count": 41,
   "id": "69360671",
   "metadata": {},
   "outputs": [
    {
     "name": "stdout",
     "output_type": "stream",
     "text": [
      "(2400, 2)\n",
      "(2400, 2)\n"
     ]
    }
   ],
   "source": [
    "x_train,x_test,vy_train,vy_test,ay_train,ay_test = data_split(sub01_data,labels)"
   ]
  },
  {
   "cell_type": "code",
   "execution_count": 42,
   "id": "2fb30111",
   "metadata": {},
   "outputs": [
    {
     "data": {
      "text/plain": [
       "((2340, 10368, 1), (60, 10368, 1), (2340, 2), (60, 2), (2340, 2), (60, 2))"
      ]
     },
     "execution_count": 42,
     "metadata": {},
     "output_type": "execute_result"
    }
   ],
   "source": [
    "x_train.shape,x_test.shape,vy_train.shape,vy_test.shape,ay_train.shape,ay_test.shape"
   ]
  },
  {
   "cell_type": "code",
   "execution_count": 43,
   "id": "934cd350",
   "metadata": {},
   "outputs": [],
   "source": [
    "from tensorflow.keras.models import Sequential\n",
    "from tensorflow.keras import layers\n",
    "from tensorflow import keras\n",
    "from sklearn.model_selection import KFold\n",
    "import matplotlib.pyplot as plt\n",
    "from sklearn.preprocessing import StandardScaler"
   ]
  },
  {
   "cell_type": "code",
   "execution_count": 44,
   "id": "315daeab",
   "metadata": {},
   "outputs": [],
   "source": [
    "# #创建四层全连接层模型\n",
    "# def create_model():\n",
    "#     #init=keras.initializers.glorot_normal(seed=1)\n",
    "#     simple_adam=keras.optimizers.Adam()\n",
    "#     model=keras.models.Sequential()\n",
    "#     model.add(keras.layers.GRU(units=64,\n",
    "#                                 recurrent_activation='sigmoid',\n",
    "#                                 reset_after=True,\n",
    "#                                 input_shape=(10368,1)))\n",
    "#     #model.add(keras.layers.Dropout(0.2))\n",
    "#     model.add(keras.layers.Dense(units=64,activation='relu'))\n",
    "#     model.add(keras.layers.Dense(units=32,activation='relu'))\n",
    "#     model.add(keras.layers.BatchNormalization())\n",
    "#     model.add(keras.layers.Dense(units=1,activation='sigmoid'))\n",
    "#     #优化器的metrics改成keras.metrics.binary_accuracy试一试\n",
    "#     model.compile(loss='binary_crossentropy',optimizer=simple_adam,metrics=['accuracy'])\n",
    "#     return model\n",
    "\n",
    "def create_model():\n",
    "    model = Sequential()\n",
    "    simple_adam=keras.optimizers.Adam()\n",
    "    model.add(layers.Conv1D(128,81,activation='relu',   #提取一个采样点的所有脑电图的卷积信息，输出为128即采样点数，之后可以看成是一个时间序列\n",
    "                           input_shape=(10368,1)))      #可以关注到信号的的整体空间信息\n",
    "    #model.add(layers.MaxPool1D(9))\n",
    "    #用全局平均值池化试一试 ,全局平均值池化好像强一点\n",
    "    #model.add(layers.AveragePooling1D(9))\n",
    "#     model.add(layers.Conv1D(32,9,activation='relu'))\n",
    "#     model.add(layers.MaxPool1D(3))\n",
    "    #,dropout = 0.5\n",
    "    model.add(layers.GRU(32))                            #用卷积层提取的时间序列，GRU进行训练，GRU正好可以根据时间序列进行记忆\n",
    "    model.add(keras.layers.Dense(units=16,activation='relu'))  #利用这个模型可以提取电脑信号不同时间的联系\n",
    "    model.add(keras.layers.BatchNormalization())\n",
    "    model.add(layers.Dense(2,activation='softmax'))\n",
    "    model.compile(loss='binary_crossentropy',optimizer=simple_adam,metrics=['accuracy'])\n",
    "    return model"
   ]
  },
  {
   "cell_type": "code",
   "execution_count": 45,
   "id": "9fd37ba6",
   "metadata": {},
   "outputs": [],
   "source": [
    "model = create_model()"
   ]
  },
  {
   "cell_type": "code",
   "execution_count": 46,
   "id": "98af4b1f",
   "metadata": {},
   "outputs": [
    {
     "name": "stdout",
     "output_type": "stream",
     "text": [
      "Model: \"sequential_3\"\n",
      "_________________________________________________________________\n",
      "Layer (type)                 Output Shape              Param #   \n",
      "=================================================================\n",
      "conv1d_3 (Conv1D)            (None, 10288, 128)        10496     \n",
      "_________________________________________________________________\n",
      "gru_3 (GRU)                  (None, 32)                15552     \n",
      "_________________________________________________________________\n",
      "dense_6 (Dense)              (None, 16)                528       \n",
      "_________________________________________________________________\n",
      "batch_normalization_3 (Batch (None, 16)                64        \n",
      "_________________________________________________________________\n",
      "dense_7 (Dense)              (None, 2)                 34        \n",
      "=================================================================\n",
      "Total params: 26,674\n",
      "Trainable params: 26,642\n",
      "Non-trainable params: 32\n",
      "_________________________________________________________________\n"
     ]
    }
   ],
   "source": [
    "model.summary()"
   ]
  },
  {
   "cell_type": "code",
   "execution_count": 47,
   "id": "9f497219",
   "metadata": {},
   "outputs": [
    {
     "name": "stdout",
     "output_type": "stream",
     "text": [
      "Epoch 1/20\n",
      "74/74 [==============================] - 24s 209ms/step - loss: 0.6826 - accuracy: 0.5684 - val_loss: 0.7963 - val_accuracy: 0.0833\n",
      "Epoch 2/20\n",
      "74/74 [==============================] - 15s 205ms/step - loss: 0.6516 - accuracy: 0.6171 - val_loss: 0.6488 - val_accuracy: 0.9500\n",
      "Epoch 3/20\n",
      "74/74 [==============================] - 15s 206ms/step - loss: 0.6367 - accuracy: 0.6278 - val_loss: 0.5541 - val_accuracy: 0.9667\n",
      "Epoch 4/20\n",
      "74/74 [==============================] - 15s 206ms/step - loss: 0.6199 - accuracy: 0.6543 - val_loss: 0.9141 - val_accuracy: 0.1000\n",
      "Epoch 5/20\n",
      "74/74 [==============================] - 15s 205ms/step - loss: 0.6060 - accuracy: 0.6632 - val_loss: 0.6823 - val_accuracy: 0.5667\n",
      "Epoch 6/20\n",
      "74/74 [==============================] - 15s 205ms/step - loss: 0.5891 - accuracy: 0.6803 - val_loss: 1.0267 - val_accuracy: 0.1667\n",
      "Epoch 7/20\n",
      "74/74 [==============================] - 15s 205ms/step - loss: 0.5902 - accuracy: 0.6718 - val_loss: 0.5535 - val_accuracy: 0.9333\n",
      "Epoch 8/20\n",
      "74/74 [==============================] - 15s 205ms/step - loss: 0.5897 - accuracy: 0.6859 - val_loss: 0.3070 - val_accuracy: 0.9833\n",
      "Epoch 9/20\n",
      "74/74 [==============================] - 15s 205ms/step - loss: 0.5638 - accuracy: 0.7043 - val_loss: 0.2626 - val_accuracy: 1.0000\n",
      "Epoch 10/20\n",
      "74/74 [==============================] - 15s 205ms/step - loss: 0.5759 - accuracy: 0.6816 - val_loss: 0.2530 - val_accuracy: 0.9667\n",
      "Epoch 11/20\n",
      "74/74 [==============================] - 15s 206ms/step - loss: 0.5585 - accuracy: 0.7038 - val_loss: 0.1156 - val_accuracy: 0.9833\n",
      "Epoch 12/20\n",
      "74/74 [==============================] - 15s 206ms/step - loss: 0.5511 - accuracy: 0.7141 - val_loss: 0.7796 - val_accuracy: 0.4333\n",
      "Epoch 13/20\n",
      "74/74 [==============================] - 15s 207ms/step - loss: 0.5516 - accuracy: 0.6957 - val_loss: 0.4653 - val_accuracy: 0.8667\n",
      "Epoch 14/20\n",
      "74/74 [==============================] - 15s 207ms/step - loss: 0.5456 - accuracy: 0.7056 - val_loss: 0.7873 - val_accuracy: 0.3667\n",
      "Epoch 15/20\n",
      "74/74 [==============================] - 15s 206ms/step - loss: 0.5247 - accuracy: 0.7355 - val_loss: 0.6569 - val_accuracy: 0.7833\n",
      "Epoch 16/20\n",
      "74/74 [==============================] - 15s 207ms/step - loss: 0.5353 - accuracy: 0.7120 - val_loss: 1.9869 - val_accuracy: 0.0667\n",
      "Epoch 17/20\n",
      "74/74 [==============================] - 15s 207ms/step - loss: 0.5579 - accuracy: 0.6966 - val_loss: 0.6940 - val_accuracy: 0.5000\n",
      "Epoch 18/20\n",
      "74/74 [==============================] - 15s 206ms/step - loss: 0.5209 - accuracy: 0.7226 - val_loss: 0.7586 - val_accuracy: 0.4167\n",
      "Epoch 19/20\n",
      "74/74 [==============================] - 15s 206ms/step - loss: 0.5137 - accuracy: 0.7325 - val_loss: 0.3549 - val_accuracy: 0.9000\n",
      "Epoch 20/20\n",
      "74/74 [==============================] - 15s 206ms/step - loss: 0.5282 - accuracy: 0.7192 - val_loss: 0.9870 - val_accuracy: 0.2333\n"
     ]
    }
   ],
   "source": [
    "history = model.fit(x_train,vy_train,epochs=20,batch_size=32,validation_data=(x_test,vy_test))"
   ]
  },
  {
   "cell_type": "code",
   "execution_count": 48,
   "id": "bbd20a7b",
   "metadata": {},
   "outputs": [
    {
     "data": {
      "image/png": "[encoded data removed]",
      "text/plain": [
       "<Figure size 432x288 with 1 Axes>"
      ]
     },
     "metadata": {
      "needs_background": "light"
     },
     "output_type": "display_data"
    },
    {
     "data": {
      "image/png": "[encoded data removed]",
      "text/plain": [
       "<Figure size 432x288 with 1 Axes>"
      ]
     },
     "metadata": {
      "needs_background": "light"
     },
     "output_type": "display_data"
    }
   ],
   "source": [
    "\n",
    "#画图(损失)\n",
    "history_dict=history.history\n",
    "loss_values=history_dict['loss']\n",
    "val_loss_values=history_dict['val_loss']\n",
    "\n",
    "epochs=range(1,len(loss_values)+1)\n",
    "\n",
    "plt.plot(epochs,loss_values,'bo',label='Training loss')  #'bo'表示蓝色圆点\n",
    "plt.plot(epochs,val_loss_values,'b',label='Validation loss') #'b' 表示蓝色实线\n",
    "plt.title(\"Train and validation loss\")\n",
    "plt.xlabel('Epochs')\n",
    "plt.ylabel('Loss')\n",
    "plt.legend()\n",
    "\n",
    "plt.show()\n",
    "\n",
    "#画图（准确度）\n",
    "plt.clf()  #清空图像\n",
    "acc=history_dict['accuracy']\n",
    "val_acc=history_dict['val_accuracy']\n",
    "\n",
    "plt.plot(epochs,acc,'bo',label='Training acc')  #'bo'表示蓝色圆点\n",
    "plt.plot(epochs,val_acc,'b',label='Validation acc') #'b' 表示蓝色实线\n",
    "plt.title(\"Train and validation accuracy\")\n",
    "plt.xlabel('Epochs')\n",
    "plt.ylabel('Accuracy')\n",
    "plt.legend()\n",
    "\n",
    "plt.show()"
   ]
  },
  {
   "cell_type": "code",
   "execution_count": 49,
   "id": "ead692c6",
   "metadata": {},
   "outputs": [
    {
     "name": "stdout",
     "output_type": "stream",
     "text": [
      "2/2 [==============================] - 0s 111ms/step - loss: 0.9870 - accuracy: 0.2333\n"
     ]
    },
    {
     "data": {
      "text/plain": [
       "[0.9870263338088989, 0.23333333432674408]"
      ]
     },
     "execution_count": 49,
     "metadata": {},
     "output_type": "execute_result"
    }
   ],
   "source": [
    "model.evaluate(x_test,vy_test)"
   ]
  },
  {
   "cell_type": "code",
   "execution_count": null,
   "id": "32a00303",
   "metadata": {
    "scrolled": true
   },
   "outputs": [],
   "source": [
    "#保存模型\n",
    "model.save('./model/OneCNN81_GRU.h5')"
   ]
  },
  {
   "cell_type": "code",
   "execution_count": null,
   "id": "c37dc468",
   "metadata": {},
   "outputs": [],
   "source": []
  },
  {
   "cell_type": "code",
   "execution_count": null,
   "id": "90dae6e8",
   "metadata": {},
   "outputs": [],
   "source": []
  }
 ],
 "metadata": {
  "kernelspec": {
   "display_name": "Python 3",
   "language": "python",
   "name": "python3"
  },
  "language_info": {
   "codemirror_mode": {
    "name": "ipython",
    "version": 3
   },
   "file_extension": ".py",
   "mimetype": "text/x-python",
   "name": "python",
   "nbconvert_exporter": "python",
   "pygments_lexer": "ipython3",
   "version": "3.8.8"
  }
 },
 "nbformat": 4,
 "nbformat_minor": 5
}

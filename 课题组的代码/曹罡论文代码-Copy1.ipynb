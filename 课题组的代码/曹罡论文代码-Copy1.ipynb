{
 "cells": [
  {
   "cell_type": "code",
   "execution_count": 3,
   "metadata": {},
   "outputs": [],
   "source": [
    "import scipy\n",
    "import numpy as np\n",
    "from scipy import signal\n",
    "from sklearn.svm import SVC\n",
    "import pickle\n",
    "import sklearn\n",
    "from sklearn.model_selection import KFold,LeaveOneOut,LeavePOut,ShuffleSplit # 交叉验证所需的子集划分方法\n",
    "from sklearn.model_selection import cross_val_score\n",
    "from sklearn.metrics import accuracy_score\n",
    "from sklearn.model_selection import cross_val_predict, cross_val_score, cross_validate\n",
    "import scipy.io as sio\n",
    "import matplotlib.pyplot as plt\n",
    "from tqdm import tqdm\n",
    "from sklearn import preprocessing"
   ]
  },
  {
   "cell_type": "code",
   "execution_count": 4,
   "metadata": {},
   "outputs": [],
   "source": [
    "all_mean=[[0 for _ in range(2)] for _ in range(6)]\n",
    "dimension_fb=[[1,2],[2,3],[3,4],[1,3],[1,4],[2,4]]"
   ]
  },
  {
   "cell_type": "code",
   "execution_count": 32,
   "metadata": {
    "tags": []
   },
   "outputs": [
    {
     "name": "stdout",
     "output_type": "stream",
     "text": [
      "第 1 个维度:\n"
     ]
    },
    {
     "name": "stderr",
     "output_type": "stream",
     "text": [
      "100%|█████████████████████████████████████████████████████████████████████████████████| 32/32 [00:20<00:00,  1.55it/s]"
     ]
    },
    {
     "name": "stdout",
     "output_type": "stream",
     "text": [
      "[0.65, 0.65, 0.875, 0.35, 0.55, 0.5, 0.675, 0.725, 0.7, 0.475, 0.65, 0.85, 0.85, 0.725, 0.475, 0.45, 0.775, 0.45, 0.8, 0.775, 0.8, 0.6, 0.5, 0.825, 0.725, 0.775, 0.775, 0.325, 0.625, 0.675, 0.675, 0.7]\n",
      "第 1 个维度所有人的准确率为： 0.6546875000000001\n"
     ]
    },
    {
     "name": "stderr",
     "output_type": "stream",
     "text": [
      "\n"
     ]
    }
   ],
   "source": [
    "# dimension=0,valence维度.dimension=1是arousal维度\n",
    "\n",
    "\n",
    "# # valence运行这个\n",
    "# dimension=0\n",
    "# fb_l=1\n",
    "# fb_h=3\n",
    "\n",
    "# arousal运行这个\n",
    "dimension=1\n",
    "fb_l=1\n",
    "fb_h=4\n",
    "\n",
    "\n",
    "row=0\n",
    "print('第',dimension,'个维度:')\n",
    "\n",
    "\n",
    "total_mean=[]\n",
    "for i in tqdm(np.arange(1,33)):\n",
    "    if i<=9:\n",
    "        number='0'+str(i)\n",
    "    else:\n",
    "        number=str(i)\n",
    "\n",
    "\n",
    "    path='../global_data/data_preprocessed_python/s'+number+'.dat'\n",
    "    with open(path, 'rb') as file:\n",
    "        subject = pickle.load(file, encoding='latin1') \n",
    "    data = subject['data']\n",
    "    label = subject['labels']\n",
    "    data = data[:, :32]\n",
    "    label = label[:, dimension]\n",
    "    label[label<5]=0\n",
    "    label[label>=5]=1\n",
    "    # 去基线操作，\n",
    "    # 用的直接相减法，目前尚未考虑四种不同的去基线的方法对结果造成的影响\n",
    "    data1=data[:,:,0:384]\n",
    "    data2=data[:,:,384:8065]\n",
    "    data1_tmp1=np.mean(data1,axis=2) #--------------------------------------------每个通道缩为一个值\n",
    "#     print(data1_tmp1.shape)  # (40, 32)\n",
    "\n",
    "    data1_tmp2=data1_tmp1[:,:,np.newaxis]\n",
    "#     print(data1_tmp2.shape) # (40, 32, 1)\n",
    "\n",
    "    # 这边data已经去完基线了\n",
    "    data=data2-data1_tmp2  # 每个通道减去一个常数\n",
    "    channel_left=[2,3]\n",
    "    channel_right=[19,20]\n",
    "    data_left=data[:,channel_left,:]\n",
    "    data_right=data[:,channel_right,:]\n",
    "    \n",
    "    # =====================================================================这一步操作重要吗？\n",
    "    # 去趋势操作\n",
    "    data=signal.detrend(data)\n",
    "    # 电影数量为40\n",
    "    film_number=data.shape[0]\n",
    "    # 电影长度为7680\n",
    "    film_length=data.shape[2]\n",
    "    band=[1,4,8,13,31]\n",
    "    # 频率是128HZ\n",
    "    freqence=128\n",
    "    low=2*band[fb_l]/freqence;   #滤波下限\n",
    "    high=2*band[fb_h]/freqence; #滤波上限\n",
    "    [b,a]=signal.butter(8,[low,high],'bandpass')  #构造滤波器\n",
    "\n",
    "    # % 对左边的信号进行滤波\n",
    "    filted_data_left=signal.lfilter(b,a,data_left,axis=0)\n",
    "    # % 对右边的信号进行滤波\n",
    "    filted_data_right=signal.lfilter(b,a,data_right,axis=0)\n",
    "\n",
    "    # %     先用时域算一算\n",
    "\n",
    "    # %     计算左右边的两个通道相加，先算二维数据\n",
    "    sum_channel_left_1=filted_data_left[:,0,:]+filted_data_left[:,1,:]\n",
    "    sum_channel_right_1=filted_data_right[:,0,:]+filted_data_right[:,1,:]\n",
    "\n",
    "    # % 计算左边-右边\n",
    "    X_unstard=sum_channel_right_1-sum_channel_left_1\n",
    "    # Min-Max标准化\n",
    "    scaler=preprocessing.MinMaxScaler()\n",
    "    X=scaler.fit_transform(X_unstard)\n",
    "    # z-score标准化，均值为0，标准差为1\n",
    "    # X=preprocessing.scale(X_unstard)\n",
    "    # 留一法交叉验证\n",
    "    loo=LeaveOneOut()\n",
    "    clf = SVC(kernel='rbf')\n",
    "    # clf.fit()\n",
    "    # 下面开始留一法验证\n",
    "    # cross_valid=np.arange(40)\n",
    "    # for train,test in loo.split(cross_valid):\n",
    "    #     X=data\n",
    "    #     print(\"%s %s\" % (train, test))\n",
    "\n",
    "    Y=label\n",
    "    # scores = cross_val_score(clf, X, Y, cv=loo)\n",
    "    # scores = np.array(scores)\n",
    "\n",
    "    # print(scores)\n",
    "    # print(scores.mean())\n",
    "    # 交叉验证cross_val_predict输出每个样本的预测结果\n",
    "    tree_predict = cross_val_predict(clf, X, Y, cv=loo)\n",
    "#     print(tree_predict.shape) # (40,)\n",
    "    sub_acc = accuracy_score(Y, tree_predict)\n",
    "    total_mean.append(sub_acc)\n",
    "print(total_mean)\n",
    "print('第',dimension,'个维度所有人的准确率为：', np.mean(total_mean))"
   ]
  },
  {
   "cell_type": "code",
   "execution_count": null,
   "metadata": {},
   "outputs": [],
   "source": [
    "# valence: 0.75390625\n",
    "# arousal:0.68125"
   ]
  }
 ],
 "metadata": {
  "kernelspec": {
   "display_name": "tf2gpu",
   "language": "python",
   "name": "tf2gpu"
  },
  "language_info": {
   "codemirror_mode": {
    "name": "ipython",
    "version": 3
   },
   "file_extension": ".py",
   "mimetype": "text/x-python",
   "name": "python",
   "nbconvert_exporter": "python",
   "pygments_lexer": "ipython3",
   "version": "3.7.15"
  },
  "vscode": {
   "interpreter": {
    "hash": "c427406a6f2aae33550688e6d22d2cdc4104cd962cc1f91c156a40ce1a5dde22"
   }
  }
 },
 "nbformat": 4,
 "nbformat_minor": 4
}

{
 "cells": [
  {
   "cell_type": "code",
   "execution_count": null,
   "metadata": {},
   "outputs": [],
   "source": [
    "alltestlist=[]\n",
    "for subjects in subjectList:\n",
    "    print(\"_____________________________\",subjects)\n",
    "    lv=[]\n",
    "    hv=[]\n",
    "    \n",
    "    validatelabel=[]\n",
    "    validatelabel=[]\n",
    "    with open('..\\..\\data\\s' + subjects + '.dat', 'rb') as file:\n",
    "        subject = pickle.load(file, encoding='latin1')\n",
    "        for j in range(0, 40):  # 循环遍历0-40个素材数据\\n\",\n",
    "            data = subject[\"data\"][j]\n",
    "            labels = subject[\"labels\"][j]\n",
    "            if labels[1] <= 5:\n",
    "                lv.append(j)\n",
    "            else:\n",
    "                 hv.append(j)\n",
    "# a.extend(b)\n",
    "        print(len(hv))\n",
    "        print(len(lv))\n",
    "        randomhtest=int(len(hv)/4)\n",
    "        randomvtest=int(len(lv)/4)\n",
    "        testhv=random.sample(list(hv),randomhtest)\n",
    "        testlv=random.sample(list(lv), randomvtest)\n",
    "        print(\"测试集\",len(testhv)/len(testlv))\n",
    "        print(\"训练集\",(len(hv)-randomhtest)/(len(lv)-randomvtest))\n",
    "        testhv.extend(testlv)\n",
    "        print(randomhtest,randomvtest,np.array(testhv).shape)\n",
    "        print(testhv)\n",
    "        alltestlist.append(testhv)\n",
    "print(np.array(alltestlist).shape)\n",
    "np.save(str+'testList32romdom', np.array(alltestlist), allow_pickle=True, fix_imports=True)   "
   ]
  }
 ],
 "metadata": {
  "kernelspec": {
   "display_name": "Python 3",
   "language": "python",
   "name": "python3"
  },
  "language_info": {
   "codemirror_mode": {
    "name": "ipython",
    "version": 3
   },
   "file_extension": ".py",
   "mimetype": "text/x-python",
   "name": "python",
   "nbconvert_exporter": "python",
   "pygments_lexer": "ipython3",
   "version": "3.8.8"
  },
  "toc": {
   "base_numbering": 1,
   "nav_menu": {},
   "number_sections": true,
   "sideBar": true,
   "skip_h1_title": false,
   "title_cell": "Table of Contents",
   "title_sidebar": "Contents",
   "toc_cell": false,
   "toc_position": {},
   "toc_section_display": true,
   "toc_window_display": false
  },
  "varInspector": {
   "cols": {
    "lenName": 16,
    "lenType": 16,
    "lenVar": 40
   },
   "kernels_config": {
    "python": {
     "delete_cmd_postfix": "",
     "delete_cmd_prefix": "del ",
     "library": "var_list.py",
     "varRefreshCmd": "print(var_dic_list())"
    },
    "r": {
     "delete_cmd_postfix": ") ",
     "delete_cmd_prefix": "rm(",
     "library": "var_list.r",
     "varRefreshCmd": "cat(var_dic_list()) "
    }
   },
   "types_to_exclude": [
    "module",
    "function",
    "builtin_function_or_method",
    "instance",
    "_Feature"
   ],
   "window_display": false
  }
 },
 "nbformat": 4,
 "nbformat_minor": 4
}

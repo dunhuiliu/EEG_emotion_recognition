{
 "cells": [
  {
   "cell_type": "code",
   "execution_count": 1,
   "id": "limited-right",
   "metadata": {},
   "outputs": [],
   "source": [
    "# -*- encoding: utf-8 -*-\n",
    "'''\n",
    "@File        :__init__.py\n",
    "@Time        :2021/03/30 17:00:33\n",
    "@Author      :wlgls\n",
    "@Version     :1.0a\n",
    "'''\n",
    "\n",
    "from sklearn.neighbors import KDTree\n",
    "import numpy as np\n",
    "\n",
    "class Relief(object):\n",
    "    \"\"\"This is the code implementation of relief, It is modified from https://github.com/gitter-badger/ReliefF/.\n",
    "\n",
    "    Relief algorithm is a kind of feature weighting algorithms, which gives different weights to each feature according to the correlation of each feature and category. Then the feature is selected according to the weight\n",
    "\n",
    "    Parameters\n",
    "    ----------\n",
    "    m_samples int: , optional\n",
    "        In the relief algorithm, we need to sample from the training samples many times, and it's the number of samples. If it's None, It's X.shape[0]. by default None\n",
    "    n_features_to_keep : int, optional\n",
    "        The number of features you keep. If it's None, It's X.shape[2]//2.  by default None\n",
    "    feature_scores: 1d-array\n",
    "        The weight of the feature.\n",
    "    feature_sort: 1d-array\n",
    "        Index of features descending sorted by score, \n",
    "\n",
    "    Examples\n",
    "    ---------\n",
    "    \"\"\"\n",
    "    def __init__(self, m_samples=None, n_features_to_keep=None):\n",
    "        \n",
    "        self.m_samples = m_samples\n",
    "        self.n_features_to_keep =n_features_to_keep\n",
    "        self.feature_scores = None\n",
    "        self.feature_sort = None\n",
    "\n",
    "    def fit(self, X, y):\n",
    "        \"\"\"Learn the features to select.\n",
    "\n",
    "        Parameters\n",
    "        ----------\n",
    "        X : array-like\n",
    "            Training vectors\n",
    "        y : array-like\n",
    "            Target values\n",
    "\n",
    "        Return\n",
    "        ----------\n",
    "        self: object\n",
    "        \"\"\"\n",
    "\n",
    "        if self.m_samples is None:\n",
    "            self.m_samples = X.shape[0]\n",
    "        if self.n_features_to_keep is None:\n",
    "            self.n_features_to_keep = X.shape[1] // 2\n",
    "\n",
    "        self.feature_scores = np.zeros(X.shape[1])\n",
    "        \n",
    "        # binary classification problem\n",
    "        l1, l2 = np.unique(y)[0], np.unique(y)[1]\n",
    "        l1X = X[y==l1]\n",
    "        l2X = X[y==l2]\n",
    "        l1Tree = KDTree(l1X)\n",
    "        l2Tree = KDTree(l2X)\n",
    "\n",
    "        for source_ind in np.random.choice(X.shape[0], size=self.m_samples, replace=False):\n",
    "            \n",
    "            # In order to eliminate the interference of the same elements, k = 2 is selected\n",
    "            _, l1ind = l1Tree.query(X[source_ind].reshape(1, -1), k=2)\n",
    "            _, l2ind = l2Tree.query(X[source_ind].reshape(1, -1), k=2)\n",
    "\n",
    "            # del the same elements\n",
    "            if np.any(X[source_ind] == l1X[l1ind[0, 0]]):\n",
    "                l1ind = l1ind[0, 1]\n",
    "                l2ind = l2ind[0, 0]\n",
    "            else:\n",
    "                l1ind = l1ind[0, 0]\n",
    "                l2ind = l2ind[0, 1]\n",
    "\n",
    "            # Weight update\n",
    "            if y[source_ind] == l1:\n",
    "                # It means l1ind is hit\n",
    "                self.feature_scores = self.feature_scores - l1X[l1ind]/self.m_samples + l2X[l2ind]/self.m_samples\n",
    "            if y[source_ind] == l2:\n",
    "                # It means l2ind is hit\n",
    "                self.feature_scores = self.feature_scores + l1X[l1ind]/self.m_samples - l2X[l2ind]/self.m_samples\n",
    "            \n",
    "        self.feature_sort = np.argsort(self.feature_scores)[::-1]\n",
    "\n",
    "        return self\n",
    "\n",
    "    def transform(self, X):\n",
    "        \"\"\"select features\n",
    "\n",
    "        Parameters\n",
    "        ----------\n",
    "        X : array-like\n",
    "            Test vectors\n",
    "\n",
    "        Return\n",
    "        ----------\n",
    "        X_reduced: array-like\n",
    "            Selected features\n",
    "        \"\"\"\n",
    "        return X[:, self.feature_sort[:self.n_features_to_keep]]"
   ]
  },
  {
   "cell_type": "code",
   "execution_count": 2,
   "id": "accessible-wilderness",
   "metadata": {},
   "outputs": [
    {
     "data": {
      "image/png": "[encoded data removed]",
      "text/plain": [
       "<Figure size 432x288 with 1 Axes>"
      ]
     },
     "metadata": {
      "needs_background": "light"
     },
     "output_type": "display_data"
    }
   ],
   "source": [
    "## 整体代码\n",
    "# 这些包就是上一个代码里面的那些函数，我只是封装起来了\n",
    "from pyeeg.load_data import load_deap\n",
    "from pyeeg.features_extraction import power_spectral_density\n",
    "from pyeeg.feature_process import combined_electrode, group_by_trial\n",
    "from pyeeg.preprocessing import remove_baseline, split_signal, label_binarizer\n",
    "\n",
    "from sklearn.svm import SVC\n",
    "from sklearn.model_selection import LeaveOneGroupOut\n",
    "\n",
    "from matplotlib import pyplot as plt\n",
    "\n",
    "# 读数据， 选用前32个通道，第一个标签\n",
    "path = \"/home/wlgls/Desktop/DEAP/data_preprocessed_python\"\n",
    "data, label = load_deap(path, 0)\n",
    "\n",
    "# 标签二值化\n",
    "label = label_binarizer(label)\n",
    "\n",
    "### 将8064 63s的数据按照一秒的窗口分割\n",
    "d, l =split_signal(data, label)\n",
    "\n",
    "# 将数据分为基线和实际观影信号，前3秒就是基线\n",
    "base, baselabel, signalx, signallabel = remove_baseline(d, l)\n",
    "\n",
    "# 求解特征\n",
    "basef = power_spectral_density(base)# 基线\n",
    "signalf = power_spectral_density(signalx) # 信号\n",
    "\n",
    "# 将他们按照通道推起来\n",
    "basef = combined_electrode(basef)\n",
    "signalf = combined_electrode(signalf)\n",
    "\n",
    "# 减去基线 对基线求平均后减掉\n",
    "base_mean = np.mean(basef, axis=1)[:, np.newaxis, :]\n",
    "psdf = signalf - base_mean\n",
    "psdY = signallabel\n",
    "\n",
    "# 对数据分组, 就是说一个试验60s,分成60个片段，但是最后属于这个试验\n",
    "G, X, Y = group_by_trial(psdf, psdY)\n",
    "\n",
    "cv = LeaveOneGroupOut()\n",
    "svc = SVC(C=0.01)\n",
    "\n",
    "refscore = []\n",
    "n_rests = []\n",
    "\n",
    "# 保留特征数\n",
    "for n_rest in [10, 20, 30, 40, 50, 60, 70, 80, 90, 100, 110, 120, 128]:\n",
    "    ref = Relief(n_features_to_keep=n_rest)\n",
    "    cvscore = []\n",
    "    for index_train, index_test in cv.split(X=X, groups=G):\n",
    "        X_train, Y_train = X[index_train], Y[index_train]\n",
    "        X_test, Y_test = X[index_test], Y[index_test]\n",
    "        \n",
    "        # 训练relief\n",
    "        ref.fit(X_train, Y_train)\n",
    "        X_train = ref.transform(X_train)\n",
    "        X_test = ref.transform(X_test)\n",
    "        \n",
    "        svc.fit(X_train, Y_train)\n",
    "        s = svc.score(X_test, Y_test)\n",
    "        cvscore.append(s)\n",
    "    n_rests.append(n_rest)\n",
    "    refscore.append(np.mean(cvscore))\n",
    "\n",
    "plt.plot(n_rests, refscore)\n",
    "plt.ylim(0.4, 0.7)\n",
    "plt.xticks(n_rests)\n",
    "plt.show()"
   ]
  },
  {
   "cell_type": "code",
   "execution_count": 23,
   "id": "foreign-naples",
   "metadata": {},
   "outputs": [
    {
     "data": {
      "text/plain": [
       "[10, 20, 30, 40, 50, 60, 70, 80, 90, 100, 110, 120, 128]"
      ]
     },
     "execution_count": 23,
     "metadata": {},
     "output_type": "execute_result"
    }
   ],
   "source": [
    "n_rests"
   ]
  },
  {
   "cell_type": "code",
   "execution_count": 4,
   "id": "legendary-nylon",
   "metadata": {},
   "outputs": [],
   "source": [
    "# 这些包就是上一个代码里面的那些函数，我只是封装起来了\n",
    "from pyeeg.load_data import load_deap\n",
    "from pyeeg.features_extraction import power_spectral_density\n",
    "from pyeeg.feature_process import combined_electrode, group_by_trial\n",
    "from pyeeg.preprocessing import remove_baseline, split_signal, label_binarizer"
   ]
  },
  {
   "cell_type": "code",
   "execution_count": 5,
   "id": "consecutive-december",
   "metadata": {},
   "outputs": [
    {
     "data": {
      "text/plain": [
       "((40, 32, 8064), (40, 1))"
      ]
     },
     "execution_count": 5,
     "metadata": {},
     "output_type": "execute_result"
    }
   ],
   "source": [
    "# 读数据， 选用前32个通道，第一个标签\n",
    "path = \"/home/wlgls/Desktop/DEAP/data_preprocessed_python\"\n",
    "data, label = load_deap(path, 0)\n",
    "data.shape, label.shape"
   ]
  },
  {
   "cell_type": "code",
   "execution_count": 6,
   "id": "conditional-street",
   "metadata": {},
   "outputs": [
    {
     "data": {
      "text/plain": [
       "array([0., 1.])"
      ]
     },
     "execution_count": 6,
     "metadata": {},
     "output_type": "execute_result"
    }
   ],
   "source": [
    "# 标签二值化\n",
    "label = label_binarizer(label)\n",
    "np.unique(label)"
   ]
  },
  {
   "cell_type": "code",
   "execution_count": 7,
   "id": "sitting-chapter",
   "metadata": {},
   "outputs": [
    {
     "data": {
      "text/plain": [
       "((40, 63, 32, 128), (40, 63))"
      ]
     },
     "execution_count": 7,
     "metadata": {},
     "output_type": "execute_result"
    }
   ],
   "source": [
    "### 将8064 63s的数据按照一秒的窗口分割\n",
    "d, l =split_signal(data, label)\n",
    "d.shape, l.shape"
   ]
  },
  {
   "cell_type": "code",
   "execution_count": 8,
   "id": "terminal-dryer",
   "metadata": {},
   "outputs": [
    {
     "data": {
      "text/plain": [
       "((40, 3, 32, 128), (40, 3), (40, 60, 32, 128), (40, 60))"
      ]
     },
     "execution_count": 8,
     "metadata": {},
     "output_type": "execute_result"
    }
   ],
   "source": [
    "# 将数据分为基线和实际观影信号，前3秒就是基线\n",
    "base, baselabel, signalx, signallabel = remove_baseline(d, l)\n",
    "base.shape, baselabel.shape, signalx.shape, signallabel.shape"
   ]
  },
  {
   "cell_type": "code",
   "execution_count": 9,
   "id": "limited-modern",
   "metadata": {},
   "outputs": [
    {
     "data": {
      "text/plain": [
       "((40, 3, 32, 4), (40, 60, 32, 4))"
      ]
     },
     "execution_count": 9,
     "metadata": {},
     "output_type": "execute_result"
    }
   ],
   "source": [
    "# 求解特征\n",
    "basef = power_spectral_density(base)# 基线\n",
    "signalf = power_spectral_density(signalx) # 信号\n",
    "basef.shape, signalf.shape # 每个通道提出来4个频道功率"
   ]
  },
  {
   "cell_type": "code",
   "execution_count": 10,
   "id": "general-montana",
   "metadata": {},
   "outputs": [
    {
     "data": {
      "text/plain": [
       "((40, 3, 128), (40, 60, 128))"
      ]
     },
     "execution_count": 10,
     "metadata": {},
     "output_type": "execute_result"
    }
   ],
   "source": [
    "# 将他们按照通道推起来\n",
    "basef = combined_electrode(basef)\n",
    "signalf = combined_electrode(signalf)\n",
    "basef.shape, signalf.shape"
   ]
  },
  {
   "cell_type": "code",
   "execution_count": 11,
   "id": "invisible-minimum",
   "metadata": {},
   "outputs": [
    {
     "data": {
      "text/plain": [
       "((40, 60, 128), (40, 60))"
      ]
     },
     "execution_count": 11,
     "metadata": {},
     "output_type": "execute_result"
    }
   ],
   "source": [
    "# 减去基线 对基线求平均后减掉\n",
    "base_mean = np.mean(basef, axis=1)[:, np.newaxis, :]\n",
    "psdf = signalf - base_mean\n",
    "psdY = signallabel\n",
    "psdf.shape, psdY.shape"
   ]
  },
  {
   "cell_type": "code",
   "execution_count": 12,
   "id": "right-humidity",
   "metadata": {},
   "outputs": [
    {
     "data": {
      "text/plain": [
       "((2400,), (2400, 128), (2400,))"
      ]
     },
     "execution_count": 12,
     "metadata": {},
     "output_type": "execute_result"
    }
   ],
   "source": [
    "# 对数据分组, 就是说一个试验60s,分成60个片段，但是最后属于这个试验\n",
    "G, X, Y = group_by_trial(psdf, psdY)\n",
    "G.shape, X.shape, Y.shape"
   ]
  },
  {
   "cell_type": "code",
   "execution_count": 13,
   "id": "stunning-system",
   "metadata": {},
   "outputs": [
    {
     "data": {
      "text/plain": [
       "array([1, 1, 1, 1, 1, 1, 1, 1, 1, 1, 1, 1, 1, 1, 1, 1, 1, 1, 1, 1, 1, 1,\n",
       "       1, 1, 1, 1, 1, 1, 1, 1, 1, 1, 1, 1, 1, 1, 1, 1, 1, 1, 1, 1, 1, 1,\n",
       "       1, 1, 1, 1, 1, 1, 1, 1, 1, 1, 1, 1, 1, 1, 1, 1, 2, 2, 2, 2, 2, 2,\n",
       "       2, 2, 2, 2, 2, 2, 2, 2, 2, 2, 2, 2, 2, 2, 2, 2, 2, 2, 2, 2, 2, 2,\n",
       "       2, 2, 2, 2, 2, 2, 2, 2, 2, 2, 2, 2, 2, 2, 2, 2, 2, 2, 2, 2, 2, 2,\n",
       "       2, 2, 2, 2, 2, 2, 2, 2, 2, 2])"
      ]
     },
     "execution_count": 13,
     "metadata": {},
     "output_type": "execute_result"
    }
   ],
   "source": [
    "G[:120]"
   ]
  },
  {
   "cell_type": "code",
   "execution_count": 14,
   "id": "religious-cosmetic",
   "metadata": {},
   "outputs": [
    {
     "name": "stdout",
     "output_type": "stream",
     "text": [
      "True\n",
      "True\n",
      "True\n",
      "True\n",
      "True\n",
      "True\n"
     ]
    }
   ],
   "source": [
    "print(np.any(X[:60] == psdf[0]))\n",
    "print(np.any(X[60:120]== psdf[1]))\n",
    "print(np.any(X[60*8:60*9] == psdf[8]))\n",
    "\n",
    "print(np.any(Y[:60] == psdY[0]))\n",
    "print(np.any(Y[60:120] == psdY[1]))\n",
    "print(np.any(Y[60*8:60*9] == psdY[8]))"
   ]
  },
  {
   "cell_type": "code",
   "execution_count": 15,
   "id": "nuclear-combining",
   "metadata": {},
   "outputs": [],
   "source": [
    "# 在正常实验中，我一般采用留一法"
   ]
  },
  {
   "cell_type": "code",
   "execution_count": 16,
   "id": "spoken-winter",
   "metadata": {},
   "outputs": [],
   "source": [
    "from sklearn.svm import SVC\n",
    "from sklearn.model_selection import LeaveOneGroupOut"
   ]
  },
  {
   "cell_type": "code",
   "execution_count": 17,
   "id": "disciplinary-mandate",
   "metadata": {},
   "outputs": [],
   "source": [
    "cv = LeaveOneGroupOut()\n",
    "svc = SVC(C=0.01)\n"
   ]
  },
  {
   "cell_type": "code",
   "execution_count": 18,
   "id": "national-frontier",
   "metadata": {},
   "outputs": [],
   "source": [
    "refscore = []\n",
    "n_rests = []\n",
    "for n_rest in [10, 20, 30, 40, 50, 60, 70, 80, 90, 100, 110, 120, 128]:\n",
    "    ref = Relief(n_features_to_keep=n_rest)\n",
    "    cvscore = []\n",
    "    for index_train, index_test in cv.split(X=X, groups=G):\n",
    "        X_train, Y_train = X[index_train], Y[index_train]\n",
    "        X_test, Y_test = X[index_test], Y[index_test]\n",
    "        \n",
    "        # 训练relief\n",
    "        ref.fit(X_train, Y_train)\n",
    "        X_train = ref.transform(X_train)\n",
    "        X_test = ref.transform(X_test)\n",
    "        \n",
    "        svc.fit(X_train, Y_train)\n",
    "        s = svc.score(X_test, Y_test)\n",
    "        cvscore.append(s)\n",
    "    n_rests.append(n_rest)\n",
    "    refscore.append(np.mean(cvscore))"
   ]
  },
  {
   "cell_type": "code",
   "execution_count": 19,
   "id": "natural-statement",
   "metadata": {},
   "outputs": [
    {
     "data": {
      "text/plain": [
       "[10, 20, 30, 40, 50, 60, 70, 80, 90, 100, 110, 120, 128]"
      ]
     },
     "execution_count": 19,
     "metadata": {},
     "output_type": "execute_result"
    }
   ],
   "source": [
    "n_rests"
   ]
  },
  {
   "cell_type": "code",
   "execution_count": 20,
   "id": "cross-costume",
   "metadata": {},
   "outputs": [
    {
     "data": {
      "text/plain": [
       "[0.6849999999999999,\n",
       " 0.6854166666666667,\n",
       " 0.6766666666666666,\n",
       " 0.6654166666666667,\n",
       " 0.6595833333333333,\n",
       " 0.6495833333333334,\n",
       " 0.6483333333333332,\n",
       " 0.6487499999999999,\n",
       " 0.6479166666666666,\n",
       " 0.6433333333333333,\n",
       " 0.6420833333333335,\n",
       " 0.6408333333333334,\n",
       " 0.6358333333333334]"
      ]
     },
     "execution_count": 20,
     "metadata": {},
     "output_type": "execute_result"
    }
   ],
   "source": [
    "refscore"
   ]
  },
  {
   "cell_type": "code",
   "execution_count": 21,
   "id": "olympic-steps",
   "metadata": {},
   "outputs": [],
   "source": [
    "from matplotlib import pyplot as plt"
   ]
  },
  {
   "cell_type": "code",
   "execution_count": 22,
   "id": "smaller-bruce",
   "metadata": {},
   "outputs": [
    {
     "data": {
      "image/png": "[encoded data removed]",
      "text/plain": [
       "<Figure size 432x288 with 1 Axes>"
      ]
     },
     "metadata": {
      "needs_background": "light"
     },
     "output_type": "display_data"
    }
   ],
   "source": [
    "plt.plot(n_rests, refscore)\n",
    "plt.ylim(0.4, 0.7)\n",
    "plt.xticks(n_rests)\n",
    "plt.show()"
   ]
  },
  {
   "cell_type": "code",
   "execution_count": null,
   "id": "varying-nursing",
   "metadata": {},
   "outputs": [],
   "source": []
  }
 ],
 "metadata": {
  "kernelspec": {
   "display_name": "Python 3",
   "language": "python",
   "name": "python3"
  },
  "language_info": {
   "codemirror_mode": {
    "name": "ipython",
    "version": 3
   },
   "file_extension": ".py",
   "mimetype": "text/x-python",
   "name": "python",
   "nbconvert_exporter": "python",
   "pygments_lexer": "ipython3",
   "version": "3.8.8"
  }
 },
 "nbformat": 4,
 "nbformat_minor": 5
}

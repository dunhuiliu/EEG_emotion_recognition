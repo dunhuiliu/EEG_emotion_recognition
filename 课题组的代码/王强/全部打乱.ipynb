{
 "cells": [
  {
   "cell_type": "code",
   "execution_count": null,
   "metadata": {
    "id": "8qaI2JKdsEoN"
   },
   "outputs": [],
   "source": []
  },
  {
   "cell_type": "code",
   "execution_count": 2,
   "metadata": {
    "colab": {
     "base_uri": "https://localhost:8080/"
    },
    "id": "6LYWQuabZ7fU",
    "outputId": "8b5b5f29-b1bb-4260-a223-fb4b864b1c57"
   },
   "outputs": [
    {
     "name": "stdout",
     "output_type": "stream",
     "text": [
      "Drive already mounted at /content/drive; to attempt to forcibly remount, call drive.mount(\"/content/drive\", force_remount=True).\n",
      "/content/drive/My Drive/colab_data\n"
     ]
    }
   ],
   "source": [
    "from google.colab import drive\n",
    "drive.mount('/content/drive')\n",
    "%cd /content/drive/My Drive/colab_data"
   ]
  },
  {
   "cell_type": "code",
   "execution_count": 2,
   "metadata": {
    "colab": {
     "base_uri": "https://localhost:8080/"
    },
    "id": "PpzIsLOkZ_3a",
    "outputId": "542c3a5c-96d1-485e-9501-45c9289a9112"
   },
   "outputs": [
    {
     "name": "stdout",
     "output_type": "stream",
     "text": [
      "Collecting scikit-learn==0.24\n",
      "\u001b[?25l  Downloading https://files.pythonhosted.org/packages/b1/ed/ab51a8da34d2b3f4524b21093081e7f9e2ddf1c9eac9f795dcf68ad0a57d/scikit_learn-0.24.0-cp37-cp37m-manylinux2010_x86_64.whl (22.3MB)\n",
      "\u001b[K     |████████████████████████████████| 22.3MB 1.8MB/s \n",
      "\u001b[?25hCollecting threadpoolctl>=2.0.0\n",
      "  Downloading https://files.pythonhosted.org/packages/f7/12/ec3f2e203afa394a149911729357aa48affc59c20e2c1c8297a60f33f133/threadpoolctl-2.1.0-py3-none-any.whl\n",
      "Requirement already satisfied: numpy>=1.13.3 in /usr/local/lib/python3.7/dist-packages (from scikit-learn==0.24) (1.19.5)\n",
      "Requirement already satisfied: scipy>=0.19.1 in /usr/local/lib/python3.7/dist-packages (from scikit-learn==0.24) (1.4.1)\n",
      "Requirement already satisfied: joblib>=0.11 in /usr/local/lib/python3.7/dist-packages (from scikit-learn==0.24) (1.0.1)\n",
      "Installing collected packages: threadpoolctl, scikit-learn\n",
      "  Found existing installation: scikit-learn 0.22.2.post1\n",
      "    Uninstalling scikit-learn-0.22.2.post1:\n",
      "      Successfully uninstalled scikit-learn-0.22.2.post1\n",
      "Successfully installed scikit-learn-0.24.0 threadpoolctl-2.1.0\n"
     ]
    }
   ],
   "source": [
    "!pip install scikit-learn==0.24"
   ]
  },
  {
   "cell_type": "code",
   "execution_count": 3,
   "metadata": {
    "id": "EVqSN0JmaB7U"
   },
   "outputs": [],
   "source": [
    "import pickle\n",
    "import numpy as np\n",
    "import matplotlib.pyplot as plt\n",
    "import seaborn as sns\n",
    "from scipy import signal\n",
    "sns.set_theme(style=\"whitegrid\")\n",
    "\n",
    "# from pyeeg.feature_extraction import power_spectral_density\n",
    "# from pyeeg.utils import get_features\n",
    "\n",
    "from sklearn.preprocessing import Normalizer\n",
    "from sklearn.svm import SVC\n",
    "from sklearn.ensemble import RandomForestClassifier\n",
    "from sklearn.model_selection import LeaveOneGroupOut, cross_val_score, GridSearchCV, GroupKFold\n",
    "from sklearn.cluster import KMeans"
   ]
  },
  {
   "cell_type": "code",
   "execution_count": 4,
   "metadata": {
    "id": "0c2oScW5aNKe"
   },
   "outputs": [],
   "source": [
    "def power_spectral_density(data, sf=128, nperseg=128, band=(4, 8, 14, 31, 65)):\n",
    "    band = np.array(band)\n",
    "\n",
    "    freqs, power = signal.welch(data, sf, nperseg=nperseg)\n",
    "    \n",
    "    freqband = np.hsplit(freqs, band)[1:-1] # Remove the beginning and the end\n",
    "\n",
    "    # Get the index of the corresponding frequency band\n",
    "    pindex = []\n",
    "    for fb in freqband:\n",
    "        pindex.append(np.where(np.in1d(freqs, fb))[0])\n",
    "    \n",
    "    # Get features\n",
    "    f = []\n",
    "    for index in pindex:\n",
    "        f.append(np.mean(power[..., index], axis=-1))\n",
    "    \n",
    "    f = np.stack(f, axis=-1)\n",
    "    return f\n",
    "    \n",
    "def load_deap(s=\"01\"):\n",
    "    print(s)\n",
    "    with open(\"data_preprocessed_python\"+\"/s{}.dat\".format(s), \"rb\") as f:\n",
    "        subject = pickle.load(f, encoding='latin1')\n",
    "    data = subject['data'][:,:32]\n",
    "    label = subject['labels'][:, [0]]\n",
    "    return data, label\n",
    "\n",
    "subjectList = np.array(('01','02','03','04','05','06','07','08',\n",
    "               '09','10','11','12','13','14','15','16',\n",
    "               '17','18','19','20','21','22','23','24',\n",
    "               '25','26','27','28','29','30','31','32'))\n",
    "\n",
    "def split_signal(data, label, windows=1, fs=128):\n",
    "    if len(data.shape) != 3:\n",
    "        raise ValueError\n",
    "\n",
    "    sp = data.shape[-1] // fs // windows\n",
    "    tmpData = np.stack(np.split(data, sp, axis=2), axis=1)\n",
    "    tmpLabel = np.repeat(label, tmpData.shape[1], axis=1)\n",
    "    return tmpData, tmpLabel\n",
    "\n",
    "def remove_baseline(data, label, baseline=3):\n",
    "    base = data[:, :baseline, ...]\n",
    "    signal = data[:, baseline:, ...]\n",
    "\n",
    "    base_label = label[:, :baseline]\n",
    "    signal_label = label[:, baseline:]\n",
    "\n",
    "    return base, base_label, signal, signal_label\n",
    "def label_binarizer(label, threshold=5):\n",
    "    tmp = np.copy(label)\n",
    "    tmp[label<=threshold] = 0\n",
    "    tmp[label> threshold] = 1\n",
    "    return tmp\n",
    "def combined_electrode(features):\n",
    "    \n",
    "    return features.reshape((*features.shape[:-2], -1))\n",
    "def group_by_trial(data, label, shuffle=False):\n",
    "\n",
    "    trials, slices, *features_shape = data.shape\n",
    "    data = data.reshape(-1, *features_shape)\n",
    "    label = np.ravel(label, order='C')\n",
    "    groups = np.arange(1, trials+1)\n",
    "    groups = np.repeat(groups, slices)\n",
    "    \n",
    "    if shuffle:\n",
    "        index = np.arange(len(groups))\n",
    "        np.random.shuffle(index)\n",
    "        return groups[index], data[index], label[index]\n",
    "\n",
    "    return groups, data, label \n",
    "def get_features(data, label, feature_func):\n",
    "    \"\"\"A boring code, just don't want to write repeated code every time\n",
    "    \"\"\"\n",
    "    data, label = split_signal(data, label)\n",
    "    label = label_binarizer(label)\n",
    "\n",
    "    base, _, signal, signal_label = remove_baseline(data, label)\n",
    "\n",
    "    basef = combined_electrode(feature_func(base))\n",
    "\n",
    "    signalf = combined_electrode(feature_func(signal))\n",
    "\n",
    "    base_mean = np.mean(basef, axis=1)[:, np.newaxis, :]\n",
    "\n",
    "    X = signalf - base_mean\n",
    "    Y = signal_label\n",
    "\n",
    "    G, X, Y = group_by_trial(X, Y)\n",
    "    return G, X, Y   "
   ]
  },
  {
   "cell_type": "code",
   "execution_count": 5,
   "metadata": {
    "colab": {
     "base_uri": "https://localhost:8080/"
    },
    "id": "3YjBFfoXaQqb",
    "outputId": "90677510-c80b-4857-9741-cd8dd758e228"
   },
   "outputs": [
    {
     "name": "stdout",
     "output_type": "stream",
     "text": [
      "01\n"
     ]
    },
    {
     "data": {
      "text/plain": [
       "((40, 32, 8064), (40, 1))"
      ]
     },
     "execution_count": 5,
     "metadata": {
      "tags": []
     },
     "output_type": "execute_result"
    }
   ],
   "source": [
    "data,label = load_deap('01')\n",
    "data.shape, label.shape"
   ]
  },
  {
   "cell_type": "code",
   "execution_count": 28,
   "metadata": {
    "id": "T1SnGSkSaozO"
   },
   "outputs": [],
   "source": []
  },
  {
   "cell_type": "code",
   "execution_count": 6,
   "metadata": {
    "colab": {
     "base_uri": "https://localhost:8080/"
    },
    "id": "0vVVkJW_aVAs",
    "outputId": "79e594fa-d66f-413d-89c1-8736ef875cc7"
   },
   "outputs": [
    {
     "name": "stdout",
     "output_type": "stream",
     "text": [
      "01\n",
      "02\n",
      "03\n",
      "04\n",
      "05\n",
      "06\n",
      "07\n",
      "08\n",
      "09\n",
      "10\n",
      "11\n",
      "12\n",
      "13\n",
      "14\n",
      "15\n",
      "16\n",
      "17\n",
      "18\n",
      "19\n",
      "20\n",
      "21\n",
      "22\n",
      "23\n",
      "24\n",
      "25\n",
      "26\n",
      "27\n",
      "28\n",
      "29\n",
      "30\n",
      "31\n",
      "32\n"
     ]
    }
   ],
   "source": [
    "aG = []\n",
    "aX = []\n",
    "aY = []\n",
    "for i, subject in enumerate(subjectList):\n",
    "  data, label = load_deap(subject)\n",
    "  G, X, Y = get_features(data, label, power_spectral_density)\n",
    "  aG.append(G+i*40)\n",
    "  aX.append(X)\n",
    "  aY.append(Y)\n",
    "aG = np.concatenate(aG)\n",
    "aX = np.concatenate(aX)\n",
    "aY = np.concatenate(aY)"
   ]
  },
  {
   "cell_type": "code",
   "execution_count": 30,
   "metadata": {
    "id": "h3MNzGjFbboq"
   },
   "outputs": [],
   "source": [
    "from sklearn.model_selection import GroupKFold"
   ]
  },
  {
   "cell_type": "code",
   "execution_count": 7,
   "metadata": {
    "colab": {
     "base_uri": "https://localhost:8080/"
    },
    "id": "jC0kZwtdrNgz",
    "outputId": "4a29f549-f6ac-4e62-a36a-98b57d5a35da"
   },
   "outputs": [
    {
     "data": {
      "text/plain": [
       "((76800,), (76800, 128), (76800,))"
      ]
     },
     "execution_count": 7,
     "metadata": {
      "tags": []
     },
     "output_type": "execute_result"
    }
   ],
   "source": [
    "aG.shape, aX.shape, aY.shape"
   ]
  },
  {
   "cell_type": "code",
   "execution_count": 8,
   "metadata": {
    "id": "mEZ5J4B3b_62"
   },
   "outputs": [],
   "source": [
    "index = np.arange(len(aG))\n",
    "np.random.shuffle(index) # 把index打乱"
   ]
  },
  {
   "cell_type": "code",
   "execution_count": 9,
   "metadata": {
    "colab": {
     "base_uri": "https://localhost:8080/"
    },
    "id": "JAoZpLZQcbSg",
    "outputId": "490b5628-4eae-4dee-acf9-d55cfa65261e"
   },
   "outputs": [
    {
     "data": {
      "text/plain": [
       "(76800,)"
      ]
     },
     "execution_count": 9,
     "metadata": {
      "tags": []
     },
     "output_type": "execute_result"
    }
   ],
   "source": [
    "aG = aG[index]\n",
    "aX = aX[index]\n",
    "aY = aY[index]\n",
    "aG.shape"
   ]
  },
  {
   "cell_type": "code",
   "execution_count": 10,
   "metadata": {
    "colab": {
     "base_uri": "https://localhost:8080/"
    },
    "id": "JQuKJ38obh1q",
    "outputId": "0de86c3c-142a-4799-9bcd-6d7df5216785"
   },
   "outputs": [
    {
     "name": "stdout",
     "output_type": "stream",
     "text": [
      "[   3    7   11   15   19   23   27   31   35   40   43   47   51   55\n",
      "   59   63   67   71   75   79   83   87   91   95   99  103  107  111\n",
      "  115  120  123  127  131  135  139  143  147  151  155  160  163  167\n",
      "  171  175  179  183  187  191  195  200  203  207  211  215  219  223\n",
      "  227  231  235  239  243  247  251  255  259  263  267  271  275  280\n",
      "  283  287  291  295  299  303  307  311  315  320  323  327  331  335\n",
      "  339  343  347  351  355  360  363  367  371  375  379  383  387  391\n",
      "  395  400  403  407  411  415  420  424  428  432  436  440  444  448\n",
      "  452  456  460  464  468  472  476  480  484  488  492  496  500  504\n",
      "  508  512  516  521  524  528  532  536  540  544  548  552  556  560\n",
      "  564  568  572  576  580  584  588  592  596  601  604  608  612  616\n",
      "  620  624  628  632  636  640  644  648  652  656  660  664  668  672\n",
      "  676  681  684  688  692  696  700  704  708  712  716  720  724  728\n",
      "  732  736  740  744  748  752  756  761  764  768  772  776  780  784\n",
      "  788  792  796  801  804  808  812  816  820  824  828  832  836  841\n",
      "  844  848  852  856  860  864  868  872  876  880  884  888  892  896\n",
      "  900  904  908  912  916  921  924  928  932  936  940  944  948  952\n",
      "  956  960  964  968  972  976  980  984  988  992  996 1001 1004 1008\n",
      " 1012 1016 1020 1024 1028 1032 1036 1040 1044 1048 1052 1056 1060 1064\n",
      " 1068 1072 1076 1081 1084 1088 1092 1096 1100 1104 1108 1112 1116 1121\n",
      " 1124 1128 1132 1136 1140 1144 1148 1152 1156 1161 1164 1168 1172 1176\n",
      " 1180 1184 1188 1192 1196 1200 1204 1208 1212 1216 1220 1224 1228 1232\n",
      " 1236 1241 1244 1248 1252 1256 1260 1264 1268 1272 1276 1280]\n"
     ]
    }
   ],
   "source": [
    "svc = SVC()\n",
    "cv = GroupKFold(n_splits=4)\n",
    "for i_tr, i_te in cv.split(aX, groups=aG):\n",
    "  print(np.unique(aG[i_te]))# 看一下test乱不乱\n",
    "  \n",
    "  x_train, y_train = aX[i_tr],aY[i_tr]\n",
    "  x_test, y_test = aX[i_te], aY[i_te]\n",
    "  svc.fit(x_train, y_train)\n",
    "  print(svc.score(x_test, y_test))"
   ]
  },
  {
   "cell_type": "code",
   "execution_count": 16,
   "metadata": {
    "id": "tR6e-3VBsGKX"
   },
   "outputs": [],
   "source": [
    "# 直接划分"
   ]
  },
  {
   "cell_type": "code",
   "execution_count": 11,
   "metadata": {
    "id": "yGuQ-tHgp5ha"
   },
   "outputs": [],
   "source": [
    "from sklearn.model_selection import train_test_split"
   ]
  },
  {
   "cell_type": "code",
   "execution_count": 17,
   "metadata": {
    "colab": {
     "base_uri": "https://localhost:8080/"
    },
    "id": "XwNZZ7rpb6GG",
    "outputId": "64e91e7c-7619-487a-d35c-96d3e88ca59f"
   },
   "outputs": [
    {
     "data": {
      "text/plain": [
       "array([1241,  696,  900,  771,  744,  347,  240,  465,  406,  987,  707,\n",
       "        573,   66,   45, 1099,  527, 1160,  478,  631, 1046, 1041,  197,\n",
       "        232,  833,  334, 1069,  395,  343,  199, 1143,  366,  185, 1027,\n",
       "        129,  924, 1278,   52,  241, 1177,  672,  443, 1147,  222,   24,\n",
       "        424,  668,  298,   44, 1116,  713,  772,  853,   82,   64,  124,\n",
       "       1053,   79,  984,  278, 1094,  755,  586,  353,  255,  709,  717,\n",
       "       1078,  375,  211,  245,  742,  549, 1048,   33,   77,  340,  757,\n",
       "        479,  913, 1007, 1070,  221,  307,  829,  894,  468, 1268,  886,\n",
       "       1120,  219,  102,  543,  590,  559,  209,   59,  421,  910, 1113,\n",
       "       1250,  600,  486,  515,  452,   50, 1011, 1225,  439,   87,  310,\n",
       "        416,  835,  491,  329,  266,  827,  674,  550,  852,  842, 1086,\n",
       "        803,  788,  309,  584,  679,  846,  287,  352,  523,  304,  598,\n",
       "       1001,  753,   30, 1016,  156,   32, 1274,  414, 1222,   71,  262,\n",
       "        807,  248,  454, 1084,  448,  591,  391,  537,   49,  114,  722,\n",
       "        260,  615, 1271,  507, 1244,  108, 1002, 1028,  678, 1263, 1180,\n",
       "        571,  234, 1194,  440,  426,  723,  621,  169,  576,  655, 1201,\n",
       "        364,  529,  175,  193, 1266,  933,  977,   55,  876,  399, 1079,\n",
       "         57,  680,  244,  110,  459,  650,  328,  974, 1229, 1115,  990,\n",
       "        618,  381,  947,  635,  498, 1081,  382,  677,  971, 1228,  567,\n",
       "        766,  963,  708,  683,  840,  856,  171,  313,  378,  356, 1189,\n",
       "        210,  661,  716,  141,  901,  351,  619,  824,  728, 1276,  290,\n",
       "        200, 1032,  271,  283,  712,   11,  148,  644, 1157,  763,  544,\n",
       "       1260,  164,  383,  965, 1214,  985,  332,  362,  740,  425, 1141,\n",
       "        945,  359,  136,  918,  276,  534, 1047, 1000,  159, 1066, 1111,\n",
       "        784, 1176,  495,  995,  848,   97,  902,  681,  434,  157,  908,\n",
       "       1166,  299, 1056,  423,  948, 1154,  436, 1036,  297,  949,  429,\n",
       "       1146,  637, 1101,  583,  939,  179,  991,  666, 1008,  295,  937,\n",
       "        711,  410, 1058,   89, 1034,  775,  592, 1062,  942, 1097,  291,\n",
       "        286, 1213,  969,  267,   60, 1209, 1019,  799,  747,  714,  412,\n",
       "        610])"
      ]
     },
     "execution_count": 17,
     "metadata": {
      "tags": []
     },
     "output_type": "execute_result"
    }
   ],
   "source": [
    "group = np.unique(aG)\n",
    "g_train, g_test = train_test_split(group, test_size=0.25, random_state=42)\n",
    "g_test# 测试集，看看乱不乱"
   ]
  },
  {
   "cell_type": "code",
   "execution_count": null,
   "metadata": {
    "id": "-hI3qGRgpWfh"
   },
   "outputs": [],
   "source": [
    "X_train, Y_train = aX[np.in1d(aG, g_train)], aY[np.in1d(aG, g_train)]\n",
    "X_test, Y_test = aX[np.in1d(aG, g_test)], aY[np.in1d(aG, g_test)]\n",
    "svc = SVC()\n",
    "svc.fit(X_train, Y_train)\n",
    "svc.score(X_test, Y_test)"
   ]
  },
  {
   "cell_type": "code",
   "execution_count": null,
   "metadata": {
    "id": "_UxX7sj_swPg"
   },
   "outputs": [],
   "source": []
  }
 ],
 "metadata": {
  "colab": {
   "collapsed_sections": [],
   "name": "全部打乱.ipynb",
   "provenance": []
  },
  "kernelspec": {
   "display_name": "Python 3",
   "language": "python",
   "name": "python3"
  },
  "language_info": {
   "codemirror_mode": {
    "name": "ipython",
    "version": 3
   },
   "file_extension": ".py",
   "mimetype": "text/x-python",
   "name": "python",
   "nbconvert_exporter": "python",
   "pygments_lexer": "ipython3",
   "version": "3.7.6"
  },
  "toc": {
   "base_numbering": 1,
   "nav_menu": {},
   "number_sections": true,
   "sideBar": true,
   "skip_h1_title": false,
   "title_cell": "Table of Contents",
   "title_sidebar": "Contents",
   "toc_cell": false,
   "toc_position": {},
   "toc_section_display": true,
   "toc_window_display": false
  },
  "varInspector": {
   "cols": {
    "lenName": 16,
    "lenType": 16,
    "lenVar": 40
   },
   "kernels_config": {
    "python": {
     "delete_cmd_postfix": "",
     "delete_cmd_prefix": "del ",
     "library": "var_list.py",
     "varRefreshCmd": "print(var_dic_list())"
    },
    "r": {
     "delete_cmd_postfix": ") ",
     "delete_cmd_prefix": "rm(",
     "library": "var_list.r",
     "varRefreshCmd": "cat(var_dic_list()) "
    }
   },
   "types_to_exclude": [
    "module",
    "function",
    "builtin_function_or_method",
    "instance",
    "_Feature"
   ],
   "window_display": false
  }
 },
 "nbformat": 4,
 "nbformat_minor": 1
}

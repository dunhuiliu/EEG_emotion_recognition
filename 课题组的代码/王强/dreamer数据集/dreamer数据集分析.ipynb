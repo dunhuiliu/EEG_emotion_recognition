{
 "cells": [
  {
   "cell_type": "markdown",
   "id": "4355b84f",
   "metadata": {},
   "source": [
    "本篇主要是对dreamer数据集进行一定的简单分析和拟合\n",
    "\n",
    "结果并不是特别好，在随机森留一法情况下，所有人的平均准确率为0.52"
   ]
  },
  {
   "cell_type": "code",
   "execution_count": 1,
   "id": "3d25873d",
   "metadata": {},
   "outputs": [],
   "source": [
    "import pickle\n",
    "import numpy as np\n",
    "import matplotlib.pyplot as plt\n",
    "path = '/home/wlgls/Desktop/DEAP/dreamer'"
   ]
  },
  {
   "cell_type": "code",
   "execution_count": 2,
   "id": "57952e21",
   "metadata": {},
   "outputs": [],
   "source": [
    "# 根据存储的文件在进行读取\n",
    "def load_dreamer(path, subject=0):\n",
    "    path = path+\"/d{}.pkl\"\n",
    "    subjectList = np.array(('01','02','03','04','05','06','07','08',\n",
    "               '09','10','11','12','13','14','15','16',\n",
    "               '17','18','19','20','21','22','23'))\n",
    "    with open(path.format(subjectList[subject]), \"rb\") as f:\n",
    "        data = pickle.load(f)\n",
    "    return data['baseline'], data['stimuli'], data['labels']"
   ]
  },
  {
   "cell_type": "markdown",
   "id": "0af66366",
   "metadata": {},
   "source": [
    "### 一、读取数据\n",
    "\n",
    "以第一个人的数据为例，如下:\n",
    "\n",
    "其中每一个受试者观看18个视频，每一个视频数据都主要包含一个基线数据，一个激励数据和标签数据。\n",
    "\n",
    "其中：\n",
    "\n",
    "基线和激励的形状都是18*1，每一个都是一个视频数据\n",
    "\n",
    "labels主要包含Valence评分，Arousal评分，Domiance评分"
   ]
  },
  {
   "cell_type": "code",
   "execution_count": 3,
   "id": "1125d2e9",
   "metadata": {},
   "outputs": [],
   "source": [
    "baseline, stimuli, labels =load_dreamer(path)"
   ]
  },
  {
   "cell_type": "code",
   "execution_count": 4,
   "id": "41a4fa48",
   "metadata": {},
   "outputs": [
    {
     "data": {
      "text/plain": [
       "((18, 1), (18, 1), (18, 3))"
      ]
     },
     "execution_count": 4,
     "metadata": {},
     "output_type": "execute_result"
    }
   ],
   "source": [
    "baseline.shape, stimuli.shape, labels.shape"
   ]
  },
  {
   "cell_type": "markdown",
   "id": "c9a78a35",
   "metadata": {},
   "source": [
    "### 二、视频数据分析\n",
    "\n",
    "对于dreamer提供的eeg数据，采样频率为128Hz。\n",
    "\n",
    "一共使用了14个通道。如下: {'AF3''F7''FC5''FC5''T7''P7''O1'''O2''P8''T8''FC6'F4''F8''AF4'}\n",
    "\n",
    "受试者观看18个视频的基线是相同的都是61s。\n",
    "\n",
    "但是在观看视频时，每个视频的时长并不相同，获取的脑也不相同。每一个视频的长度如下:"
   ]
  },
  {
   "cell_type": "code",
   "execution_count": 5,
   "id": "45133a49",
   "metadata": {},
   "outputs": [
    {
     "name": "stdout",
     "output_type": "stream",
     "text": [
      "第 1 个视频的脑数据形状： (14, 25472), 时长为：199s\n",
      "第 2 个视频的脑数据形状： (14, 16768), 时长为：131s\n",
      "第 3 个视频的脑数据形状： (14, 44544), 时长为：348s\n",
      "第 4 个视频的脑数据形状： (14, 21248), 时长为：166s\n",
      "第 5 个视频的脑数据形状： (14, 17408), 时长为：136s\n",
      "第 6 个视频的脑数据形状： (14, 24320), 时长为：190s\n",
      "第 7 个视频的脑数据形状： (14, 24576), 时长为：192s\n",
      "第 8 个视频的脑数据形状： (14, 50432), 时长为：394s\n",
      "第 9 个视频的脑数据形状： (14, 18560), 时长为：145s\n",
      "第 10 个视频的脑数据形状： (14, 8576), 时长为：67s\n",
      "第 11 个视频的脑数据形状： (14, 12288), 时长为：96s\n",
      "第 12 个视频的脑数据形状： (14, 23168), 时长为：181s\n",
      "第 13 个视频的脑数据形状： (14, 47104), 时长为：368s\n",
      "第 14 个视频的脑数据形状： (14, 21760), 时长为：170s\n",
      "第 15 个视频的脑数据形状： (14, 39424), 时长为：308s\n",
      "第 16 个视频的脑数据形状： (14, 24960), 时长为：195s\n",
      "第 17 个视频的脑数据形状： (14, 32768), 时长为：256s\n",
      "第 18 个视频的脑数据形状： (14, 23808), 时长为：186s\n"
     ]
    }
   ],
   "source": [
    "for i in range(18):\n",
    "    vi_stimuli = stimuli[i, 0]\n",
    "    print(\"第 {} 个视频的脑数据形状： {}, 时长为：{}s\".format(i+1, vi_stimuli.shape, vi_stimuli.shape[-1]//128))"
   ]
  },
  {
   "cell_type": "code",
   "execution_count": 6,
   "id": "125b58c6",
   "metadata": {},
   "outputs": [],
   "source": [
    "# 获取受试者第一个视频的基线和激励\n",
    "v1_baseline = baseline[0, 0]\n",
    "v1_stimuli = stimuli[0, 0]"
   ]
  },
  {
   "cell_type": "code",
   "execution_count": 7,
   "id": "ea3fa3c6",
   "metadata": {},
   "outputs": [
    {
     "name": "stdout",
     "output_type": "stream",
     "text": [
      "第一个视频的基线的shape: (14, 7808)\n",
      "第一个视频激励的shape: (14, 25472)\n"
     ]
    }
   ],
   "source": [
    "print(\"第一个视频的基线的shape:\", v1_baseline.shape)\n",
    "print(\"第一个视频激励的shape:\", v1_stimuli.shape)"
   ]
  },
  {
   "cell_type": "markdown",
   "id": "98eaf8bf",
   "metadata": {},
   "source": [
    "### 三、标签数据分析\n",
    "\n",
    "dreamer使用三维情绪模型，标签主要包含Valence评分，Arousal评分，Domiance评分\n",
    "\n",
    "其中每一个标签分1\\~5个等级。需要注意的是他是离散的分数，不像deap那样从1\\~9的连续分数\n",
    "\n",
    "本文主要分析Valence标签。"
   ]
  },
  {
   "cell_type": "code",
   "execution_count": 8,
   "id": "80c055a9",
   "metadata": {},
   "outputs": [
    {
     "data": {
      "text/plain": [
       "array([4, 3, 5, 4, 4, 1, 5, 1, 1, 5, 4, 4, 4, 3, 2, 3, 1, 3], dtype=uint8)"
      ]
     },
     "execution_count": 8,
     "metadata": {},
     "output_type": "execute_result"
    }
   ],
   "source": [
    "# 受试者1的valence标签\n",
    "valence = labels[:, 0]\n",
    "valence"
   ]
  },
  {
   "cell_type": "markdown",
   "id": "b4646222",
   "metadata": {},
   "source": [
    "使用盒图观看18影片的的标签分布。\n",
    "\n",
    "只有一小部分的视频的打分是模棱两可的，也是有正面评价也有负向评价，大部分影片的评价都都大部分要么是正向要么是负向。\n",
    "\n",
    "其中评价为负面的影片数量更多。通过盒图可以看出，大部分受试者偏向于打3这个分数。比如影片1，14，15，18这几个有1/4的人打了三分，其他的影片也多有这个现象"
   ]
  },
  {
   "cell_type": "code",
   "execution_count": 9,
   "id": "26afd259",
   "metadata": {},
   "outputs": [],
   "source": [
    "all_labels = []\n",
    "for i in range(23):\n",
    "    _, _, l = load_dreamer(path, subject=i)\n",
    "    all_labels.append(l[:, 0])\n",
    "all_labels = np.array(all_labels)"
   ]
  },
  {
   "cell_type": "code",
   "execution_count": 10,
   "id": "46ceea2b",
   "metadata": {},
   "outputs": [
    {
     "data": {
      "image/png": "[encoded data removed]",
      "text/plain": [
       "<Figure size 1440x360 with 1 Axes>"
      ]
     },
     "metadata": {
      "needs_background": "light"
     },
     "output_type": "display_data"
    }
   ],
   "source": [
    "names = ('v01','v02','v03','v04','v05','v06','v07','v08',\n",
    "               'v09','v10','v11','v12','v13','v14','v15','v16','v17','v18')\n",
    "fig, ax = plt.subplots(figsize=(20, 5))\n",
    "ax.boxplot(all_labels, \n",
    "           vert=True,\n",
    "           labels=names)\n",
    "ax.axhline(y=3)\n",
    "plt.show()"
   ]
  },
  {
   "cell_type": "markdown",
   "id": "5a57c3dd",
   "metadata": {},
   "source": [
    "### 3、实际测试\n",
    "\n",
    "首先对一个受试者进行模型拟合。模型选择随机森林，留一法。\n",
    "\n",
    "特征选择PSD特征\n",
    "\n",
    "数据以1s窗口被切分\n",
    "\n",
    "对于基线的处理，求解出61个特征后求取平均，然后使用数据减去\n",
    "\n",
    "最后的分数选择投票法进行测试。\n"
   ]
  },
  {
   "cell_type": "code",
   "execution_count": 11,
   "id": "903cf28d",
   "metadata": {},
   "outputs": [],
   "source": [
    "# 求解特征\n",
    "def bin_power(data, band=(4, 8, 12, 16, 25, 45), fs=128):\n",
    "    # 重构 批量化处理\n",
    "    C = np.fft.fft(data)\n",
    "    C = np.abs(C)\n",
    "    power = []\n",
    "    for b_index in range(len(band)-1):\n",
    "        freq_s = float(band[b_index])\n",
    "        freq_e = float(band[b_index+1])\n",
    "        # 切分开始和结束\n",
    "        start = int(np.floor(freq_s/fs*data.shape[-1]))\n",
    "        end = int(np.floor(freq_e/fs*data.shape[-1]))\n",
    "        power.append(np.sum(C[..., start:end], axis=-1))\n",
    "    return np.stack(power, axis=-1)\n",
    "\n",
    "# 切分数据\n",
    "def split_signal(base, sti, lab, windows=1, fs=128):\n",
    "    # print(b[0].shape, s[0].shape, l)\n",
    "    bsp = base[0].shape[1]//fs//windows\n",
    "    ssp = sti[0].shape[1]//fs//windows\n",
    "    tmpb = np.stack(np.split(base[0], bsp, axis=1))\n",
    "    tmps = np.stack(np.split(sti[0], ssp, axis=1))\n",
    "    tmpl = np.repeat(lab, ssp)\n",
    "    return tmpb, tmps, tmpl\n",
    "\n",
    "# 将14个通道数据求解的特征拼接为1维\n",
    "def combined_electrode(features):\n",
    "    return features.reshape((*features.shape[:-2], -1))\n",
    "\n",
    "\n",
    "# 标签二值化\n",
    "def label_binarizer(label, threshold=3):\n",
    "    # 打分为3认为是消极的\n",
    "    tmp = np.copy(label)\n",
    "    tmp[label<=threshold] = 0\n",
    "    tmp[label> threshold] = 1\n",
    "    return tmp"
   ]
  },
  {
   "cell_type": "code",
   "execution_count": 12,
   "id": "2cb75e4b",
   "metadata": {},
   "outputs": [],
   "source": [
    "# 读取数据-受试者1\n",
    "baseline, stimuli, labels =load_dreamer(path, subject=0)"
   ]
  },
  {
   "cell_type": "code",
   "execution_count": 13,
   "id": "4ecd1047",
   "metadata": {},
   "outputs": [
    {
     "name": "stdout",
     "output_type": "stream",
     "text": [
      "影片1切分后基线形状: (61, 14, 128)\n",
      "影片1切分后激励形状: (199, 14, 128)\n",
      "影片1切分后标签形状: (199,)\n",
      "-------\n",
      "求解特征首基线形状: (61, 70)\n",
      "求解特征后激励形状: (199, 70)\n",
      "-------\n",
      "最终的返回结果-数据: (199, 70)\n",
      "最终的返回结果-标签: (199,)\n",
      "g是什么： (199,) [0]\n"
     ]
    }
   ],
   "source": [
    "# 分别对18个影片求解特征\n",
    "for i, (b, s, l) in enumerate(zip(baseline, stimuli, labels[:, 0])):\n",
    "    # 先切分数据\n",
    "    tmpb, tmps, tmpl = split_signal(b, s, l)\n",
    "    print(\"影片1切分后基线形状:\", tmpb.shape)\n",
    "    print(\"影片1切分后激励形状:\", tmps.shape)\n",
    "    print(\"影片1切分后标签形状:\", tmpl.shape)\n",
    "    print(\"-------\")\n",
    "    # 求解特征\n",
    "    base_f = bin_power(tmpb)\n",
    "    sti_f = bin_power(tmps)\n",
    "    base_f = combined_electrode(base_f)\n",
    "    sti_f = combined_electrode(sti_f)\n",
    "    print(\"求解特征首基线形状:\", base_f.shape)\n",
    "    print(\"求解特征后激励形状:\", sti_f.shape)\n",
    "    print(\"-------\")\n",
    "    # 减去均值\n",
    "    base_mu = np.mean(base_f, axis=0)[np.newaxis, :]\n",
    "    x = sti_f - base_mu\n",
    "    y = tmpl\n",
    "    g = np.ones_like(y)*i # g用于在后续进行留一法测试\n",
    "    print(\"最终的返回结果-数据:\", x.shape)\n",
    "    print(\"最终的返回结果-标签:\", y.shape)\n",
    "    print('g是什么：', g.shape, np.unique(g))\n",
    "    break"
   ]
  },
  {
   "cell_type": "markdown",
   "id": "c0149634",
   "metadata": {},
   "source": [
    "详细解释上述数据: \n",
    "\n",
    "基线为61\\*14\\*128，其中61表示基线一共有61s,共切出61个片段，每一个片段为14*128\n",
    "\n",
    "\n",
    "同理，由于视频1的长度为199s,所以切出199个片段。标签的199表示将标签重复199次与影片1的199个片段对应以便后续的训练拟合。"
   ]
  },
  {
   "cell_type": "code",
   "execution_count": 14,
   "id": "e753864d",
   "metadata": {},
   "outputs": [],
   "source": [
    "# 做个函数，便于重复调用\n",
    "def get_features(baseline, stimuli, labels, fe):\n",
    "    X = []\n",
    "    Y = []\n",
    "    G = []\n",
    "\n",
    "    for i, (b, s, l) in enumerate(zip(baseline, stimuli, labels[:, 0])):\n",
    "        # 先切分数据\n",
    "        tmpb, tmps, tmpl = split_signal(b, s, l)\n",
    "        #print(\"影片1切分后基线形状:\", tmpb.shape)\n",
    "        #print(\"影片1切分后激励形状:\", tmps.shape)\n",
    "        #print(\"影片1切分后标签形状:\", tmpl.shape)\n",
    "        #print(\"-------\")\n",
    "        # 求解特征\n",
    "        base_f = fe(tmpb)\n",
    "        sti_f = fe(tmps)\n",
    "        base_f = combined_electrode(base_f)\n",
    "        sti_f = combined_electrode(sti_f)\n",
    "        #print(\"求解特征首基线形状:\", base_f.shape)\n",
    "        #print(\"求解特征后激励形状:\", sti_f.shape)\n",
    "        #print(\"-------\")\n",
    "        # 减去均值\n",
    "        base_mu = np.mean(base_f, axis=0)[np.newaxis, :]\n",
    "        x = sti_f - base_mu\n",
    "        y = tmpl\n",
    "        g = np.ones_like(y)*i # g用于在后续进行留一法测试\n",
    "        #print(\"最终的返回结果-数据:\", x.shape)\n",
    "        #print(\"最终的返回结果-标签:\", y.shape)\n",
    "        #print('g是什么：', g.shape, np.unique(g))\n",
    "        G.append(g)\n",
    "        X.append(x)\n",
    "        Y.append(y)\n",
    "\n",
    "    X = np.vstack(X)\n",
    "    Y = np.concatenate(Y)\n",
    "    G = np.concatenate(G)\n",
    "    return X, Y, G"
   ]
  },
  {
   "cell_type": "code",
   "execution_count": 15,
   "id": "9e9e81dd",
   "metadata": {},
   "outputs": [
    {
     "data": {
      "text/plain": [
       "((3728, 70), (3728,), (3728,))"
      ]
     },
     "execution_count": 15,
     "metadata": {},
     "output_type": "execute_result"
    }
   ],
   "source": [
    "baseline, stimuli, labels =load_dreamer(path, subject=0)\n",
    "X, Y, G = get_features(baseline, stimuli,labels, bin_power)\n",
    "X.shape, Y.shape,G.shape"
   ]
  },
  {
   "cell_type": "code",
   "execution_count": 16,
   "id": "3602dc57",
   "metadata": {},
   "outputs": [],
   "source": [
    "# 标签二值化\n",
    "Y = label_binarizer(Y, threshold=3)"
   ]
  },
  {
   "cell_type": "code",
   "execution_count": 17,
   "id": "b5d09c4b",
   "metadata": {},
   "outputs": [],
   "source": [
    "from sklearn.ensemble import RandomForestClassifier\n",
    "from sklearn.model_selection import LeaveOneGroupOut, cross_val_score\n",
    "from sklearn.base import clone"
   ]
  },
  {
   "cell_type": "code",
   "execution_count": 18,
   "id": "0f81c96d",
   "metadata": {},
   "outputs": [],
   "source": [
    "# 随机森林原始简洁版-受试者1\n",
    "rfc = RandomForestClassifier(n_estimators=30, max_depth=20,random_state=42)\n",
    "cv = LeaveOneGroupOut()\n",
    "scores = cross_val_score(rfc, X, Y, cv=cv, groups=G)"
   ]
  },
  {
   "cell_type": "code",
   "execution_count": 19,
   "id": "b5f27ed0",
   "metadata": {},
   "outputs": [
    {
     "name": "stdout",
     "output_type": "stream",
     "text": [
      "直接计算的分数 0.5320142644928064\n",
      "投票分数: 0.6111111111111112\n"
     ]
    }
   ],
   "source": [
    "print(\"直接计算的分数\", np.mean(scores))\n",
    "# 这里取个巧，因为如果对于某一个影片的分数是大于0.5的，说明有一半的数据被预测正确,那也就是直接正确了\n",
    "print('投票分数:',np.mean(scores>=0.5))"
   ]
  },
  {
   "cell_type": "code",
   "execution_count": 21,
   "id": "bd9ae3f6",
   "metadata": {},
   "outputs": [
    {
     "name": "stdout",
     "output_type": "stream",
     "text": [
      "第 1 个人的投票分数: 0.6111111111111112\n",
      "第 2 个人的投票分数: 0.6111111111111112\n",
      "第 3 个人的投票分数: 0.4444444444444444\n",
      "第 4 个人的投票分数: 0.8888888888888888\n",
      "第 5 个人的投票分数: 0.4444444444444444\n",
      "第 6 个人的投票分数: 0.5555555555555556\n",
      "第 7 个人的投票分数: 0.5555555555555556\n",
      "第 8 个人的投票分数: 0.5555555555555556\n",
      "第 9 个人的投票分数: 0.2777777777777778\n",
      "第 10 个人的投票分数: 0.6111111111111112\n",
      "第 11 个人的投票分数: 0.7222222222222222\n",
      "第 12 个人的投票分数: 0.2777777777777778\n",
      "第 13 个人的投票分数: 0.3333333333333333\n",
      "第 14 个人的投票分数: 0.6666666666666666\n",
      "第 15 个人的投票分数: 0.5555555555555556\n",
      "第 16 个人的投票分数: 0.2777777777777778\n",
      "第 17 个人的投票分数: 0.5\n",
      "第 18 个人的投票分数: 0.2777777777777778\n",
      "第 19 个人的投票分数: 0.5\n",
      "第 20 个人的投票分数: 0.3333333333333333\n",
      "第 21 个人的投票分数: 0.6111111111111112\n",
      "第 22 个人的投票分数: 0.7777777777777778\n",
      "第 23 个人的投票分数: 0.6111111111111112\n",
      "全部人平均分数： 0.5217391304347827\n"
     ]
    }
   ],
   "source": [
    "# 对23个人全计算一遍\n",
    "all_p = []\n",
    "for i in range(23):\n",
    "    b, s, l = load_dreamer(path, subject=i)\n",
    "    X, Y, G = get_features(b, s ,l, bin_power)\n",
    "    Y = label_binarizer(Y, threshold=3)\n",
    "    rfc = RandomForestClassifier(n_estimators=30, max_depth=20,random_state=42)\n",
    "    cv = LeaveOneGroupOut()\n",
    "    # scores = cross_val_score(rfc, X, Y, cv=cv, groups=G)\n",
    "    scores = []\n",
    "    for index_train, index_test in cv.split(X, groups=G):\n",
    "        rfc = clone(rfc)\n",
    "        x_train, y_train = X[index_train], Y[index_train]\n",
    "        x_test, y_test = X[index_test], Y[index_test]\n",
    "        rfc.fit(x_train, y_train)\n",
    "        scores.append(rfc.score(x_test, y_test))\n",
    "    print(\"第 {} 个人的投票分数: {}\".format(i+1, np.mean(np.array(scores)>=0.5)))\n",
    "    all_p.append( np.mean(np.array(scores)>=0.5))\n",
    "print(\"全部人平均分数：\", np.mean(all_p))"
   ]
  },
  {
   "cell_type": "code",
   "execution_count": 22,
   "id": "39833cf9",
   "metadata": {},
   "outputs": [],
   "source": [
    "from sklearn.svm import SVC"
   ]
  },
  {
   "cell_type": "code",
   "execution_count": 23,
   "id": "d460be2f",
   "metadata": {},
   "outputs": [
    {
     "name": "stdout",
     "output_type": "stream",
     "text": [
      "第 1 个人的投票分数: 0.16666666666666666\n",
      "第 2 个人的投票分数: 0.6666666666666666\n",
      "第 3 个人的投票分数: 0.5555555555555556\n",
      "第 4 个人的投票分数: 0.7222222222222222\n",
      "第 5 个人的投票分数: 0.5555555555555556\n",
      "第 6 个人的投票分数: 0.6111111111111112\n",
      "第 7 个人的投票分数: 0.6111111111111112\n",
      "第 8 个人的投票分数: 0.5\n",
      "第 9 个人的投票分数: 0.4444444444444444\n",
      "第 10 个人的投票分数: 0.6666666666666666\n",
      "第 11 个人的投票分数: 0.6111111111111112\n",
      "第 12 个人的投票分数: 0.3888888888888889\n",
      "第 13 个人的投票分数: 0.6666666666666666\n",
      "第 14 个人的投票分数: 0.2222222222222222\n",
      "第 15 个人的投票分数: 0.6111111111111112\n",
      "第 16 个人的投票分数: 0.3888888888888889\n",
      "第 17 个人的投票分数: 0.5\n",
      "第 18 个人的投票分数: 0.3888888888888889\n",
      "第 19 个人的投票分数: 0.6111111111111112\n",
      "第 20 个人的投票分数: 0.6111111111111112\n",
      "第 21 个人的投票分数: 0.6666666666666666\n",
      "第 22 个人的投票分数: 0.5\n",
      "第 23 个人的投票分数: 0.3333333333333333\n",
      "全部人平均分数： 0.5217391304347826\n"
     ]
    }
   ],
   "source": [
    "# 对23个人全计算一遍\n",
    "all_p = []\n",
    "for i in range(23):\n",
    "    b, s, l = load_dreamer(path, subject=i)\n",
    "    X, Y, G = get_features(b, s ,l, bin_power)\n",
    "    Y = label_binarizer(Y, threshold=3)\n",
    "    svc = SVC()\n",
    "    cv = LeaveOneGroupOut()\n",
    "    scores = cross_val_score(svc, X, Y, cv=cv, groups=G)\n",
    "    print(\"第 {} 个人的投票分数: {}\".format(i+1, np.mean(scores>=0.5)))\n",
    "    all_p.append( np.mean(scores>=0.5))\n",
    "print(\"全部人平均分数：\", np.mean(all_p))"
   ]
  },
  {
   "cell_type": "code",
   "execution_count": null,
   "id": "926fc76f",
   "metadata": {},
   "outputs": [],
   "source": []
  }
 ],
 "metadata": {
  "kernelspec": {
   "display_name": "Python [conda env:ds]",
   "language": "python",
   "name": "conda-env-ds-py"
  },
  "language_info": {
   "codemirror_mode": {
    "name": "ipython",
    "version": 3
   },
   "file_extension": ".py",
   "mimetype": "text/x-python",
   "name": "python",
   "nbconvert_exporter": "python",
   "pygments_lexer": "ipython3",
   "version": "3.8.8"
  }
 },
 "nbformat": 4,
 "nbformat_minor": 5
}

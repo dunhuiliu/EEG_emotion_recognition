{
 "cells": [
  {
   "cell_type": "markdown",
   "id": "b7071bd3",
   "metadata": {},
   "source": [
    "dreamer数据集介绍\n",
    "\n",
    "数据集使用23个受试者和18个电影片段，记录了EEG和ECG数据。\n",
    "\n",
    "其中EEG采样率为128Hz，ECG采样率为256Hz\n",
    "\n",
    "评分为Valence评分，Arousal评分，Domiance评分，评分分1~5这5个等级\n",
    "\n",
    "一共使用了14个通道，如下:\n",
    "{'AF3''F7''FC5''FC5''T7''P7''O1'''O2''P8''T8''FC6'F4''F8''AF4'}\n",
    "\n",
    "本篇主要是研究一下dreamer.mat数据集的组成并将装成23个小数据集存起来(这样可以每次只读一个人的减少内存占用量)"
   ]
  },
  {
   "cell_type": "code",
   "execution_count": 1,
   "id": "5261fc40",
   "metadata": {},
   "outputs": [],
   "source": [
    "import scipy.io as scio"
   ]
  },
  {
   "cell_type": "code",
   "execution_count": 2,
   "id": "f84470cd",
   "metadata": {},
   "outputs": [],
   "source": [
    "path = '/home/wlgls/Desktop/DEAP/origin_data/DREAMER.mat'"
   ]
  },
  {
   "cell_type": "code",
   "execution_count": 3,
   "id": "43a9da5f",
   "metadata": {},
   "outputs": [],
   "source": [
    "# 读取数据\n",
    "data = scio.loadmat(path, verify_compressed_data_integrity=False)"
   ]
  },
  {
   "cell_type": "code",
   "execution_count": 4,
   "id": "43a5d2b2",
   "metadata": {},
   "outputs": [
    {
     "data": {
      "text/plain": [
       "dict_keys(['__header__', '__version__', '__globals__', 'DREAMER'])"
      ]
     },
     "execution_count": 4,
     "metadata": {},
     "output_type": "execute_result"
    }
   ],
   "source": [
    "# 数据的存储是结构化的，查看组织格式\n",
    "data.keys()"
   ]
  },
  {
   "cell_type": "code",
   "execution_count": 5,
   "id": "10b27615",
   "metadata": {},
   "outputs": [
    {
     "data": {
      "text/plain": [
       "numpy.ndarray"
      ]
     },
     "execution_count": 5,
     "metadata": {},
     "output_type": "execute_result"
    }
   ],
   "source": [
    "# 获得dreamer并查看\n",
    "type(data['DREAMER'])"
   ]
  },
  {
   "cell_type": "code",
   "execution_count": 6,
   "id": "3a5fb401",
   "metadata": {},
   "outputs": [],
   "source": [
    "# data['DREAMER']"
   ]
  },
  {
   "cell_type": "code",
   "execution_count": 7,
   "id": "c64e64cb",
   "metadata": {},
   "outputs": [
    {
     "data": {
      "text/plain": [
       "dtype([('Data', 'O'), ('EEG_SamplingRate', 'O'), ('ECG_SamplingRate', 'O'), ('EEG_Electrodes', 'O'), ('noOfSubjects', 'O'), ('noOfVideoSequences', 'O'), ('Disclaimer', 'O'), ('Provider', 'O'), ('Version', 'O'), ('Acknowledgement', 'O')])"
      ]
     },
     "execution_count": 7,
     "metadata": {},
     "output_type": "execute_result"
    }
   ],
   "source": [
    "# 数据是结构化的，可以查看一下都有什么内容\n",
    "data[\"DREAMER\"].dtype"
   ]
  },
  {
   "cell_type": "markdown",
   "id": "9d3d60c5",
   "metadata": {},
   "source": [
    "主要包含了数据Data，EEG采样率，ECG采样率，EEG通道等数据"
   ]
  },
  {
   "cell_type": "code",
   "execution_count": 8,
   "id": "c7bfbd08",
   "metadata": {},
   "outputs": [
    {
     "data": {
      "text/plain": [
       "array([[128]], dtype=uint8)"
      ]
     },
     "execution_count": 8,
     "metadata": {},
     "output_type": "execute_result"
    }
   ],
   "source": [
    "# 获取EEG采样率\n",
    "data['DREAMER'][0, 0]['EEG_SamplingRate']"
   ]
  },
  {
   "cell_type": "code",
   "execution_count": 9,
   "id": "be54ddc8",
   "metadata": {},
   "outputs": [
    {
     "data": {
      "text/plain": [
       "array([[array(['AF3'], dtype='<U3'), array(['F7'], dtype='<U2'),\n",
       "        array(['F3'], dtype='<U2'), array(['FC5'], dtype='<U3'),\n",
       "        array(['T7'], dtype='<U2'), array(['P7'], dtype='<U2'),\n",
       "        array(['O1'], dtype='<U2'), array(['O2'], dtype='<U2'),\n",
       "        array(['P8'], dtype='<U2'), array(['T8'], dtype='<U2'),\n",
       "        array(['FC6'], dtype='<U3'), array(['F4'], dtype='<U2'),\n",
       "        array(['F8'], dtype='<U2'), array(['AF4'], dtype='<U3')]],\n",
       "      dtype=object)"
      ]
     },
     "execution_count": 9,
     "metadata": {},
     "output_type": "execute_result"
    }
   ],
   "source": [
    "# 获取EEG通道\n",
    "data['DREAMER'][0, 0]['EEG_Electrodes']"
   ]
  },
  {
   "cell_type": "code",
   "execution_count": 10,
   "id": "e27769af",
   "metadata": {},
   "outputs": [],
   "source": [
    "# 获取数据\n",
    "data['DREAMER'][0, 0]['Data']"
   ]
  },
  {
   "cell_type": "code",
   "execution_count": 11,
   "id": "c2bf9f48",
   "metadata": {},
   "outputs": [
    {
     "data": {
      "text/plain": [
       "(1, 23)"
      ]
     },
     "execution_count": 11,
     "metadata": {},
     "output_type": "execute_result"
    }
   ],
   "source": [
    "# 数据是1*23的，也就是说，一共23个受试者\n",
    "data['DREAMER'][0, 0]['Data'].shape"
   ]
  },
  {
   "cell_type": "code",
   "execution_count": 12,
   "id": "a257b601",
   "metadata": {},
   "outputs": [
    {
     "data": {
      "text/plain": [
       "dtype([('Age', 'O'), ('Gender', 'O'), ('EEG', 'O'), ('ECG', 'O'), ('ScoreValence', 'O'), ('ScoreArousal', 'O'), ('ScoreDominance', 'O')])"
      ]
     },
     "execution_count": 12,
     "metadata": {},
     "output_type": "execute_result"
    }
   ],
   "source": [
    "# 数据仍然是结构化的，以受试者1为例，继续查看\n",
    "data['DREAMER'][0, 0]['Data'][0, 0].dtype"
   ]
  },
  {
   "cell_type": "markdown",
   "id": "570ffc82",
   "metadata": {},
   "source": [
    "主要包含年龄，性别，EEG数据，ECG数据，Valence评分，Arousal评分，Domiance评分"
   ]
  },
  {
   "cell_type": "code",
   "execution_count": 13,
   "id": "8e9b84e3",
   "metadata": {},
   "outputs": [
    {
     "name": "stdout",
     "output_type": "stream",
     "text": [
      "年龄: [[array(['22'], dtype='<U2')]]\n",
      "性别: [[array(['male'], dtype='<U4')]]\n"
     ]
    }
   ],
   "source": [
    "# 查看年龄\n",
    "print(\"年龄:\", data['DREAMER'][0, 0]['Data'][0, 0]['Age'])\n",
    "print(\"性别:\", data['DREAMER'][0, 0]['Data'][0, 0]['Gender'])"
   ]
  },
  {
   "cell_type": "code",
   "execution_count": 14,
   "id": "3a187eb3",
   "metadata": {},
   "outputs": [
    {
     "data": {
      "text/plain": [
       "array([[array([[4],\n",
       "       [3],\n",
       "       [5],\n",
       "       [4],\n",
       "       [4],\n",
       "       [1],\n",
       "       [5],\n",
       "       [1],\n",
       "       [1],\n",
       "       [5],\n",
       "       [4],\n",
       "       [4],\n",
       "       [4],\n",
       "       [3],\n",
       "       [2],\n",
       "       [3],\n",
       "       [1],\n",
       "       [3]], dtype=uint8)]], dtype=object)"
      ]
     },
     "execution_count": 14,
     "metadata": {},
     "output_type": "execute_result"
    }
   ],
   "source": [
    "# 评分\n",
    "data['DREAMER'][0, 0]['Data'][0, 0]['ScoreValence']"
   ]
  },
  {
   "cell_type": "code",
   "execution_count": 15,
   "id": "e5f7b634",
   "metadata": {},
   "outputs": [
    {
     "data": {
      "text/plain": [
       "(1, 1)"
      ]
     },
     "execution_count": 15,
     "metadata": {},
     "output_type": "execute_result"
    }
   ],
   "source": [
    "# 继续查看EEG数据\n",
    "data['DREAMER'][0,0]['Data'][0,0]['EEG'].shape"
   ]
  },
  {
   "cell_type": "code",
   "execution_count": 16,
   "id": "833e4c03",
   "metadata": {},
   "outputs": [
    {
     "data": {
      "text/plain": [
       "dtype([('baseline', 'O'), ('stimuli', 'O')])"
      ]
     },
     "execution_count": 16,
     "metadata": {},
     "output_type": "execute_result"
    }
   ],
   "source": [
    "# 继续结构化\n",
    "data['DREAMER'][0,0]['Data'][0,0]['EEG'][0, 0].dtype"
   ]
  },
  {
   "cell_type": "markdown",
   "id": "deae4664",
   "metadata": {},
   "source": [
    "dreamer数据集中的基线和观看影片的数据是分开的，基线数据存储在baseline中，观看影片的数据存放在stimuli中"
   ]
  },
  {
   "cell_type": "code",
   "execution_count": 17,
   "id": "7c338caa",
   "metadata": {},
   "outputs": [
    {
     "name": "stdout",
     "output_type": "stream",
     "text": [
      "基线形状: (18, 1)\n",
      "一个影片的基线: (7808, 14)\n",
      "观影信号形状: (18, 1)\n",
      "一个影片的观影信息: (25472, 14)\n"
     ]
    }
   ],
   "source": [
    "# 查看内容\n",
    "print(\"基线形状:\", data['DREAMER'][0,0]['Data'][0,0]['EEG'][0, 0]['baseline'][0,0].shape)\n",
    "print(\"一个影片的基线:\",data['DREAMER'][0,0]['Data'][0,0]['EEG'][0,0]['baseline'][0,0][0][0].shape)\n",
    "print(\"观影信号形状:\", data['DREAMER'][0,0]['Data'][0,0]['EEG'][0, 0]['stimuli'][0,0].shape)\n",
    "print(\"一个影片的观影信息:\",data['DREAMER'][0,0]['Data'][0,0]['EEG'][0,0]['stimuli'][0,0][0][0].shape)"
   ]
  },
  {
   "cell_type": "code",
   "execution_count": 18,
   "id": "bd4f26e3",
   "metadata": {},
   "outputs": [
    {
     "name": "stdout",
     "output_type": "stream",
     "text": [
      "影片1的观影信息: (25472, 14)\n",
      "影片2的观影信息: (16768, 14)\n"
     ]
    }
   ],
   "source": [
    "# 需要注意的是，每一个影片的时长是不定的\n",
    "print(\"影片1的观影信息:\",data['DREAMER'][0,0]['Data'][0,0]['EEG'][0,0]['stimuli'][0,0][0][0].shape)\n",
    "print(\"影片2的观影信息:\",data['DREAMER'][0,0]['Data'][0,0]['EEG'][0,0]['stimuli'][0,0][1][0].shape)"
   ]
  },
  {
   "cell_type": "code",
   "execution_count": 63,
   "id": "a00b54e7",
   "metadata": {},
   "outputs": [
    {
     "data": {
      "text/plain": [
       "array([array([[4390.25641026, 4097.43589744, 4267.69230769, ..., 4512.30769231,\n",
       "        4368.71794872, 4287.69230769],\n",
       "       [4397.43589744, 4095.8974359 , 4248.20512821, ..., 4506.15384615,\n",
       "        4272.82051282, 4187.69230769],\n",
       "       [4391.79487179, 4091.28205128, 4261.02564103, ..., 4494.87179487,\n",
       "        4342.56410256, 4256.41025641],\n",
       "       ...,\n",
       "       [4392.82051282, 4107.17948718, 4288.71794872, ..., 4532.82051282,\n",
       "        4395.38461538, 4307.17948718],\n",
       "       [4385.64102564, 4108.71794872, 4328.20512821, ..., 4542.56410256,\n",
       "        4468.71794872, 4431.79487179],\n",
       "       [4382.56410256, 4108.71794872, 4385.12820513, ..., 4573.33333333,\n",
       "        4560.51282051, 4549.23076923]])], dtype=object)"
      ]
     },
     "execution_count": 63,
     "metadata": {},
     "output_type": "execute_result"
    }
   ],
   "source": [
    "data['DREAMER'][0,0]['Data'][0,0]['EEG'][0, 0]['baseline'][0, 0][0]"
   ]
  },
  {
   "cell_type": "code",
   "execution_count": 19,
   "id": "a0be8f2b",
   "metadata": {},
   "outputs": [],
   "source": [
    "# 重组"
   ]
  },
  {
   "cell_type": "code",
   "execution_count": 23,
   "id": "c7001707",
   "metadata": {},
   "outputs": [],
   "source": [
    "import numpy as np"
   ]
  },
  {
   "cell_type": "code",
   "execution_count": 20,
   "id": "be9019d3",
   "metadata": {},
   "outputs": [],
   "source": [
    "val = data['DREAMER'][0, 0]['Data'][0, 0]['ScoreValence'][0, 0]\n",
    "aro = data['DREAMER'][0, 0]['Data'][0, 0]['ScoreArousal'][0, 0]\n",
    "Dom = data['DREAMER'][0, 0]['Data'][0, 0]['ScoreDominance'][0, 0]"
   ]
  },
  {
   "cell_type": "code",
   "execution_count": 21,
   "id": "87487b34",
   "metadata": {},
   "outputs": [],
   "source": [
    "# val, aro, Dom"
   ]
  },
  {
   "cell_type": "code",
   "execution_count": 24,
   "id": "ed987bea",
   "metadata": {},
   "outputs": [],
   "source": [
    "labels = np.concatenate([val, aro, Dom], axis=1)"
   ]
  },
  {
   "cell_type": "code",
   "execution_count": 142,
   "id": "c9f9a075",
   "metadata": {},
   "outputs": [],
   "source": [
    "baseline = [data['DREAMER'][0,0]['Data'][0,0]['EEG'][0,0]['baseline'][0,0][i][0].T for i in range(18)]"
   ]
  },
  {
   "cell_type": "code",
   "execution_count": 143,
   "id": "1f971437",
   "metadata": {},
   "outputs": [],
   "source": [
    "stimuli = [data['DREAMER'][0,0]['Data'][0,0]['EEG'][0,0]['stimuli'][0,0][i][0].T for i in range(18)]"
   ]
  },
  {
   "cell_type": "code",
   "execution_count": 144,
   "id": "f9ab8105",
   "metadata": {},
   "outputs": [],
   "source": [
    "tmp = np.array([1], dtype=object)"
   ]
  },
  {
   "cell_type": "code",
   "execution_count": 145,
   "id": "14383628",
   "metadata": {},
   "outputs": [
    {
     "data": {
      "text/plain": [
       "(14, 25472)"
      ]
     },
     "execution_count": 145,
     "metadata": {},
     "output_type": "execute_result"
    }
   ],
   "source": [
    "stimuli[0].shape"
   ]
  },
  {
   "cell_type": "code",
   "execution_count": 146,
   "id": "5d911cbd",
   "metadata": {},
   "outputs": [],
   "source": [
    "ss = []\n",
    "for sti in stimuli:\n",
    "    t = tmp.copy()\n",
    "    t[0] = sti\n",
    "    ss.append(t)"
   ]
  },
  {
   "cell_type": "code",
   "execution_count": 152,
   "id": "32db97c6",
   "metadata": {},
   "outputs": [
    {
     "data": {
      "text/plain": [
       "((18, 1), (14, 25472))"
      ]
     },
     "execution_count": 152,
     "metadata": {},
     "output_type": "execute_result"
    }
   ],
   "source": [
    "ss = np.stack(ss)\n",
    "ss.shape, ss[0, 0].shape"
   ]
  },
  {
   "cell_type": "code",
   "execution_count": 153,
   "id": "bacf3ff1",
   "metadata": {},
   "outputs": [
    {
     "data": {
      "text/plain": [
       "array([[4388.20512821, 4375.8974359 , 4378.46153846, ..., 4371.28205128,\n",
       "        4371.79487179, 4386.66666667],\n",
       "       [4102.56410256, 4093.84615385, 4091.28205128, ..., 4092.30769231,\n",
       "        4089.74358974, 4098.97435897],\n",
       "       [4219.48717949, 4252.82051282, 4230.25641026, ..., 4237.43589744,\n",
       "        4214.35897436, 4175.8974359 ],\n",
       "       ...,\n",
       "       [4454.35897436, 4466.66666667, 4461.02564103, ..., 4475.38461538,\n",
       "        4466.15384615, 4451.79487179],\n",
       "       [4326.15384615, 4372.82051282, 4328.20512821, ..., 4377.94871795,\n",
       "        4351.79487179, 4302.56410256],\n",
       "       [4165.12820513, 4247.17948718, 4203.58974359, ..., 4230.25641026,\n",
       "        4206.66666667, 4133.33333333]])"
      ]
     },
     "execution_count": 153,
     "metadata": {},
     "output_type": "execute_result"
    }
   ],
   "source": [
    "ss[0, 0]"
   ]
  },
  {
   "cell_type": "code",
   "execution_count": 154,
   "id": "a4aec114",
   "metadata": {},
   "outputs": [],
   "source": [
    "bb = []\n",
    "for b in baseline:\n",
    "    t = tmp.copy()\n",
    "    t[0] = b\n",
    "    bb.append(t)"
   ]
  },
  {
   "cell_type": "code",
   "execution_count": 155,
   "id": "da13add5",
   "metadata": {},
   "outputs": [
    {
     "data": {
      "text/plain": [
       "((18, 1), (14, 7808))"
      ]
     },
     "execution_count": 155,
     "metadata": {},
     "output_type": "execute_result"
    }
   ],
   "source": [
    "bb = np.stack(bb)\n",
    "bb.shape, bb[0, 0].shape"
   ]
  },
  {
   "cell_type": "code",
   "execution_count": 156,
   "id": "dad9c891",
   "metadata": {},
   "outputs": [],
   "source": [
    "DATA = []"
   ]
  },
  {
   "cell_type": "code",
   "execution_count": 157,
   "id": "2751eecb",
   "metadata": {},
   "outputs": [],
   "source": [
    "for i in range(23):\n",
    "    val = data['DREAMER'][0, 0]['Data'][0, i]['ScoreValence'][0, 0]\n",
    "    aro = data['DREAMER'][0, 0]['Data'][0, i]['ScoreArousal'][0, 0]\n",
    "    Dom = data['DREAMER'][0, 0]['Data'][0, i]['ScoreDominance'][0, 0]\n",
    "    labels = np.concatenate([val, aro, Dom], axis=1)\n",
    "    \n",
    "    # 转置 把通道放前面\n",
    "    baseline = [data['DREAMER'][0,0]['Data'][0,0]['EEG'][0,0]['baseline'][0,0][i][0].T for i in range(18)]\n",
    "    stimuli = [data['DREAMER'][0,0]['Data'][0,0]['EEG'][0,0]['stimuli'][0,0][i][0].T for i in range(18)]\n",
    "    \n",
    "    tmp = np.array([1], dtype=object)\n",
    "    \n",
    "    ss = []\n",
    "    for sti in stimuli:\n",
    "        t = tmp.copy()\n",
    "        t[0] = sti\n",
    "        ss.append(t)\n",
    "        \n",
    "    bb = []\n",
    "    \n",
    "    for b in baseline:\n",
    "        t = tmp.copy()\n",
    "        t[0] = b\n",
    "        bb.append(t)\n",
    "    ss = np.stack(ss)\n",
    "    bb = np.stack(bb)\n",
    "    vol1 = {'baseline': bb, 'stimuli':ss, 'labels':labels}\n",
    "    DATA.append(vol1)"
   ]
  },
  {
   "cell_type": "code",
   "execution_count": 158,
   "id": "77eb5ce1",
   "metadata": {},
   "outputs": [],
   "source": [
    "import pickle\n",
    "import numpy as np"
   ]
  },
  {
   "cell_type": "code",
   "execution_count": 159,
   "id": "b6270707",
   "metadata": {},
   "outputs": [],
   "source": [
    "num2str = lambda num: '0'+str(num) if num <=9 else str(num)"
   ]
  },
  {
   "cell_type": "code",
   "execution_count": 160,
   "id": "fd2b27f3",
   "metadata": {},
   "outputs": [
    {
     "data": {
      "text/plain": [
       "'10'"
      ]
     },
     "execution_count": 160,
     "metadata": {},
     "output_type": "execute_result"
    }
   ],
   "source": [
    "num2str(10)"
   ]
  },
  {
   "cell_type": "code",
   "execution_count": 161,
   "id": "1179ad29",
   "metadata": {},
   "outputs": [],
   "source": [
    "# 将它按照结构化进行重新存储\n",
    "for i, item in enumerate(DATA): \n",
    "    with open('/home/wlgls/Desktop/DEAP/dreamer/d{}.pkl'.format(num2str(i+1)), 'wb') as f:\n",
    "        pickle.dump(item,f)"
   ]
  },
  {
   "cell_type": "code",
   "execution_count": 88,
   "id": "8fbf8146",
   "metadata": {},
   "outputs": [],
   "source": [
    "import pickle\n",
    "import numpy as np"
   ]
  },
  {
   "cell_type": "code",
   "execution_count": 89,
   "id": "71380c9a",
   "metadata": {},
   "outputs": [],
   "source": [
    "# 根据存储的文件在进行读取\n",
    "def load_dreamer(path, subject=0):\n",
    "    path = path+\"/d{}.pkl\"\n",
    "    subjectList = np.array(('01','02','03','04','05','06','07','08',\n",
    "               '09','10','11','12','13','14','15','16',\n",
    "               '17','18','19','20','21','22','23'))\n",
    "    with open(path.format(subjectList[subject]), \"rb\") as f:\n",
    "        data = pickle.load(f)\n",
    "    return data['baseline'], data['stimuli'], data['labels']"
   ]
  }
 ],
 "metadata": {
  "kernelspec": {
   "display_name": "Python [conda env:ds]",
   "language": "python",
   "name": "conda-env-ds-py"
  },
  "language_info": {
   "codemirror_mode": {
    "name": "ipython",
    "version": 3
   },
   "file_extension": ".py",
   "mimetype": "text/x-python",
   "name": "python",
   "nbconvert_exporter": "python",
   "pygments_lexer": "ipython3",
   "version": "3.8.8"
  }
 },
 "nbformat": 4,
 "nbformat_minor": 5
}

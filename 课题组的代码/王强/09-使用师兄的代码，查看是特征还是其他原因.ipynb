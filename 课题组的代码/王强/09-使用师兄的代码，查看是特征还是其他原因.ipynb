{
 "cells": [
  {
   "cell_type": "code",
   "execution_count": 1,
   "id": "greater-daniel",
   "metadata": {},
   "outputs": [],
   "source": [
    "from pyeeg.load_data import load_deap\n",
    "from pyeeg.features_extraction import power_spectral_density as psd"
   ]
  },
  {
   "cell_type": "code",
   "execution_count": 2,
   "id": "backed-folder",
   "metadata": {},
   "outputs": [],
   "source": [
    "import numpy as np\n",
    "import pickle\n",
    "from sklearn.ensemble import RandomForestClassifier"
   ]
  },
  {
   "cell_type": "code",
   "execution_count": 3,
   "id": "twelve-joining",
   "metadata": {},
   "outputs": [],
   "source": [
    "path = \"/home/wlgls/Desktop/DEAP/data_preprocessed_python/s\""
   ]
  },
  {
   "cell_type": "code",
   "execution_count": 4,
   "id": "productive-genetics",
   "metadata": {},
   "outputs": [],
   "source": [
    "# 通道应该从0开始的\n",
    "channels=[0,1,2,3,4,5,6,7,8,9,10,11,12,13,14,15,16,17,18,19,20,21,22,23,24,25,26,27,28,29,30,31]"
   ]
  },
  {
   "cell_type": "code",
   "execution_count": 5,
   "id": "piano-romania",
   "metadata": {},
   "outputs": [],
   "source": [
    "window_size = 128 #Averaging band power of 2 sec\n",
    "step_size = 128 #Each 0.125 sec update once\n",
    "sample_rate = 128 #Sampling rate of 128 Hz"
   ]
  },
  {
   "cell_type": "code",
   "execution_count": 6,
   "id": "fossil-topic",
   "metadata": {},
   "outputs": [],
   "source": [
    "#计算前三秒的基线特征数据 求前三秒的基线平均值\n",
    "def Base(sub, channel):\n",
    "        print(\"样本人基线\",sub)\n",
    "        with open(path+sub+'.dat','rb')as file:\n",
    "            subject = pickle.load(file, encoding='latin1')\n",
    "            baseAll = [] #保存前三秒静默时间特征基线 3*160*40\n",
    "            for i in range(0, 40):  # 循环遍历0-40个素材数据\\n\", \n",
    "                base = []#保存前三秒静默时间特征基线 \n",
    "                baseStart = 0\n",
    "                while baseStart + sample_rate <= 384:\n",
    "                    base_data=[]\n",
    "                    for j in channel:\n",
    "                        basedata = subject[\"data\"][i]\n",
    "                        # print(basedata.shape)\n",
    "                        basechannelData=basedata[j]\n",
    "                        baseX = basechannelData[baseStart : baseStart + sample_rate] #Slice raw data over 2 sec, at interval of 0.125 sec\n",
    "                        # print(baseX[:10])\n",
    "                        \n",
    "                        # begin modify\n",
    "                        baseY = psd(baseX) #FFT over 2 sec of channel j, in seq of theta, alpha, low beta, high beta, gamma\n",
    "                        # print(baseY)\n",
    "                        base_data = base_data + list(baseY)\n",
    "                        # end modify\n",
    "                        \n",
    "                    # 求解出32个通道 的 128个特征， 且第1s\n",
    "                    # print(base_data)\n",
    "                    base.append(base_data)\n",
    "                    baseStart = baseStart + sample_rate # 第2s\n",
    "                # print(np.array(base).shape)\n",
    "                basemean=np.array(base).mean(axis=0)\n",
    "                # print(np.array(basemean))\n",
    "                baseAll.append(basemean)\n",
    "            # print(len(baseAll))\n",
    "            return baseAll"
   ]
  },
  {
   "cell_type": "code",
   "execution_count": 8,
   "id": "relative-imagination",
   "metadata": {},
   "outputs": [],
   "source": [
    "from sklearn.svm import SVC"
   ]
  },
  {
   "cell_type": "code",
   "execution_count": 9,
   "id": "integrated-video",
   "metadata": {
    "scrolled": false
   },
   "outputs": [
    {
     "name": "stdout",
     "output_type": "stream",
     "text": [
      "01\n",
      "样本人基线 01\n",
      "[0.98]\n"
     ]
    }
   ],
   "source": [
    "result = []\n",
    "index = 0\n",
    "RESULT = []\n",
    "subjectList= ['01'] # 暂时只用第一个人的\n",
    "\n",
    "# base = basedata\n",
    "for subjects in subjectList:\n",
    "    print(subjects)\n",
    "    dataTraining = []\n",
    "    labelTraining = []\n",
    "    dataTest = []\n",
    "    labelTest = []\n",
    "    dataVal = []\n",
    "    labelval = []\n",
    "    base = Base(subjects, channels)\n",
    "    with open(path + subjects + '.dat', 'rb') as file:\n",
    "            subject = pickle.load(file, encoding='latin1')\n",
    "            \n",
    "            for i in range(0, 40):  # 循环遍历0-40个素材数据\\n\",\n",
    "                data = subject[\"data\"][i]\n",
    "                labels = subject[\"labels\"][i]\n",
    "                nlabel = 0\n",
    "                # print(labels)\n",
    "                if labels[0]>5:\n",
    "                    nlabel = 1\n",
    "                      \n",
    "                start = 384\n",
    "                count =0\n",
    "                \n",
    "                \n",
    "                \n",
    "                # begin modify\n",
    "                # 此处修改，只保留测试集\n",
    "                testList=list(range(40, 60))\n",
    "                # print(testList)\n",
    "                #验证集\n",
    "                trainList=[index for index in range(0, 60) if index not in testList]\n",
    "                # print(trainList)\n",
    "                # end modify\n",
    "                \n",
    "                \n",
    "                \n",
    "                while start + window_size <= 8064: # 使用窗口将每个通道的信号分为464份，可以产生464个样本（去掉前3秒的数据）\n",
    "                    meta_array = []\n",
    "                    meta_data = [] #meta vector for analysis\n",
    "                    for j in channels:\n",
    "                       \n",
    "                       \n",
    "                        X =  data[j][start : start + window_size] \n",
    "                        # print(X)\n",
    "                        \n",
    "                        \n",
    "                        \n",
    "                        # begin modify\n",
    "                        # 特征提取方法换成我的\n",
    "                        Y = psd(X) \n",
    "                        meta_data = meta_data + list(Y)\n",
    "                        # print(Y)\n",
    "                        # end\n",
    "                        \n",
    "                        \n",
    "                    # print(tmp[10:20])\n",
    "                    \n",
    "                    # begin modify\n",
    "                    if count in trainList:\n",
    "                         dataTraining.append(np.array(meta_data-base[i]))\n",
    "                         labelTraining.append(nlabel)\n",
    "                    else:\n",
    "                        dataTest.append(np.array(meta_data-base[i]))\n",
    "                        labelTest.append(nlabel)\n",
    "                                        \n",
    "                    \n",
    "                    count = count + 1\n",
    "                    start = start + step_size\n",
    "                    \n",
    "    X = np.array(dataTraining)\n",
    "    Z = labelTraining\n",
    "    # print(X.shape)\n",
    "    # print(X[..., :10])\n",
    "    M = np.array(dataTest)\n",
    "    L = labelTest\n",
    "    # print(M.shape, len(L))\n",
    "    \n",
    "    \n",
    "    # 换成随机森林\n",
    "    rfc = RandomForestClassifier(random_state=42)\n",
    "    \n",
    "    rfc.fit(X, Z)\n",
    "    result.append(rfc.score(M, L))\n",
    "print(result)"
   ]
  },
  {
   "cell_type": "code",
   "execution_count": null,
   "id": "lovely-nightlife",
   "metadata": {},
   "outputs": [],
   "source": []
  }
 ],
 "metadata": {
  "kernelspec": {
   "display_name": "Python 3",
   "language": "python",
   "name": "python3"
  },
  "language_info": {
   "codemirror_mode": {
    "name": "ipython",
    "version": 3
   },
   "file_extension": ".py",
   "mimetype": "text/x-python",
   "name": "python",
   "nbconvert_exporter": "python",
   "pygments_lexer": "ipython3",
   "version": "3.8.8"
  }
 },
 "nbformat": 4,
 "nbformat_minor": 5
}

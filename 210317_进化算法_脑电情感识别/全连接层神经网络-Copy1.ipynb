{
 "cells": [
  {
   "cell_type": "code",
   "execution_count": 2,
   "metadata": {},
   "outputs": [],
   "source": [
    "#加载飞桨、Numpy和相关类库\n",
    "import numpy as np\n",
    "import pyeeg as pe\n",
    "import os\n",
    "import random\n",
    "from PIL import Image"
   ]
  },
  {
   "cell_type": "code",
   "execution_count": null,
   "metadata": {},
   "outputs": [],
   "source": [
    "def data_set_partition(\n",
    "    dir='/home/aistudio/data/data57707/1280x258050(32x8064+2).npy',\n",
    "    trainNum=960\n",
    "    ):\n",
    "    \"\"\"\n",
    "    数据集划分，随机打乱数据，划分后保存为训练集数据文件和测试集数据文件\n",
    "    dir         数据集路径\n",
    "    trainNum    训练样本数\n",
    "    \"\"\"\n",
    "    data=np.load(dir)\n",
    "    print('32通道，AV维度的数据shape：',data.shape)\n",
    "    #np.random.seed(0)\n",
    "    np.random.shuffle(data)\n",
    "\n",
    "    trainData=data[:trainNum]\n",
    "    testData=data[trainNum:]\n",
    "    np.save('work/data/trainData.npy',trainData)\n",
    "    np.save('work/data/testData.npy',testData)\n",
    "    print('数据集划分成功！')\n",
    "    print('trainData.shape=',trainData.shape)\n",
    "    print('testData.shape=',testData.shape)\n",
    "\n",
    "#%time data_set_partition()"
   ]
  },
  {
   "cell_type": "code",
   "execution_count": null,
   "metadata": {},
   "outputs": [],
   "source": [
    "def data_reshape_feature_extraction(inputDir,outputDir):\n",
    "    \"\"\"加载数据集，塑造数据集形状，特征提取并保存（未去基线）\"\"\"\n",
    "    data=np.load(inputDir)\n",
    "    features=data[:,:-2]\n",
    "    labels=data[:,-2:]\n",
    "    features=features.reshape((data.shape[0],32,-1))\n",
    "    print(inputDir,':')\n",
    "    print('features.shape=',features.shape)\n",
    "    print('labels.shape=',labels.shape)\n",
    "\n",
    "    channel = [1,2,3,4,6,11,13,17,19,20,21,25,29,31] #14 Channels chosen to fit Emotiv Epoch+\n",
    "    band = [4,8,12,16,25,45] #5 bands\n",
    "    window_size = 256 #Averaging band power of 2 sec\n",
    "    step_size = 16 #Each 0.125 sec update once\n",
    "    sample_rate = 128 #Sampling rate of 128 Hz\n",
    "\n",
    "    newData=[]\n",
    "    for i in range(features.shape[0]):    #样本数\n",
    "        single_channel_features=[]\n",
    "        #for j in channel:\n",
    "        for j in range(32):\n",
    "            X = features[i][j]    #Slice raw data over 2 sec, at interval of 0.125 sec\n",
    "            Y = pe.bin_power(X, band, sample_rate) #FFT over 2 sec of channel j, in seq of theta, alpha, low beta, high beta, gamma\n",
    "            single_channel_features += list(Y[0])\n",
    "        single_channel_features += list(labels[i])    #添加标签\n",
    "        newData.append(single_channel_features)\n",
    "    \n",
    "    data=np.array(newData)\n",
    "    print('data.shape=',data.shape)\n",
    "    np.save(outputDir,data)"
   ]
  },
  {
   "cell_type": "code",
   "execution_count": null,
   "metadata": {},
   "outputs": [],
   "source": [
    "# \"\"\"特征提取\"\"\"\n",
    "# trainDataDir='work/data/trainData.npy'\n",
    "# testDataDir='work/data/testData.npy'\n",
    "# trainFftDir='work/data/trainFFT.npy'\n",
    "# testFftDir='work/data/testFFT.npy'\n",
    "# data_reshape_feature_extraction(trainDataDir,trainFftDir)\n",
    "# data_reshape_feature_extraction(testDataDir,testFftDir)"
   ]
  },
  {
   "cell_type": "code",
   "execution_count": null,
   "metadata": {},
   "outputs": [],
   "source": [
    "def Gaussian_normalization():\n",
    "    \"\"\"高斯归一化\"\"\"\n",
    "\n",
    "    #训练样本归一化\n",
    "    data=np.load('work/data/trainFFT.npy')\n",
    "    feature=data[:,:-2]\n",
    "    mean=feature.mean(axis=0)\n",
    "    std=feature.std(axis=0)\n",
    "    feature-=mean\n",
    "    feature/=std\n",
    "\n",
    "    np.save('work/data/trainNormalization.npy',data)\n",
    "\n",
    "    #测试样本归一化\n",
    "    data=np.load('work/data/testFFT.npy')\n",
    "    feature=data[:,:-2]\n",
    "    feature-=mean\n",
    "    feature/=std\n",
    "\n",
    "    np.save('work/data/testNormalization.npy',data)\n",
    "\n",
    "#%time Gaussian_normalization()"
   ]
  },
  {
   "cell_type": "code",
   "execution_count": null,
   "metadata": {},
   "outputs": [],
   "source": []
  }
 ],
 "metadata": {
  "kernelspec": {
   "display_name": "Python 3",
   "language": "python",
   "name": "python3"
  },
  "language_info": {
   "codemirror_mode": {
    "name": "ipython",
    "version": 3
   },
   "file_extension": ".py",
   "mimetype": "text/x-python",
   "name": "python",
   "nbconvert_exporter": "python",
   "pygments_lexer": "ipython3",
   "version": "3.7.6"
  },
  "toc": {
   "base_numbering": 1,
   "nav_menu": {},
   "number_sections": true,
   "sideBar": true,
   "skip_h1_title": false,
   "title_cell": "Table of Contents",
   "title_sidebar": "Contents",
   "toc_cell": false,
   "toc_position": {},
   "toc_section_display": true,
   "toc_window_display": false
  },
  "varInspector": {
   "cols": {
    "lenName": 16,
    "lenType": 16,
    "lenVar": 40
   },
   "kernels_config": {
    "python": {
     "delete_cmd_postfix": "",
     "delete_cmd_prefix": "del ",
     "library": "var_list.py",
     "varRefreshCmd": "print(var_dic_list())"
    },
    "r": {
     "delete_cmd_postfix": ") ",
     "delete_cmd_prefix": "rm(",
     "library": "var_list.r",
     "varRefreshCmd": "cat(var_dic_list()) "
    }
   },
   "types_to_exclude": [
    "module",
    "function",
    "builtin_function_or_method",
    "instance",
    "_Feature"
   ],
   "window_display": false
  }
 },
 "nbformat": 4,
 "nbformat_minor": 1
}

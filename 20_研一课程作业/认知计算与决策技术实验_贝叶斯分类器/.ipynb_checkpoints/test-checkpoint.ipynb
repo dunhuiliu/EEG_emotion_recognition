{
 "cells": [
  {
   "cell_type": "code",
   "execution_count": 16,
   "metadata": {
    "ExecuteTime": {
     "end_time": "2021-04-20T02:58:47.955172Z",
     "start_time": "2021-04-20T02:58:47.928826Z"
    }
   },
   "outputs": [],
   "source": [
    "import pandas as pd\n",
    "import numpy as np\n",
    "import matplotlib.pyplot as plt\n",
    "import time\n",
    "from sklearn.model_selection import train_test_split\n",
    "from sklearn.naive_bayes import GaussianNB, BernoulliNB, MultinomialNB\n",
    "import random\n",
    "from sklearn.impute import SimpleImputer\n",
    "from sklearn.cluster import KMeans\n",
    "from sklearn import metrics\n",
    "import copy"
   ]
  },
  {
   "cell_type": "code",
   "execution_count": 17,
   "metadata": {
    "ExecuteTime": {
     "end_time": "2021-04-20T02:58:48.881149Z",
     "start_time": "2021-04-20T02:58:48.845119Z"
    }
   },
   "outputs": [
    {
     "name": "stdout",
     "output_type": "stream",
     "text": [
      "      wife_age  wife_edu  hus_edu  num_chid  wife_religion  wife_ifdo  \\\n",
      "0           45         1        3        10              1          1   \n",
      "1           43         2        3         7              1          1   \n",
      "2           42         3        2         9              1          1   \n",
      "3           36         3        3         8              1          1   \n",
      "4           19         4        4         0              1          1   \n",
      "...        ...       ...      ...       ...            ...        ...   \n",
      "1467        33         4        4         2              1          0   \n",
      "1468        33         4        4         3              1          1   \n",
      "1469        39         3        3         8              1          0   \n",
      "1470        33         3        3         4              1          0   \n",
      "1471        17         3        3         1              1          1   \n",
      "\n",
      "      hus_occ  st_live  media_expose  class  \n",
      "0           3        4             0      1  \n",
      "1           3        4             0      1  \n",
      "2           3        3             0      1  \n",
      "3           3        2             0      1  \n",
      "4           3        3             0      1  \n",
      "...       ...      ...           ...    ...  \n",
      "1467        2        4             0      3  \n",
      "1468        1        4             0      3  \n",
      "1469        1        4             0      3  \n",
      "1470        2        2             0      3  \n",
      "1471        2        4             0      3  \n",
      "\n",
      "[1472 rows x 10 columns]\n",
      "   wife_edu\n",
      "0         1\n"
     ]
    }
   ],
   "source": [
    "data= pd.read_csv('./cmc.csv')\n",
    "\n",
    "data.columns = ['wife_age','wife_edu','hus_edu','num_chid','wife_religion','wife_ifdo','hus_occ','st_live','media_expose','class']\n",
    "print(data)\n",
    "print(data.iloc[[0],[1]])"
   ]
  },
  {
   "cell_type": "code",
   "execution_count": 18,
   "metadata": {
    "ExecuteTime": {
     "end_time": "2021-04-20T02:58:50.888738Z",
     "start_time": "2021-04-20T02:58:50.873982Z"
    }
   },
   "outputs": [
    {
     "name": "stdout",
     "output_type": "stream",
     "text": [
      "(1177, 10) (295, 10)\n"
     ]
    }
   ],
   "source": [
    "#训练测试集\n",
    "X_train, X_test = train_test_split(data, test_size=0.2, random_state=int(time.time()))\n",
    "print(X_train.shape,X_test.shape)"
   ]
  },
  {
   "cell_type": "code",
   "execution_count": 19,
   "metadata": {
    "ExecuteTime": {
     "end_time": "2021-04-20T02:58:52.312776Z",
     "start_time": "2021-04-20T02:58:52.281391Z"
    }
   },
   "outputs": [
    {
     "name": "stdout",
     "output_type": "stream",
     "text": [
      "Number of mislabeled points out of a total 295 points : 147, performance 50.17%\n"
     ]
    }
   ],
   "source": [
    "#朴素贝叶斯分类器\n",
    "mnb = MultinomialNB()\n",
    "used_features =[\n",
    "'wife_age','wife_edu','hus_edu','num_chid','wife_religion','wife_ifdo','hus_occ','st_live','media_expose'\n",
    "]\n",
    "mnb.fit(X_train[used_features].values, X_train[\"class\"])\n",
    "\n",
    "y_pred = mnb.predict(X_test[used_features])\n",
    "\n",
    "# 打印结果\n",
    "print(\"Number of mislabeled points out of a total {} points : {}, performance {:05.2f}%\"\n",
    "      .format(X_test.shape[0], (X_test[\"class\"] != y_pred).sum(), 100*(1-(X_test[\"class\"] != y_pred).sum()/X_test.shape[0])))"
   ]
  },
  {
   "cell_type": "code",
   "execution_count": 20,
   "metadata": {
    "ExecuteTime": {
     "end_time": "2021-04-20T02:58:55.106901Z",
     "start_time": "2021-04-20T02:58:54.392836Z"
    }
   },
   "outputs": [
    {
     "name": "stdout",
     "output_type": "stream",
     "text": [
      "     wife_age wife_edu hus_edu num_chid wife_religion wife_ifdo hus_occ  \\\n",
      "0          45      Nan       3       10           Nan         1     Nan   \n",
      "1         Nan        2       3        7             1         1       3   \n",
      "2          42        3       2        9             1       Nan       3   \n",
      "3          36        3       3        8             1         1       3   \n",
      "4          19        4       4      Nan             1       Nan       3   \n",
      "...       ...      ...     ...      ...           ...       ...     ...   \n",
      "1467       33        4       4      Nan             1         0       2   \n",
      "1468       33        4       4        3             1         1     Nan   \n",
      "1469       39        3       3        8             1       Nan       1   \n",
      "1470       33        3       3        4             1       Nan     Nan   \n",
      "1471       17        3     Nan        1             1         1       2   \n",
      "\n",
      "     st_live media_expose  class  \n",
      "0          4            0      1  \n",
      "1          4            0      1  \n",
      "2          3            0      1  \n",
      "3          2          Nan      1  \n",
      "4          3          Nan      1  \n",
      "...      ...          ...    ...  \n",
      "1467     Nan            0      3  \n",
      "1468       4            0      3  \n",
      "1469       4            0      3  \n",
      "1470       2            0      3  \n",
      "1471       4          Nan      3  \n",
      "\n",
      "[1472 rows x 10 columns]\n",
      "     wife_age wife_edu hus_edu num_chid wife_religion wife_ifdo hus_occ  \\\n",
      "0          45        1       3       10             1         1     Nan   \n",
      "1          43        2     Nan        7             1         1       3   \n",
      "2          42        3       2      Nan             1         1       3   \n",
      "3          36      Nan       3        8             1       Nan       3   \n",
      "4          19        4     Nan        0             1         1       3   \n",
      "...       ...      ...     ...      ...           ...       ...     ...   \n",
      "1467       33        4       4        2             1         0       2   \n",
      "1468       33        4       4        3           Nan         1       1   \n",
      "1469       39        3     Nan        8             1         0     Nan   \n",
      "1470       33        3       3        4             1         0       2   \n",
      "1471       17        3       3        1             1         1       2   \n",
      "\n",
      "     st_live media_expose  class  \n",
      "0          4            0      1  \n",
      "1          4            0      1  \n",
      "2          3            0      1  \n",
      "3          2          Nan      1  \n",
      "4          3            0      1  \n",
      "...      ...          ...    ...  \n",
      "1467       4            0      3  \n",
      "1468       4            0      3  \n",
      "1469       4            0      3  \n",
      "1470     Nan            0      3  \n",
      "1471     Nan            0      3  \n",
      "\n",
      "[1472 rows x 10 columns]\n"
     ]
    }
   ],
   "source": [
    "#copy 一份数据\n",
    "data2 = copy.deepcopy(data)\n",
    "#%20%\n",
    "for i in range(2650):\n",
    "    a = random.randint(0,1471)\n",
    "    b= random.randint(0,8)\n",
    "    data.iloc[[a],[b]] = 'Nan'\n",
    "print(data)\n",
    "#10%\n",
    "for i in range(1300):\n",
    "    c = random.randint(0,1471)\n",
    "    d= random.randint(0,8)\n",
    "    data2.iloc[[c],[d]] = 'Nan'\n",
    "print(data2)"
   ]
  },
  {
   "cell_type": "code",
   "execution_count": 21,
   "metadata": {
    "ExecuteTime": {
     "end_time": "2021-04-20T02:58:56.963019Z",
     "start_time": "2021-04-20T02:58:56.945072Z"
    }
   },
   "outputs": [
    {
     "name": "stdout",
     "output_type": "stream",
     "text": [
      "[[45 'Nan' 3 ... 4 0 1]\n",
      " ['Nan' 2 3 ... 4 0 1]\n",
      " [42 3 2 ... 3 0 1]\n",
      " ...\n",
      " [39 3 3 ... 4 0 3]\n",
      " [33 3 3 ... 2 0 3]\n",
      " [17 3 'Nan' ... 4 'Nan' 3]]\n",
      "[[45 1 3 ... 4 0 1]\n",
      " [43 2 'Nan' ... 4 0 1]\n",
      " [42 3 2 ... 3 0 1]\n",
      " ...\n",
      " [39 3 'Nan' ... 4 0 3]\n",
      " [33 3 3 ... 'Nan' 0 3]\n",
      " [17 3 3 ... 'Nan' 0 3]]\n",
      "2421 1234\n"
     ]
    }
   ],
   "source": [
    "#缺失百分之20的数据\n",
    "data1 = np.array(data)\n",
    "data3 = np.array(data2)\n",
    "print(data1)\n",
    "print(data3)\n",
    "i=0\n",
    "w = 0\n",
    "for index, item in enumerate(data1):\n",
    "    for j in range(len(item)):\n",
    "        if item[j]=='Nan':\n",
    "            i = i+1\n",
    "for index, item in enumerate(data3):\n",
    "    for j in range(len(item)):\n",
    "        if item[j]=='Nan':\n",
    "            w = w+1\n",
    "print(i,w)"
   ]
  },
  {
   "cell_type": "code",
   "execution_count": 22,
   "metadata": {
    "ExecuteTime": {
     "end_time": "2021-04-20T02:59:08.897842Z",
     "start_time": "2021-04-20T02:59:08.870792Z"
    }
   },
   "outputs": [
    {
     "name": "stdout",
     "output_type": "stream",
     "text": [
      "(1472, 9) (1472, 9)\n"
     ]
    }
   ],
   "source": [
    "#填补\n",
    "data1 = np.array(data)\n",
    "data3 = np.array(data2)\n",
    "imp = SimpleImputer(missing_values=np.nan, strategy='mean')\n",
    "data1_cha = imp.fit_transform(data1)\n",
    "data2_cha = imp.fit_transform(data3)\n",
    "print(data1_cha[:,:-1].shape,data2_cha[:,:-1].shape)"
   ]
  },
  {
   "cell_type": "code",
   "execution_count": 124,
   "metadata": {
    "ExecuteTime": {
     "end_time": "2021-04-20T03:16:30.122063Z",
     "start_time": "2021-04-20T03:16:30.050325Z"
    }
   },
   "outputs": [
    {
     "name": "stdout",
     "output_type": "stream",
     "text": [
      "0.24067796610169492\n",
      "0.22372881355932203\n"
     ]
    }
   ],
   "source": [
    "#em之聚类\n",
    "EM_train1, EM_test1 = train_test_split(data1_cha, test_size=0.2, random_state=0)\n",
    "EM_train2, EM_test2 = train_test_split(data2_cha, test_size=0.2, random_state=0)\n",
    "kmeans1 = KMeans(n_clusters=3, random_state=0).fit(EM_train1[:,:-1])\n",
    "kmeans2 = KMeans(n_clusters=3, random_state=0).fit(EM_train2[:,:-1])\n",
    "pred_1 = kmeans1.predict(EM_test1[:,:-1])\n",
    "pred_2 = kmeans2.predict(EM_test2[:,:-1])\n",
    "# print(pred_1)\n",
    "# print(pred_2)\n",
    "acc = metrics.accuracy_score(EM_test1[:,-1],pred_1)\n",
    "acc2 = metrics.accuracy_score(EM_test2[:,-1],pred_2)\n",
    "print(acc)\n",
    "print(acc2)"
   ]
  },
  {
   "cell_type": "code",
   "execution_count": null,
   "metadata": {},
   "outputs": [],
   "source": []
  },
  {
   "cell_type": "code",
   "execution_count": null,
   "metadata": {},
   "outputs": [],
   "source": []
  }
 ],
 "metadata": {
  "kernelspec": {
   "display_name": "Python 3",
   "language": "python",
   "name": "python3"
  },
  "language_info": {
   "codemirror_mode": {
    "name": "ipython",
    "version": 3
   },
   "file_extension": ".py",
   "mimetype": "text/x-python",
   "name": "python",
   "nbconvert_exporter": "python",
   "pygments_lexer": "ipython3",
   "version": "3.7.6"
  },
  "toc": {
   "base_numbering": 1,
   "nav_menu": {},
   "number_sections": true,
   "sideBar": true,
   "skip_h1_title": false,
   "title_cell": "Table of Contents",
   "title_sidebar": "Contents",
   "toc_cell": false,
   "toc_position": {},
   "toc_section_display": true,
   "toc_window_display": false
  },
  "varInspector": {
   "cols": {
    "lenName": 16,
    "lenType": 16,
    "lenVar": 40
   },
   "kernels_config": {
    "python": {
     "delete_cmd_postfix": "",
     "delete_cmd_prefix": "del ",
     "library": "var_list.py",
     "varRefreshCmd": "print(var_dic_list())"
    },
    "r": {
     "delete_cmd_postfix": ") ",
     "delete_cmd_prefix": "rm(",
     "library": "var_list.r",
     "varRefreshCmd": "cat(var_dic_list()) "
    }
   },
   "types_to_exclude": [
    "module",
    "function",
    "builtin_function_or_method",
    "instance",
    "_Feature"
   ],
   "window_display": false
  }
 },
 "nbformat": 4,
 "nbformat_minor": 4
}

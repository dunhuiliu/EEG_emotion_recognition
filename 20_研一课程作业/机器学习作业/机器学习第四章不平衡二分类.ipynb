{
 "cells": [
  {
   "cell_type": "markdown",
   "metadata": {},
   "source": [
    "# C4-1 构建一个类别不平衡的二分类问题。\n",
    "<p>（1）生成数据：正样本服从高斯分布，均值为[2,3]，协方差矩阵为单位矩阵；负样本服从高斯分布，均值为[5,6]，协方差矩阵为单位矩阵。</p>\n",
    "<p>（2）学习：请依上面的分布生成正样本200个，负样本800个，将其划分为包含60%样本的训练集、20%样本的验证集和20%样本的测试集，运用perceptron learning algorithm从数据中学习出一个perceptron，实现对正负样本的二分类。</p>\n",
    "<p>（3）实验与讨论：请通过编程实验，讨论如下问题：a. 若要求perceptron对于正例样本的预测有更高的查准率和查全率，请考虑采用哪种性能衡量指标，并根据该指标绘制学习曲线，并结合学习曲线阐述模型的好坏。b. 若要求perceptron对于正例样本和反例样本的预测准确率都更高，请考虑采用哪种性能衡量指标，并根据该指标绘制学习曲线，并结合学习曲线阐述模型的好坏。</p>"
   ]
  },
  {
   "cell_type": "code",
   "execution_count": 1,
   "metadata": {
    "ExecuteTime": {
     "end_time": "2020-12-08T11:53:05.879734Z",
     "start_time": "2020-12-08T11:53:05.661227Z"
    },
    "scrolled": true
   },
   "outputs": [],
   "source": [
    "import numpy as np\n",
    "import matplotlib.pyplot as plt\n",
    "#生成数据\n",
    "cov=np.eye(2)\n",
    "\n",
    "mean=np.array([2, 3])\n",
    "f_xy1=np.random.multivariate_normal(mean,cov,200)\n",
    "\n",
    "mean=np.array([5, 6])\n",
    "f_xy2=np.random.multivariate_normal(mean,cov,800)\n",
    "\n",
    "#添加标签\n",
    "label=np.ones((200,1))\n",
    "f_xy1=np.append(f_xy1,label,axis=1)\n",
    "\n",
    "label=np.zeros((800,1))\n",
    "f_xy2=np.append(f_xy2,label,axis=1)\n",
    "\n",
    "#划分训练集、验证集、测试集\n",
    "data = np.append(f_xy1, f_xy2, axis = 0)\n",
    "\n",
    "np.random.shuffle(data)\n",
    "\n",
    "trainSample = data[:600]\n",
    "validationSample = data[600:800]\n",
    "testSample = data[800:]\n",
    "\n",
    "trainFeature = trainSample[:, :-1]\n",
    "trainLabel = trainSample[:, -1:]\n",
    "\n",
    "validationFeature = validationSample[:, :-1]\n",
    "validationLabel = validationSample[:, -1:]\n",
    "\n",
    "testFeature = testSample[:, :-1]\n",
    "testLabel = testSample[:, -1:]\n",
    "\n",
    "#高斯归一化\n",
    "mean=trainFeature.mean(axis=0)\n",
    "std=trainFeature.std(axis=0)\n",
    "\n",
    "trainFeature -= mean\n",
    "trainFeature /= std\n",
    "\n",
    "validationFeature -= mean\n",
    "validationFeature /= std\n",
    "\n",
    "testFeature -= mean\n",
    "testFeature /= std"
   ]
  },
  {
   "cell_type": "code",
   "execution_count": 2,
   "metadata": {
    "ExecuteTime": {
     "end_time": "2020-12-08T11:53:06.116085Z",
     "start_time": "2020-12-08T11:53:05.882867Z"
    }
   },
   "outputs": [
    {
     "name": "stdout",
     "output_type": "stream",
     "text": [
      "iter 49, loss 0.8710252902816665\n",
      "iter 99, loss 0.29481023462722544\n",
      "iter 149, loss 0.14779173330508844\n",
      "iter 199, loss 0.09861376525701966\n",
      "iter 249, loss 0.07608446451736149\n",
      "iter 299, loss 0.06330955206720383\n",
      "iter 349, loss 0.05532864976351387\n",
      "iter 399, loss 0.05015883389637314\n",
      "iter 449, loss 0.046766544158976166\n",
      "iter 499, loss 0.044530114384813906\n",
      "iter 549, loss 0.04305299465087884\n",
      "iter 599, loss 0.04207662435989626\n",
      "iter 649, loss 0.04143101624773917\n",
      "iter 699, loss 0.04100404386765078\n",
      "iter 749, loss 0.040721640489846604\n",
      "iter 799, loss 0.040534847388174526\n",
      "iter 849, loss 0.04041129161669078\n",
      "iter 899, loss 0.0403295635200872\n",
      "iter 949, loss 0.04027550264059293\n",
      "iter 999, loss 0.040239742708258176\n"
     ]
    },
    {
     "data": {
      "image/png": "[encoded data removed]",
      "text/plain": [
       "<Figure size 432x288 with 1 Axes>"
      ]
     },
     "metadata": {
      "needs_background": "light"
     },
     "output_type": "display_data"
    }
   ],
   "source": [
    "#感知器定义\n",
    "class Network(object):\n",
    "    def __init__(self, num_of_weights):\n",
    "        # 随机产生w、b的初始值\n",
    "        \n",
    "        self.w = np.random.randn(num_of_weights, 1)\n",
    "        self.b = np.random.random()\n",
    "        \n",
    "    def forward(self, x):\n",
    "        z = np.dot(x, self.w) + self.b\n",
    "        return z\n",
    "    \n",
    "    def loss(self, z, y):\n",
    "        error = z - y\n",
    "        num_samples = error.shape[0]\n",
    "        cost = error * error\n",
    "        cost = np.sum(cost) / num_samples\n",
    "        return cost\n",
    "    \n",
    "    def gradient(self, x, y):\n",
    "        z = self.forward(x)\n",
    "        gradient_w = (z-y)*x\n",
    "        gradient_w = np.mean(gradient_w, axis=0)\n",
    "        gradient_w = gradient_w[:, np.newaxis]\n",
    "        gradient_b = (z - y)\n",
    "        gradient_b = np.mean(gradient_b)        \n",
    "        return gradient_w, gradient_b\n",
    "    \n",
    "    def update(self, gradient_w, gradient_b, eta = 0.01):\n",
    "        self.w = self.w - eta * gradient_w\n",
    "        self.b = self.b - eta * gradient_b\n",
    "        \n",
    "    def train(self, x, y, vx, vy, iterations=100, eta=0.01):\n",
    "        losses = []\n",
    "        validationLoss = []\n",
    "        for i in range(iterations):\n",
    "            z = self.forward(x)\n",
    "            L = self.loss(z, y)\n",
    "            \n",
    "            vz = self.forward(vx)\n",
    "            vL = self.loss(vz, vy)\n",
    "            \n",
    "            gradient_w, gradient_b = self.gradient(x, y)\n",
    "            self.update(gradient_w, gradient_b, eta)\n",
    "            losses.append(L)\n",
    "            validationLoss.append(vL)\n",
    "            if (i+1) % 50 == 0:\n",
    "                print('iter {}, loss {}'.format(i, L))\n",
    "        return losses, validationLoss\n",
    "\n",
    "# 获取数据\n",
    "x = trainFeature\n",
    "y = trainLabel\n",
    "vx = validationFeature\n",
    "vy = validationLabel\n",
    "\n",
    "# 创建网络\n",
    "net = Network(2)\n",
    "\n",
    "num_iterations=1000\n",
    "# 启动训练\n",
    "losses, validationLoss = net.train(x,y, vx, vy, iterations=num_iterations, eta=0.01)\n",
    "\n",
    "# 画出损失函数的变化趋势\n",
    "plot_x = np.arange(num_iterations)\n",
    "plot_y = np.array(losses)\n",
    "plot_vy = np.array(validationLoss)\n",
    "\n",
    "plt.title(\"loss\", fontsize=24)\n",
    "plt.xlabel(\"iter\", fontsize=14)\n",
    "plt.ylabel(\"loss\", fontsize=14)\n",
    "\n",
    "plt.plot(plot_x, plot_y,color='blue',label='train loss') \n",
    "plt.plot(plot_x, plot_vy,color='red',label='validation loss')\n",
    "\n",
    "plt.grid()\n",
    "plt.legend()\n",
    "plt.savefig('12345.jpg')\n",
    "plt.show()"
   ]
  },
  {
   "cell_type": "code",
   "execution_count": 3,
   "metadata": {
    "ExecuteTime": {
     "end_time": "2020-12-08T11:53:06.132080Z",
     "start_time": "2020-12-08T11:53:06.117083Z"
    }
   },
   "outputs": [
    {
     "name": "stdout",
     "output_type": "stream",
     "text": [
      "accuracy= 0.98 (196/200)\n"
     ]
    }
   ],
   "source": [
    "#测试\n",
    "testX=testFeature\n",
    "testY=testLabel.astype(np.int32)\n",
    "predictY = net.forward(testX)\n",
    "predictY=np.round(predictY).astype(np.int32)\n",
    "accuracy=list(testY == predictY).count(True)/testX.shape[0]\n",
    "print('accuracy=',accuracy,'({}/{})'.format(list(testY == predictY).count(True), testX.shape[0]))"
   ]
  },
  {
   "cell_type": "code",
   "execution_count": 4,
   "metadata": {
    "ExecuteTime": {
     "end_time": "2020-12-08T11:53:06.554884Z",
     "start_time": "2020-12-08T11:53:06.133045Z"
    }
   },
   "outputs": [
    {
     "data": {
      "image/png": "[encoded data removed]",
      "text/plain": [
       "<Figure size 432x288 with 1 Axes>"
      ]
     },
     "metadata": {
      "needs_background": "light"
     },
     "output_type": "display_data"
    }
   ],
   "source": [
    "#PR curve\n",
    "from sklearn.metrics import precision_recall_curve\n",
    "\n",
    "predictY = net.forward(testX)\n",
    "\n",
    "y = testY.reshape(-1)\n",
    "\n",
    "precision, recall, _ = precision_recall_curve(y, predictY, pos_label=1)\n",
    "\n",
    "plt.plot(recall, precision)\n",
    "\n",
    "plt.xlabel('Recall')\n",
    "plt.ylabel('Precision')\n",
    "plt.ylim([0.0, 1.05])\n",
    "plt.xlim([0.0, 1.0])\n",
    "plt.title('2-class Precision-Recall curve')\n",
    "plt.savefig('12345.jpg')\n",
    "plt.show()"
   ]
  },
  {
   "cell_type": "code",
   "execution_count": null,
   "metadata": {},
   "outputs": [],
   "source": []
  },
  {
   "cell_type": "code",
   "execution_count": 5,
   "metadata": {
    "ExecuteTime": {
     "end_time": "2020-12-08T11:53:06.680547Z",
     "start_time": "2020-12-08T11:53:06.555882Z"
    }
   },
   "outputs": [
    {
     "data": {
      "image/png": "[encoded data removed]",
      "text/plain": [
       "<Figure size 432x288 with 1 Axes>"
      ]
     },
     "metadata": {
      "needs_background": "light"
     },
     "output_type": "display_data"
    }
   ],
   "source": [
    "#roc curve\n",
    "from sklearn.metrics import roc_curve, auc\n",
    "\n",
    "y = testY.reshape(-1)\n",
    "scores = net.forward(testX)\n",
    "\n",
    "fpr, tpr, thresholds = roc_curve(y, scores, pos_label=1)\n",
    "\n",
    "auc = auc(fpr, tpr)\n",
    "\n",
    "plt.figure()\n",
    "lw = 2\n",
    "plt.plot(fpr, tpr, color='darkorange', lw=lw, label='ROC curve (area = ' + str(auc) + ')')\n",
    "plt.plot([0, 1], [0, 1], color='navy', lw=lw, linestyle='--')\n",
    "plt.xlim([0.0, 1.0])\n",
    "plt.ylim([0.0, 1.05])\n",
    "plt.xlabel('False Positive Rate')\n",
    "plt.ylabel('True Positive Rate')\n",
    "plt.title('Receiver operating characteristic example')\n",
    "plt.legend(loc=\"lower right\")\n",
    "plt.savefig('12345.jpg')\n",
    "plt.show()"
   ]
  }
 ],
 "metadata": {
  "kernelspec": {
   "display_name": "Python 3",
   "language": "python",
   "name": "python3"
  },
  "language_info": {
   "codemirror_mode": {
    "name": "ipython",
    "version": 3
   },
   "file_extension": ".py",
   "mimetype": "text/x-python",
   "name": "python",
   "nbconvert_exporter": "python",
   "pygments_lexer": "ipython3",
   "version": "3.8.8"
  },
  "toc": {
   "base_numbering": 1,
   "nav_menu": {},
   "number_sections": true,
   "sideBar": true,
   "skip_h1_title": false,
   "title_cell": "Table of Contents",
   "title_sidebar": "Contents",
   "toc_cell": false,
   "toc_position": {},
   "toc_section_display": true,
   "toc_window_display": false
  },
  "varInspector": {
   "cols": {
    "lenName": 16,
    "lenType": 16,
    "lenVar": 40
   },
   "kernels_config": {
    "python": {
     "delete_cmd_postfix": "",
     "delete_cmd_prefix": "del ",
     "library": "var_list.py",
     "varRefreshCmd": "print(var_dic_list())"
    },
    "r": {
     "delete_cmd_postfix": ") ",
     "delete_cmd_prefix": "rm(",
     "library": "var_list.r",
     "varRefreshCmd": "cat(var_dic_list()) "
    }
   },
   "types_to_exclude": [
    "module",
    "function",
    "builtin_function_or_method",
    "instance",
    "_Feature"
   ],
   "window_display": false
  }
 },
 "nbformat": 4,
 "nbformat_minor": 4
}

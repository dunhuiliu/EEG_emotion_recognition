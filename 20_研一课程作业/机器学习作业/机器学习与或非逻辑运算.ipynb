{
 "cells": [
  {
   "cell_type": "code",
   "execution_count": 2,
   "metadata": {},
   "outputs": [
    {
     "name": "stdout",
     "output_type": "stream",
     "text": [
      "0 and 0 = False\n",
      "0 and 1 = False\n",
      "1 and 0 = False\n",
      "1 and 1 = True\n",
      "0 or 0 = False\n",
      "0 or 1 = True\n",
      "1 or 0 = True\n",
      "1 or 1 = True\n",
      "not 0 = True\n",
      "not 1 = False\n"
     ]
    }
   ],
   "source": [
    "# AND\n",
    "weight = [1, 1]\n",
    "bias = -1.5\n",
    "test_inputs = [(0, 0), (0, 1), (1, 0), (1, 1)]\n",
    "\n",
    "for test_input in test_inputs :\n",
    "    linear_combination = weight[0] * test_input[0] + weight[1] * test_input[1] + bias\n",
    "    print(test_input[0], 'and', test_input[1], '=', bool(linear_combination >= 0))\n",
    "\n",
    "#or\n",
    "weight = [1, 1]\n",
    "bias = -0.5\n",
    "test_inputs = [(0, 0), (0, 1), (1, 0), (1, 1)]\n",
    "\n",
    "for test_input in test_inputs :\n",
    "    linear_combination = weight[0] * test_input[0] + weight[1] * test_input[1] + bias\n",
    "    print(test_input[0], 'or', test_input[1], '=', bool(linear_combination >= 0))\n",
    "\n",
    "#not\n",
    "weight = -1\n",
    "bias = 0.5\n",
    "test_inputs = [0, 1]\n",
    "\n",
    "for test_input in test_inputs :\n",
    "    linear_combination = weight * test_input + bias\n",
    "    print('not', test_input, '=', bool(linear_combination >= 0))"
   ]
  },
  {
   "cell_type": "code",
   "execution_count": null,
   "metadata": {},
   "outputs": [],
   "source": []
  }
 ],
 "metadata": {
  "kernelspec": {
   "display_name": "Python 3",
   "language": "python",
   "name": "python3"
  },
  "language_info": {
   "codemirror_mode": {
    "name": "ipython",
    "version": 3
   },
   "file_extension": ".py",
   "mimetype": "text/x-python",
   "name": "python",
   "nbconvert_exporter": "python",
   "pygments_lexer": "ipython3",
   "version": "3.8.8"
  }
 },
 "nbformat": 4,
 "nbformat_minor": 4
}

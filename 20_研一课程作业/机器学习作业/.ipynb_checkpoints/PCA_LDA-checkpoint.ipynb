{
 "cells": [
  {
   "cell_type": "code",
   "execution_count": 1,
   "metadata": {
    "ExecuteTime": {
     "end_time": "2020-12-08T12:33:46.895564Z",
     "start_time": "2020-12-08T12:33:46.880604Z"
    },
    "code_folding": [
     0
    ]
   },
   "outputs": [],
   "source": [
    "##PCA\n",
    "# import numpy as np\n",
    "# from sklearn import datasets    #datasets模块\n",
    "# from sklearn.model_selection import train_test_split    #分离训练集和测试集数据\n",
    "# from sklearn.decomposition import PCA\n",
    "# import matplotlib.pyplot as plt\n",
    "\n",
    "# loaded_data = datasets.load_iris()    #加载鸢尾花数据\n",
    "# X = loaded_data.data #x有4个属性\n",
    "# y = loaded_data.target #y 有三类\n",
    "\n",
    "# # print(X.shape)    #(150, 4)\n",
    "# # print(y.shape)    #(150,)    0,1,2\n",
    "\n",
    "# X_train, X_test, y_train, y_test = train_test_split(X, y, test_size=0.3,random_state=0,stratify=y)#测试数据占30%\n",
    "\n",
    "# print(X_train.shape)\n",
    "# print(y_train.shape)\n",
    "\n",
    "# #n_components, PCA算法中所要保留的主成分个数，也即保留下来的特征个数，默认为None，特征个数不会改变（特征数据本身会改变）。\n",
    "# pca = PCA(n_components=3)\n",
    "# newX = pca.fit_transform(X_train)\n",
    "# print(pca.explained_variance_ratio_)\n",
    "\n",
    "# class1 = y_train == 0\n",
    "# class2 = y_train == 1\n",
    "# class3 = y_train == 2\n",
    "\n",
    "# colors = ['r','g','b']\n",
    "# flowers = ['class1','class2','class3']\n",
    "\n",
    "# fig = plt.figure(figsize=(8,8))\n",
    "# ax = fig.add_subplot(111, projection='3d')\n",
    "\n",
    "# ax.scatter(newX[class1, 0], newX[class1, 1], newX[class1, 2], c = colors[0], label = flowers[0])\n",
    "# ax.scatter(newX[class2, 0], newX[class2, 1], newX[class2, 2], c = colors[1], label = flowers[1])\n",
    "# ax.scatter(newX[class3, 0], newX[class3, 1], newX[class3, 2], c = colors[2], label = flowers[2])\n",
    "\n",
    "# ax.set_xlabel('X Label')\n",
    "# ax.set_ylabel('Y Label')\n",
    "# ax.set_zlabel('Z Label')\n",
    "\n",
    "# plt.title(\"PCA\")\n",
    "# plt.legend()\n",
    "# plt.savefig('123.jpg')\n",
    "# plt.show()"
   ]
  },
  {
   "cell_type": "code",
   "execution_count": 9,
   "metadata": {
    "ExecuteTime": {
     "end_time": "2021-01-06T08:04:59.343562Z",
     "start_time": "2021-01-06T08:04:59.226518Z"
    }
   },
   "outputs": [
    {
     "name": "stdout",
     "output_type": "stream",
     "text": [
      "(105, 4)\n",
      "(105,)\n"
     ]
    },
    {
     "data": {
      "image/png": "[encoded data removed]",
      "text/plain": [
       "<Figure size 432x288 with 1 Axes>"
      ]
     },
     "metadata": {
      "needs_background": "light"
     },
     "output_type": "display_data"
    }
   ],
   "source": [
    "#LDA\n",
    "import numpy as np\n",
    "from sklearn import datasets    #datasets模块\n",
    "from sklearn.model_selection import train_test_split    #分离训练集和测试集数据\n",
    "from sklearn.discriminant_analysis import LinearDiscriminantAnalysis\n",
    "import matplotlib.pyplot as plt\n",
    "\n",
    "loaded_data = datasets.load_iris()    #加载鸢尾花数据\n",
    "X = loaded_data.data #x有4个属性\n",
    "y = loaded_data.target #y 有三类\n",
    "\n",
    "# print(X.shape)    #(150, 4)\n",
    "# print(y.shape)    #(150,)    0,1,2\n",
    "\n",
    "X_train, X_test, y_train, y_test = train_test_split(X, y, test_size=0.3,random_state=0,stratify=y)#测试数据占30%\n",
    "\n",
    "print(X_train.shape)\n",
    "print(y_train.shape)\n",
    "\n",
    "lda = LinearDiscriminantAnalysis(n_components=2)\n",
    "lda.fit(X_train,y_train)\n",
    "X_new = lda.transform(X_train)\n",
    "plt.scatter(X_new[:, 0], X_new[:, 1],marker='o',c=y_train)\n",
    "plt.savefig('123.jpg')\n",
    "plt.show()"
   ]
  },
  {
   "cell_type": "code",
   "execution_count": 3,
   "metadata": {
    "ExecuteTime": {
     "end_time": "2020-12-08T12:33:47.611470Z",
     "start_time": "2020-12-08T12:33:47.596421Z"
    }
   },
   "outputs": [],
   "source": [
    "#感知器定义\n",
    "class Network(object):\n",
    "    def __init__(self, num_of_weights):\n",
    "        # 随机产生w、b的初始值\n",
    "        \n",
    "        self.w = np.random.randn(num_of_weights, 1)\n",
    "        self.b = np.random.random()\n",
    "        \n",
    "    def forward(self, x):\n",
    "        z = np.dot(x, self.w) + self.b\n",
    "        return z\n",
    "    \n",
    "    def loss(self, z, y):\n",
    "        error = z - y\n",
    "        num_samples = error.shape[0]\n",
    "        cost = error * error\n",
    "        cost = np.sum(cost) / num_samples\n",
    "        return cost\n",
    "    \n",
    "    def gradient(self, x, y):\n",
    "        z = self.forward(x)\n",
    "        gradient_w = (z-y)*x\n",
    "        gradient_w = np.mean(gradient_w, axis=0)\n",
    "        gradient_w = gradient_w[:, np.newaxis]\n",
    "        gradient_b = (z - y)\n",
    "        gradient_b = np.mean(gradient_b)        \n",
    "        return gradient_w, gradient_b\n",
    "    \n",
    "    def update(self, gradient_w, gradient_b, eta = 0.01):\n",
    "        self.w = self.w - eta * gradient_w\n",
    "        self.b = self.b - eta * gradient_b\n",
    "        \n",
    "    def train(self, x, y, iterations=100, eta=0.01):\n",
    "        losses = []\n",
    "        for i in range(iterations):\n",
    "            z = self.forward(x)\n",
    "            L = self.loss(z, y)\n",
    "            gradient_w, gradient_b = self.gradient(x, y)\n",
    "            self.update(gradient_w, gradient_b, eta)\n",
    "            losses.append(L)\n",
    "            \n",
    "            if (i+1) % 50 == 0:\n",
    "                print('iter {}, loss {}'.format(i, L))\n",
    "        return losses"
   ]
  },
  {
   "cell_type": "code",
   "execution_count": 4,
   "metadata": {
    "ExecuteTime": {
     "end_time": "2020-12-08T12:33:47.784215Z",
     "start_time": "2020-12-08T12:33:47.612468Z"
    }
   },
   "outputs": [
    {
     "name": "stdout",
     "output_type": "stream",
     "text": [
      "iter 49, loss 2.6652424138445276\n",
      "iter 99, loss 1.0041467996433164\n",
      "iter 149, loss 0.39613208289855223\n",
      "iter 199, loss 0.1735790325998868\n",
      "iter 249, loss 0.09211741854156756\n",
      "iter 299, loss 0.06229983322390466\n",
      "iter 349, loss 0.05138563265896621\n",
      "iter 399, loss 0.04739068227305617\n",
      "iter 449, loss 0.045928401230031134\n",
      "iter 499, loss 0.04539315907625321\n",
      "iter 549, loss 0.04519724313755775\n",
      "iter 599, loss 0.045125531567824326\n",
      "iter 649, loss 0.04509928281405841\n",
      "iter 699, loss 0.045089674921261966\n",
      "iter 749, loss 0.04508615812176698\n",
      "iter 799, loss 0.045084870859414046\n",
      "iter 849, loss 0.045084399679761154\n",
      "iter 899, loss 0.04508422721276966\n",
      "iter 949, loss 0.04508416408427297\n",
      "iter 999, loss 0.045084140977201516\n"
     ]
    },
    {
     "data": {
      "image/png": "[encoded data removed]",
      "text/plain": [
       "<Figure size 432x288 with 1 Axes>"
      ]
     },
     "metadata": {
      "needs_background": "light"
     },
     "output_type": "display_data"
    }
   ],
   "source": [
    "#数据归一化\n",
    "newX_test = lda.transform(X_test)\n",
    "\n",
    "mean = X_new.mean(axis = 0)\n",
    "std = X_new.std(axis = 0)\n",
    "\n",
    "X_new -= mean\n",
    "X_new /= std\n",
    "\n",
    "newX_test -= mean\n",
    "newX_test /= std\n",
    "\n",
    "# 获取数据\n",
    "x = X_new\n",
    "y = y_train.reshape((-1, 1))\n",
    "\n",
    "# 创建网络\n",
    "net = Network(2)\n",
    "\n",
    "num_iterations=1000\n",
    "# 启动训练\n",
    "losses = net.train(x,y, iterations=num_iterations, eta=0.01)\n",
    "\n",
    "# 画出损失函数的变化趋势\n",
    "plot_x = np.arange(num_iterations)\n",
    "plot_y = np.array(losses)\n",
    "\n",
    "plt.title(\"loss\", fontsize=24)\n",
    "plt.xlabel(\"iter\", fontsize=14)\n",
    "plt.ylabel(\"loss\", fontsize=14)\n",
    "\n",
    "plt.plot(plot_x, plot_y,color='blue',label='train loss') \n",
    "\n",
    "plt.grid()\n",
    "plt.legend()\n",
    "plt.savefig('12345.jpg')\n",
    "plt.show()"
   ]
  },
  {
   "cell_type": "code",
   "execution_count": 5,
   "metadata": {
    "ExecuteTime": {
     "end_time": "2020-12-08T12:33:47.799490Z",
     "start_time": "2020-12-08T12:33:47.785213Z"
    }
   },
   "outputs": [
    {
     "name": "stdout",
     "output_type": "stream",
     "text": [
      "accuracy= 0.9777777777777777 (44/45)\n"
     ]
    }
   ],
   "source": [
    "#测试\n",
    "testX=newX_test\n",
    "testY=y_test.astype(np.int32).reshape((-1, 1))\n",
    "predictY = net.forward(testX)\n",
    "predictY=np.round(predictY).astype(np.int32)\n",
    "accuracy=list(testY == predictY).count(True)/testX.shape[0]\n",
    "print('accuracy=',accuracy,'({}/{})'.format(list(testY == predictY).count(True), testX.shape[0]))"
   ]
  }
 ],
 "metadata": {
  "kernelspec": {
   "display_name": "Python 3",
   "language": "python",
   "name": "python3"
  },
  "language_info": {
   "codemirror_mode": {
    "name": "ipython",
    "version": 3
   },
   "file_extension": ".py",
   "mimetype": "text/x-python",
   "name": "python",
   "nbconvert_exporter": "python",
   "pygments_lexer": "ipython3",
   "version": "3.8.8"
  },
  "toc": {
   "base_numbering": 1,
   "nav_menu": {},
   "number_sections": true,
   "sideBar": true,
   "skip_h1_title": false,
   "title_cell": "Table of Contents",
   "title_sidebar": "Contents",
   "toc_cell": false,
   "toc_position": {},
   "toc_section_display": true,
   "toc_window_display": false
  },
  "varInspector": {
   "cols": {
    "lenName": 16,
    "lenType": 16,
    "lenVar": 40
   },
   "kernels_config": {
    "python": {
     "delete_cmd_postfix": "",
     "delete_cmd_prefix": "del ",
     "library": "var_list.py",
     "varRefreshCmd": "print(var_dic_list())"
    },
    "r": {
     "delete_cmd_postfix": ") ",
     "delete_cmd_prefix": "rm(",
     "library": "var_list.r",
     "varRefreshCmd": "cat(var_dic_list()) "
    }
   },
   "types_to_exclude": [
    "module",
    "function",
    "builtin_function_or_method",
    "instance",
    "_Feature"
   ],
   "window_display": false
  }
 },
 "nbformat": 4,
 "nbformat_minor": 4
}

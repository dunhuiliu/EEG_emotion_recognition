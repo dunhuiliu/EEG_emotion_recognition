{
 "cells": [
  {
   "cell_type": "code",
   "execution_count": 80,
   "metadata": {
    "ExecuteTime": {
     "end_time": "2020-12-06T06:59:25.221237Z",
     "start_time": "2020-12-06T06:59:25.203280Z"
    }
   },
   "outputs": [
    {
     "name": "stdout",
     "output_type": "stream",
     "text": [
      "(105, 4)\n",
      "(45, 4)\n",
      "1.0\n",
      "[ 6 23 19]\n"
     ]
    }
   ],
   "source": [
    "import numpy as np\n",
    "from sklearn import datasets    #datasets模块\n",
    "from sklearn.model_selection import train_test_split    #分离训练集和测试集数据\n",
    "from sklearn import svm\n",
    "\n",
    "loaded_data = datasets.load_iris()    #加载鸢尾花数据\n",
    "X = loaded_data.data #x有4个属性\n",
    "y = loaded_data.target #y 有三类\n",
    "\n",
    "#print(X.shape)    #(150, 4)\n",
    "#print(y.shape)    #(150,)    0,1,2\n",
    "\n",
    "X_train, X_test, y_train, y_test = train_test_split(X, y, test_size=0.3,random_state=0,stratify=y)#测试数据占30%\n",
    "\n",
    "print(X_train.shape)\n",
    "print(X_test.shape)\n",
    "\n",
    "mean = X_train.mean(axis = 0)\n",
    "std = X_train.std(axis = 0)\n",
    "\n",
    "# X_train -= mean\n",
    "# X_train /= std\n",
    "\n",
    "# X_test -= mean\n",
    "# X_test /= std\n",
    "\n",
    "clf = svm.SVC(gamma='scale', decision_function_shape='ovr')\n",
    "clf.fit(X_train, y_train)\n",
    "\n",
    "#clf.predict(X_test)\n",
    "\n",
    "print(clf.score(X_test, y_test))    #打印正确率???????????????????\n",
    "\n",
    "# 为每一个类别获得支持向量的数量\n",
    "print(clf.n_support_)"
   ]
  },
  {
   "cell_type": "code",
   "execution_count": 2,
   "metadata": {
    "ExecuteTime": {
     "end_time": "2020-12-06T06:50:34.790748Z",
     "start_time": "2020-12-06T06:50:34.788753Z"
    }
   },
   "outputs": [],
   "source": [
    "# # 获得支持向量\n",
    "# print(clf.support_vectors_)\n",
    "\n",
    "# # 获得支持向量的索引\n",
    "# print(clf.support_)\n",
    "\n"
   ]
  },
  {
   "cell_type": "code",
   "execution_count": 21,
   "metadata": {
    "ExecuteTime": {
     "end_time": "2020-12-01T07:02:40.604873Z",
     "start_time": "2020-12-01T07:02:40.045191Z"
    }
   },
   "outputs": [
    {
     "name": "stdout",
     "output_type": "stream",
     "text": [
      "可以解决异或问题的power为： [2, 3, 4, 5, 6, 7, 8, 9, 10, 11, 12, 13, 14, 15, 16, 17, 18, 19, 20, 21, 22, 23, 24, 25, 26, 27, 28, 29, 30, 31, 32, 33, 34, 35, 36, 37, 38, 39, 40, 41, 42, 43, 44, 45, 46, 47, 48, 49, 50, 51, 52, 53, 54, 55, 56, 57, 58, 59, 60, 61, 62, 63]\n"
     ]
    },
    {
     "data": {
      "image/png": "[encoded data removed]",
      "text/plain": [
       "<Figure size 432x288 with 1 Axes>"
      ]
     },
     "metadata": {
      "needs_background": "light"
     },
     "output_type": "display_data"
    }
   ],
   "source": [
    "from sklearn.svm import SVC\n",
    "import numpy as np\n",
    "import matplotlib.pyplot as plt\n",
    "X = np.array([[0,0], [0,1], [1,0], [1,1]])\n",
    "y = np.array([0, 1, 1, 0])\n",
    "\n",
    "power = []\n",
    "accuracy = []\n",
    "allTruePower = []\n",
    "\n",
    "for j in range(1, 200):\n",
    "    clf = SVC(gamma='scale', kernel='poly',  degree=j)\n",
    "    clf.fit(X, y)\n",
    "    power.append(j)\n",
    "    acc = clf.score(X, y)\n",
    "    accuracy.append(acc)\n",
    "    if int(acc) == 1:\n",
    "        allTruePower.append(j)\n",
    "\n",
    "print('可以解决异或问题的power为：', allTruePower)\n",
    "plt.xlabel('power')\n",
    "plt.ylabel('accuracy')\n",
    "plt.plot(power, accuracy)\n",
    "plt.grid()\n",
    "plt.savefig('123.jpg')\n",
    "plt.show()"
   ]
  },
  {
   "cell_type": "code",
   "execution_count": null,
   "metadata": {},
   "outputs": [],
   "source": []
  }
 ],
 "metadata": {
  "kernelspec": {
   "display_name": "Python 3",
   "language": "python",
   "name": "python3"
  },
  "language_info": {
   "codemirror_mode": {
    "name": "ipython",
    "version": 3
   },
   "file_extension": ".py",
   "mimetype": "text/x-python",
   "name": "python",
   "nbconvert_exporter": "python",
   "pygments_lexer": "ipython3",
   "version": "3.7.6"
  },
  "toc": {
   "base_numbering": 1,
   "nav_menu": {},
   "number_sections": true,
   "sideBar": true,
   "skip_h1_title": false,
   "title_cell": "Table of Contents",
   "title_sidebar": "Contents",
   "toc_cell": false,
   "toc_position": {},
   "toc_section_display": true,
   "toc_window_display": false
  },
  "varInspector": {
   "cols": {
    "lenName": 16,
    "lenType": 16,
    "lenVar": 40
   },
   "kernels_config": {
    "python": {
     "delete_cmd_postfix": "",
     "delete_cmd_prefix": "del ",
     "library": "var_list.py",
     "varRefreshCmd": "print(var_dic_list())"
    },
    "r": {
     "delete_cmd_postfix": ") ",
     "delete_cmd_prefix": "rm(",
     "library": "var_list.r",
     "varRefreshCmd": "cat(var_dic_list()) "
    }
   },
   "types_to_exclude": [
    "module",
    "function",
    "builtin_function_or_method",
    "instance",
    "_Feature"
   ],
   "window_display": false
  }
 },
 "nbformat": 4,
 "nbformat_minor": 4
}

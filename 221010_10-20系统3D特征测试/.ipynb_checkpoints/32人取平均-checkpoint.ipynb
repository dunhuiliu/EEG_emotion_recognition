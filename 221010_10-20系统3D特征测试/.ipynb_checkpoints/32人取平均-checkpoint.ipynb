{
 "cells": [
  {
   "cell_type": "code",
   "execution_count": 1,
   "id": "f9dbd5b7-7730-4ceb-a7c8-5803799f39a8",
   "metadata": {},
   "outputs": [],
   "source": [
    "import numpy as np\n",
    "import tensorflow as tf\n",
    "import os\n",
    "\n",
    "from tensorflow.keras import backend as K\n",
    "from tensorflow.keras.optimizers import Adam\n",
    "from tensorflow.keras.initializers import VarianceScaling\n",
    "from tensorflow.keras.layers import Input, Dense, Subtract, Add, Dense, Dropout, Flatten, Conv2D, MaxPooling2D, BatchNormalization\n",
    "from tensorflow.keras.models import Model, load_model\n",
    "from tensorflow.keras.utils import to_categorical, plot_model\n",
    "from tensorflow.keras.callbacks import Callback, EarlyStopping, ModelCheckpoint, TensorBoard, ReduceLROnPlateau\n",
    "from tensorflow.keras.models import Sequential\n",
    "from tensorflow.keras import layers\n",
    "\n",
    "from tensorflow.keras.utils import to_categorical\n",
    "from keras.utils.layer_utils import count_params\n",
    "import pandas as pd\n",
    "from pandas import DataFrame\n",
    "import matplotlib.pyplot as plt"
   ]
  },
  {
   "cell_type": "code",
   "execution_count": 2,
   "id": "a06b14e2-1602-476e-86dd-a80a1bde64e7",
   "metadata": {},
   "outputs": [
    {
     "name": "stdout",
     "output_type": "stream",
     "text": [
      "(76800, 128, 9, 9) (1280, 128, 9, 9) (1280, 2)\n"
     ]
    }
   ],
   "source": [
    "# 读取数据\n",
    "load_path = '../global_data/time_76800x128x9x9/'\n",
    "\n",
    "trials = np.load(load_path + 'trials.npy')\n",
    "bases = np.load(load_path + 'bases.npy')\n",
    "labels = np.load(load_path + 'labels.npy')\n",
    "print(trials.shape, bases.shape, labels.shape)"
   ]
  },
  {
   "cell_type": "code",
   "execution_count": null,
   "id": "5e746e6b-ea47-4bcc-a6e3-3badc7af23a8",
   "metadata": {},
   "outputs": [],
   "source": []
  },
  {
   "cell_type": "markdown",
   "id": "c07999f1-2ab1-4593-bc02-3431dd862492",
   "metadata": {},
   "source": [
    "## 数据预处理"
   ]
  },
  {
   "cell_type": "code",
   "execution_count": 3,
   "id": "ed88cfc4-10c2-4ce6-8a5e-89da139086e6",
   "metadata": {},
   "outputs": [
    {
     "name": "stdout",
     "output_type": "stream",
     "text": [
      "channels_last\n",
      "(76800, 9, 9, 128) (1280, 9, 9, 128)\n"
     ]
    }
   ],
   "source": [
    "# 从 chw 转换为 hwc\n",
    "print(K.image_data_format())\n",
    "trials = trials.transpose((0, 2, 3, 1))\n",
    "bases = bases.transpose((0, 2, 3, 1))\n",
    "print(trials.shape, bases.shape)"
   ]
  },
  {
   "cell_type": "code",
   "execution_count": 4,
   "id": "68ac8020-c784-48f4-a744-34785e882662",
   "metadata": {},
   "outputs": [
    {
     "data": {
      "text/plain": [
       "(76800, 9, 9, 128)"
      ]
     },
     "execution_count": 4,
     "metadata": {},
     "output_type": "execute_result"
    }
   ],
   "source": [
    "# 去基线\n",
    "trials_de_base = []\n",
    "for i, base in enumerate(bases):\n",
    "    trials_de_base.append(trials[i * 60 : (i + 1) * 60] - base)\n",
    "trials_de_base = np.array(trials_de_base)\n",
    "trials_de_base = trials_de_base.reshape((-1, 9, 9, 128))\n",
    "trials_de_base.shape"
   ]
  },
  {
   "cell_type": "code",
   "execution_count": 5,
   "id": "680b57eb-5e34-4faa-9361-facf96bfda64",
   "metadata": {
    "tags": []
   },
   "outputs": [
    {
     "name": "stdout",
     "output_type": "stream",
     "text": [
      "(76800, 2)\n"
     ]
    }
   ],
   "source": [
    "# 离散化标签\n",
    "labels = np.where(labels >= 5, 1, 0)\n",
    "\n",
    "# 复制以对齐样本\n",
    "labels = np.repeat(labels, 60, axis = 0)\n",
    "print(labels.shape)"
   ]
  },
  {
   "cell_type": "code",
   "execution_count": 32,
   "id": "aa93a8e4-84e0-4123-bba7-17017d455545",
   "metadata": {},
   "outputs": [],
   "source": [
    "# sample_cnt = trials.shape[0]\n",
    "# # 数据集划分\n",
    "# train_ratio = 0.9\n",
    "# shuffer_list = np.arange(sample_cnt)\n",
    "# np.random.shuffle(shuffer_list)\n",
    "\n",
    "# trials_shuffer = trials_de_base[shuffer_list] # trials_de_base\n",
    "# labels = labels[shuffer_list]\n",
    "\n",
    "# x_train = trials_shuffer[:int(train_ratio * sample_cnt)]\n",
    "# y_train = labels[:int(train_ratio * sample_cnt)]\n",
    "# x_test = trials_shuffer[int(train_ratio * sample_cnt):]\n",
    "# y_test = labels[int(train_ratio * sample_cnt):]"
   ]
  },
  {
   "cell_type": "code",
   "execution_count": 41,
   "id": "d8fd87a1-87b2-467a-9302-41ab126c868a",
   "metadata": {},
   "outputs": [],
   "source": [
    "SEED = 2022\n",
    "tf.random.set_seed(SEED)"
   ]
  },
  {
   "cell_type": "code",
   "execution_count": 42,
   "id": "35fd447c-5cee-4222-b976-ac3575eb381a",
   "metadata": {},
   "outputs": [],
   "source": [
    "# 超参设置\n",
    "max_epoch = 40"
   ]
  },
  {
   "cell_type": "code",
   "execution_count": 46,
   "id": "b2c7b711-a23c-4f1a-a61b-e184cb180d31",
   "metadata": {},
   "outputs": [],
   "source": [
    "def cnn2_dens2(shape):\n",
    "    input_layer = Input(shape=shape)\n",
    "    conv1 = Conv2D(128, kernel_size = (3, 3), padding = 'same', activation = 'relu', use_bias = True)(input_layer)\n",
    "    # maxpool1 = MaxPooling2D(pool_size = (2, 2))(conv1)\n",
    "    conv2 = Conv2D(128, kernel_size = (3, 3), padding = 'same', activation = 'relu', use_bias = True)(conv1)\n",
    "    # maxpool2 = MaxPooling2D(pool_size = (2, 2))(conv2)\n",
    "#     Dropout(0.25)(maxpool2)\n",
    "\n",
    "    fl = Flatten()(conv2)\n",
    "    fc1 = Dense(128, activation = 'relu')(fl)\n",
    "    dp1 = Dropout(0.5)(fc1)\n",
    "    fc2 = Dense(64,activation='relu')(dp1)\n",
    "#     bn = BatchNormalization()(fc1)\n",
    "    dp2 = Dropout(0.5)(fc2)\n",
    "\n",
    "    out_layer = Dense(2, activation = 'softmax')(dp2)\n",
    "\n",
    "    model = Model(inputs=[input_layer], outputs=[out_layer])\n",
    "\n",
    "    optimizer = Adam()\n",
    "    model.compile(loss='binary_crossentropy', optimizer=optimizer, metrics=['acc'])\n",
    "    # 可选 categorical_crossentropy\n",
    "\n",
    "#     model.summary()\n",
    "\n",
    "    os.environ[\"PATH\"] += os.pathsep +'C:/Program Files/Graphviz/bin'\n",
    "    plot_model(model,'cnn2_dens2.jpg', show_shapes=True)\n",
    "    \n",
    "    return model"
   ]
  },
  {
   "cell_type": "code",
   "execution_count": 55,
   "id": "992c227d-7a38-4057-8a33-9f636acc0a72",
   "metadata": {
    "tags": []
   },
   "outputs": [
    {
     "name": "stdout",
     "output_type": "stream",
     "text": [
      "sub:0\n",
      "Epoch 37: early stopping\n",
      "23/23 [==============================] - 0s 8ms/step - loss: 0.1448 - acc: 0.9764\n",
      "sub:1\n",
      "Epoch 29: early stopping\n",
      "23/23 [==============================] - 0s 6ms/step - loss: 0.2861 - acc: 0.9611\n",
      "sub:2\n",
      "Epoch 18: early stopping\n",
      "23/23 [==============================] - 0s 6ms/step - loss: 0.2823 - acc: 0.9750\n",
      "sub:3\n",
      "Epoch 22: early stopping\n",
      "23/23 [==============================] - 0s 6ms/step - loss: 0.3242 - acc: 0.9236\n",
      "sub:4\n",
      "Epoch 16: early stopping\n",
      "23/23 [==============================] - 0s 6ms/step - loss: 0.1914 - acc: 0.9583\n",
      "sub:5\n",
      "Epoch 22: early stopping\n",
      "23/23 [==============================] - 0s 6ms/step - loss: 0.1375 - acc: 0.9681\n",
      "sub:6\n",
      "Epoch 22: early stopping\n",
      "23/23 [==============================] - 0s 6ms/step - loss: 0.0927 - acc: 0.9806\n",
      "sub:7\n",
      "Epoch 37: early stopping\n",
      "23/23 [==============================] - 0s 12ms/step - loss: 0.3564 - acc: 0.9611\n",
      "sub:8\n",
      "Epoch 25: early stopping\n",
      "23/23 [==============================] - 0s 9ms/step - loss: 0.3415 - acc: 0.9569\n",
      "sub:9\n",
      "Epoch 17: early stopping\n",
      "23/23 [==============================] - 0s 8ms/step - loss: 0.1364 - acc: 0.9736\n",
      "sub:10\n",
      "Epoch 19: early stopping\n",
      "23/23 [==============================] - 0s 7ms/step - loss: 0.3519 - acc: 0.9208\n",
      "sub:11\n",
      "Epoch 24: early stopping\n",
      "23/23 [==============================] - 0s 6ms/step - loss: 0.2770 - acc: 0.9597\n",
      "sub:12\n",
      "Epoch 23: early stopping\n",
      "23/23 [==============================] - 0s 6ms/step - loss: 0.2244 - acc: 0.9667\n",
      "sub:13\n",
      "Epoch 15: early stopping\n",
      "23/23 [==============================] - 0s 6ms/step - loss: 0.3131 - acc: 0.9431\n",
      "sub:14\n",
      "Epoch 14: early stopping\n",
      "23/23 [==============================] - 0s 6ms/step - loss: 0.1389 - acc: 0.9750\n",
      "sub:15\n",
      "Epoch 19: early stopping\n",
      "23/23 [==============================] - 0s 6ms/step - loss: 0.2336 - acc: 0.9778\n",
      "sub:16\n",
      "Epoch 18: early stopping\n",
      "23/23 [==============================] - 0s 6ms/step - loss: 0.2828 - acc: 0.9528\n",
      "sub:17\n",
      "Epoch 20: early stopping\n",
      "23/23 [==============================] - 0s 11ms/step - loss: 0.1037 - acc: 0.9861\n",
      "sub:18\n",
      "Epoch 28: early stopping\n",
      "23/23 [==============================] - 0s 11ms/step - loss: 0.1076 - acc: 0.9847\n",
      "sub:19\n",
      "Epoch 30: early stopping\n",
      "23/23 [==============================] - 0s 10ms/step - loss: 0.0750 - acc: 0.9847\n",
      "sub:20\n",
      "Epoch 17: early stopping\n",
      "23/23 [==============================] - 0s 8ms/step - loss: 0.1528 - acc: 0.9750\n",
      "sub:21\n",
      "Epoch 14: early stopping\n",
      "23/23 [==============================] - 0s 8ms/step - loss: 0.1990 - acc: 0.9750\n",
      "sub:22\n",
      "Epoch 19: early stopping\n",
      "23/23 [==============================] - 0s 7ms/step - loss: 0.0657 - acc: 0.9903\n",
      "sub:23\n",
      "Epoch 19: early stopping\n",
      "23/23 [==============================] - 0s 7ms/step - loss: 0.2642 - acc: 0.9375\n",
      "sub:24\n",
      "Epoch 35: early stopping\n",
      "23/23 [==============================] - 0s 7ms/step - loss: 0.2651 - acc: 0.9514\n",
      "sub:25\n",
      "Epoch 23: early stopping\n",
      "23/23 [==============================] - 0s 7ms/step - loss: 0.3229 - acc: 0.9639\n",
      "sub:26\n",
      "Epoch 20: early stopping\n",
      "23/23 [==============================] - 0s 7ms/step - loss: 0.1321 - acc: 0.9819\n",
      "sub:27\n",
      "23/23 [==============================] - 0s 12ms/step - loss: 0.1543 - acc: 0.9764\n",
      "sub:28\n",
      "Epoch 20: early stopping\n",
      "23/23 [==============================] - 0s 11ms/step - loss: 0.1072 - acc: 0.9847\n",
      "sub:29\n",
      "Epoch 25: early stopping\n",
      "23/23 [==============================] - 0s 10ms/step - loss: 0.1892 - acc: 0.9708\n",
      "sub:30\n",
      "Epoch 14: early stopping\n",
      "23/23 [==============================] - 0s 8ms/step - loss: 0.1308 - acc: 0.9708\n",
      "sub:31\n",
      "Epoch 39: early stopping\n",
      "23/23 [==============================] - 0s 8ms/step - loss: 0.1862 - acc: 0.9694\n",
      "0.9694444537162781\n"
     ]
    }
   ],
   "source": [
    "all_acc = []\n",
    "for idx in range(32):\n",
    "    print(f'sub:{idx}')\n",
    "    sample_cnt = 2400\n",
    "\n",
    "    # 数据集划分\n",
    "    train_ratio = 0.7\n",
    "    shuffer_list = np.arange(sample_cnt)\n",
    "    np.random.shuffle(shuffer_list)\n",
    "    trials_de_base_1sub = trials_de_base[idx*sample_cnt:(idx+1)*sample_cnt]\n",
    "    labels_1sub = labels[idx*sample_cnt:(idx+1)*sample_cnt]\n",
    "\n",
    "    trials_shuffer = trials_de_base_1sub[shuffer_list] # trials_de_base\n",
    "    labels_shuffer = labels_1sub[shuffer_list]\n",
    "\n",
    "    x_train = trials_shuffer[:int(train_ratio * sample_cnt)]\n",
    "    y_train = labels_shuffer[:int(train_ratio * sample_cnt)]\n",
    "    x_test = trials_shuffer[int(train_ratio * sample_cnt):]\n",
    "    y_test = labels_shuffer[int(train_ratio * sample_cnt):]\n",
    "\n",
    "\n",
    "    # z归一化\n",
    "\n",
    "    chan_to_1020={0:[0,3],1:[1,3],2:[2,2],3:[2,0],4:[3,1],5:[3,3],6:[4,2],7:[4,0],8:[5,1],9:[5,3],10:[6,3],11:[6,0],12:[7,3],\n",
    "                    13:[8,3],14:[7,4],15:[6,4],16:[0,5],17:[1,5],18:[2,4],19:[2,6],20:[2,8],21:[3,7],22:[3,5],23:[4,4],24:[4,6],\n",
    "                    25:[4,8],26:[5,7],27:[5,5],28:[6,6],29:[6,8],30:[7,5],31:[8,5]}\n",
    "\n",
    "    # 需要归一化的位置\n",
    "    need_norm_pos = np.zeros(shape=(9,9))\n",
    "\n",
    "    for val in chan_to_1020.values():\n",
    "        need_norm_pos[val[0]][val[1]] = 1\n",
    "#     print(need_norm_pos)\n",
    "\n",
    "    x_train = x_train.reshape((x_train.shape[0], -1))\n",
    "    x_test = x_test.reshape((x_test.shape[0], -1))\n",
    "\n",
    "    need_norm_pos = need_norm_pos.reshape(-1)\n",
    "\n",
    "    for i, need_norm in enumerate(need_norm_pos):\n",
    "        if need_norm == 1:\n",
    "            mean = np.mean(x_train[:, i * 128 : (i + 1) * 128], axis = 0)\n",
    "            std = np.std(x_train[:, i * 128 : (i + 1) * 128], axis = 0)\n",
    "            x_train[:, i * 128 : (i + 1) * 128] -= mean\n",
    "            x_train[:, i * 128 : (i + 1) * 128] /= std\n",
    "            x_test[:, i * 128 : (i + 1) * 128] -= mean\n",
    "            x_test[:, i * 128 : (i + 1) * 128] /= std\n",
    "\n",
    "    x_train = x_train.reshape((-1, 9, 9, 128))\n",
    "    x_test = x_test.reshape((-1, 9, 9, 128))\n",
    "\n",
    "\n",
    "    # 处理成 tf 的输入格式\n",
    "    y_v_train = to_categorical(y_train[:, 0], 2)\n",
    "    y_a_train = to_categorical(y_train[:, 1], 2)\n",
    "    y__v_test = to_categorical(y_test[:, 0], 2)\n",
    "    y__a_test = to_categorical(y_test[:, 1], 2)\n",
    "\n",
    "\n",
    "    # 建立模型\n",
    "\n",
    "    model = cnn2_dens2(shape = x_train.shape[1:])\n",
    "\n",
    "    # Train the model\n",
    "    callbacksList = [EarlyStopping(monitor = 'val_acc', patience=10, verbose = 1), # patience当连续多少个epochs时验证集精度不再变好终止训练\n",
    "                    ModelCheckpoint(filepath = f'model/model.h5',monitor='acc',save_best_only=True,)\n",
    "    ]\n",
    "\n",
    "    history = model.fit(x=[x_train], y=y_v_train, \n",
    "                        validation_data=(x_test, y__v_test), shuffle = True,\n",
    "                        callbacks = callbacksList,\n",
    "                        epochs=max_epoch, batch_size = 32, verbose=0)\n",
    "    \n",
    "    # 评估\n",
    "    model = load_model('model/model.h5')\n",
    "    score = model.evaluate(x_test, y__v_test, verbose = 1)\n",
    "    all_acc.append(score[1])\n",
    "\n",
    "all_acc = np.array(score[1])\n",
    "print(all_acc.mean())"
   ]
  },
  {
   "cell_type": "code",
   "execution_count": 39,
   "id": "72af9277-eb44-4fc8-9a6a-747c0c9f5e74",
   "metadata": {
    "tags": []
   },
   "outputs": [
    {
     "data": {
      "text/plain": [
       "<matplotlib.legend.Legend at 0x1a952658808>"
      ]
     },
     "execution_count": 39,
     "metadata": {},
     "output_type": "execute_result"
    },
    {
     "data": {
      "image/png": "[encoded data removed]",
      "text/plain": [
       "<Figure size 640x480 with 1 Axes>"
      ]
     },
     "metadata": {},
     "output_type": "display_data"
    }
   ],
   "source": [
    "# 查看训练曲线\n",
    "plt.plot(history.epoch,history.history.get('loss'),label=\"loss\")\n",
    "plt.plot(history.epoch,history.history.get('val_loss'),label=\"val_loss\")\n",
    "plt.xlabel(\"epoch\")\n",
    "plt.ylabel(\"loss\")\n",
    "plt.legend()\n"
   ]
  },
  {
   "cell_type": "code",
   "execution_count": null,
   "id": "2ff007d7-171a-4796-9e78-2eb9062f4dda",
   "metadata": {},
   "outputs": [],
   "source": [
    "plt.plot(history.epoch,history.history.get('acc'),label=\"accuracy\")\n",
    "plt.plot(history.epoch,history.history.get('val_acc'),label=\"val_accuracy\")\n",
    "plt.xlabel(\"epoch\")\n",
    "plt.ylabel(\"accuracy\")\n",
    "plt.legend()\n"
   ]
  },
  {
   "cell_type": "code",
   "execution_count": null,
   "id": "526319f1-44c6-4b00-b2a7-414f51dea179",
   "metadata": {},
   "outputs": [],
   "source": [
    "# # 评估\n",
    "# score = model.evaluate(x_test, y_test, verbose = 0) \n",
    "# print('Test loss:', score[0]) \n",
    "# print('Test accuracy:', score[1])\n",
    "\n",
    "# # 预测\n",
    "# pred = model.predict(x_test) \n",
    "# pred = np.argmax(pred, axis = 1)[:5] \n",
    "# label = np.argmax(y_test,axis = 1)[:5] \n",
    "# print(pred) \n",
    "# print(label)\n"
   ]
  }
 ],
 "metadata": {
  "kernelspec": {
   "display_name": "tf2gpu",
   "language": "python",
   "name": "tf2gpu"
  },
  "language_info": {
   "codemirror_mode": {
    "name": "ipython",
    "version": 3
   },
   "file_extension": ".py",
   "mimetype": "text/x-python",
   "name": "python",
   "nbconvert_exporter": "python",
   "pygments_lexer": "ipython3",
   "version": "3.7.15"
  }
 },
 "nbformat": 4,
 "nbformat_minor": 5
}

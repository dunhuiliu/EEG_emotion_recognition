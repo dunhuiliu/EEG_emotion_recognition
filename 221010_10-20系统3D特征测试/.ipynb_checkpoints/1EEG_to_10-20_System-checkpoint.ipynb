{
 "cells": [
  {
   "cell_type": "code",
   "execution_count": 1,
   "id": "46a8a567",
   "metadata": {},
   "outputs": [],
   "source": [
    "import numpy as np"
   ]
  },
  {
   "cell_type": "code",
   "execution_count": 2,
   "id": "e58a2511-0978-46bc-9a45-f52bab5a5450",
   "metadata": {},
   "outputs": [
    {
     "name": "stdout",
     "output_type": "stream",
     "text": [
      "(1280, 32, 384) (1280, 32, 7680) (1280, 2)\n"
     ]
    }
   ],
   "source": [
    "load_path = 'D:/JupyterNotebookWorkSpace/EEG emotion recognition/'\n",
    "\n",
    "data = np.load(load_path + 'dataSet/1280x258050(32x8064+2).npy')\n",
    "fe = data[:, :-2]\n",
    "labels = data[:, -2:]\n",
    "fe = fe.reshape((1280, 32, -1))\n",
    "bases = fe[:, :, :128 * 3]\n",
    "trials = fe[:, :, 128 * 3:]\n",
    "print(bases.shape, trials.shape, labels.shape)"
   ]
  },
  {
   "cell_type": "code",
   "execution_count": 3,
   "id": "50ec9bae-d65c-4e17-91cc-4d7566c3b5d3",
   "metadata": {},
   "outputs": [],
   "source": [
    "window_size = 128"
   ]
  },
  {
   "cell_type": "code",
   "execution_count": 4,
   "id": "8ad14217-9718-416c-bac4-6a425aaabd56",
   "metadata": {},
   "outputs": [],
   "source": [
    "# 切片为1秒\n",
    "def EEG_split(fe):\n",
    "    samples = []\n",
    "    for trial in fe:\n",
    "        for start in range(0, fe.shape[2], window_size):\n",
    "            samples.append(trial[:, start : start + window_size])\n",
    "    samples = np.array(samples)\n",
    "    return samples"
   ]
  },
  {
   "cell_type": "code",
   "execution_count": 5,
   "id": "4729b8e2-544d-4f30-99a4-e451f5e31294",
   "metadata": {},
   "outputs": [
    {
     "name": "stdout",
     "output_type": "stream",
     "text": [
      "(76800, 32, 128) (3840, 32, 128)\n"
     ]
    }
   ],
   "source": [
    "trials_samples = EEG_split(trials)\n",
    "bases_samples = EEG_split(bases)\n",
    "print(trials_samples.shape, bases_samples.shape)"
   ]
  },
  {
   "cell_type": "code",
   "execution_count": 6,
   "id": "9336a2ca-1f54-4e25-90ea-ccb095c0abd7",
   "metadata": {},
   "outputs": [
    {
     "data": {
      "text/plain": [
       "(1280, 32, 128)"
      ]
     },
     "execution_count": 6,
     "metadata": {},
     "output_type": "execute_result"
    }
   ],
   "source": [
    "# base 取平均\n",
    "bases_samples = bases_samples.reshape((1280, 3, 32, 128))\n",
    "bases_samples = bases_samples.mean(axis = 1)\n",
    "bases_samples.shape"
   ]
  },
  {
   "cell_type": "markdown",
   "id": "9600c073-dd49-4d87-a984-6c7cc6571394",
   "metadata": {},
   "source": [
    "#### 通道映射到10-20系统"
   ]
  },
  {
   "cell_type": "code",
   "execution_count": 7,
   "id": "4c638212-f868-46c5-8963-cd64da0a9c12",
   "metadata": {},
   "outputs": [],
   "source": [
    "#用一个字典保存 通道下标对应 9 * 9 矩阵的下标\n",
    "chan_to_1020={0:[0,3],1:[1,3],2:[2,2],3:[2,0],4:[3,1],5:[3,3],6:[4,2],7:[4,0],8:[5,1],9:[5,3],10:[6,3],11:[6,0],12:[7,3],\n",
    "                13:[8,3],14:[7,4],15:[6,4],16:[0,5],17:[1,5],18:[2,4],19:[2,6],20:[2,8],21:[3,7],22:[3,5],23:[4,4],24:[4,6],\n",
    "                25:[4,8],26:[5,7],27:[5,5],28:[6,6],29:[6,8],30:[7,5],31:[8,5]}\n",
    "\n",
    "def EEG_to_1020(samples):\n",
    "    samples_1020 = []\n",
    "    for sample in samples:\n",
    "        sample_1020 =np.zeros((128, 9, 9))\n",
    "        for c in range(32):\n",
    "            for t in range(window_size):\n",
    "                sample_1020[t, chan_to_1020[c][0], chan_to_1020[c][1]] = sample[c, t]\n",
    "        samples_1020.append(sample_1020)\n",
    "    return np.array(samples_1020)"
   ]
  },
  {
   "cell_type": "code",
   "execution_count": 8,
   "id": "1080aef9-4e27-450d-aade-6bc65de6422e",
   "metadata": {},
   "outputs": [
    {
     "name": "stdout",
     "output_type": "stream",
     "text": [
      "(76800, 128, 9, 9) (1280, 128, 9, 9)\n"
     ]
    }
   ],
   "source": [
    "trials_samples = EEG_to_1020(trials_samples)\n",
    "bases_samples = EEG_to_1020(bases_samples)\n",
    "print(trials_samples.shape, bases_samples.shape)"
   ]
  },
  {
   "cell_type": "code",
   "execution_count": 9,
   "id": "1895a13b-1f3f-4db6-b043-0bdc8489a1bb",
   "metadata": {},
   "outputs": [],
   "source": [
    "# 分别保存 trial、base和label\n",
    "save_path = './data/'\n",
    "np.save(save_path + 'trials.npy', trials_samples)\n",
    "np.save(save_path + 'bases.npy', bases_samples)\n",
    "np.save(save_path + 'labels.npy', labels)"
   ]
  },
  {
   "cell_type": "code",
   "execution_count": null,
   "id": "3106393e-d480-417f-882d-305c779f78e1",
   "metadata": {},
   "outputs": [],
   "source": []
  }
 ],
 "metadata": {
  "kernelspec": {
   "display_name": "tf252",
   "language": "python",
   "name": "tf252"
  },
  "language_info": {
   "codemirror_mode": {
    "name": "ipython",
    "version": 3
   },
   "file_extension": ".py",
   "mimetype": "text/x-python",
   "name": "python",
   "nbconvert_exporter": "python",
   "pygments_lexer": "ipython3",
   "version": "3.7.13"
  }
 },
 "nbformat": 4,
 "nbformat_minor": 5
}

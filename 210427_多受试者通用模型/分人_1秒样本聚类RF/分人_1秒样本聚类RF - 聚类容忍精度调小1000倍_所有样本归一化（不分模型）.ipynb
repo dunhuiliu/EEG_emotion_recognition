{
 "cells": [
  {
   "cell_type": "markdown",
   "metadata": {},
   "source": [
    "# 类比实验\n",
    "- 32个受试者，按比例划分数据集，进行八折交叉验证\n",
    "- 把测试受试者随机选择一个训练好的模型（不选择Wasserstein距离最近的模型）作为对比实验\n",
    "- 与单受试者模型做对比，期望结果，准确率相差不多或比单受试者模型准确率略低\n",
    "- 与所有受试者公用一个模型做对比，期望结果，比所有受试者公用模型准确率高很多"
   ]
  },
  {
   "cell_type": "code",
   "execution_count": 1,
   "metadata": {
    "ExecuteTime": {
     "end_time": "2021-04-28T07:56:36.463816Z",
     "start_time": "2021-04-28T07:56:35.924576Z"
    }
   },
   "outputs": [],
   "source": [
    "#加载飞桨、Numpy和相关类库\n",
    "import numpy as np\n",
    "import pyeeg as pe\n",
    "import os\n",
    "import random\n",
    "import time\n",
    "\n",
    "from PIL import Image\n",
    "import matplotlib.pyplot as plt\n",
    "from matplotlib import pyplot\n",
    "\n",
    "from scipy.stats import wasserstein_distance"
   ]
  },
  {
   "cell_type": "code",
   "execution_count": 2,
   "metadata": {
    "ExecuteTime": {
     "end_time": "2021-04-28T07:56:36.478742Z",
     "start_time": "2021-04-28T07:56:36.464765Z"
    }
   },
   "outputs": [],
   "source": [
    "#加载一个受试者\n",
    "def De_baseline(sub):\n",
    "    dir='E:\\JupyterNotebookWorkSpace\\dataSet\\\\1280x258050(32x8064+2).npy'\n",
    "    data=np.load(dir)\n",
    "    subData = data[sub * 40 : (sub + 1) * 40]\n",
    "    subData[: , -2:] = np.where(subData[: , -2:] >= 5 , 1 , -1)\n",
    "    return subData"
   ]
  },
  {
   "cell_type": "code",
   "execution_count": 3,
   "metadata": {
    "ExecuteTime": {
     "end_time": "2021-04-28T07:56:36.494210Z",
     "start_time": "2021-04-28T07:56:36.479739Z"
    }
   },
   "outputs": [],
   "source": [
    "#数据集切60片，基线单独返回\n",
    "def Data_set_partition(subData):\n",
    "    features = subData[:,:-2]\n",
    "    labels = subData[:,-2:]\n",
    "    features = features.reshape(40,32,-1)\n",
    "    baseline = features[:,:,:384]\n",
    "    features = features[:,:,384:]\n",
    "    \n",
    "    dataList = []\n",
    "    for i in range(40):\n",
    "        for j in range(60):\n",
    "            dataList.append(np.append(features[i][ : , j * 128 : (j + 1) * 128].reshape(-1) , labels[i]))\n",
    "\n",
    "    dataList = np.array(dataList)\n",
    "\n",
    "    return dataList, baseline"
   ]
  },
  {
   "cell_type": "code",
   "execution_count": 4,
   "metadata": {
    "ExecuteTime": {
     "end_time": "2021-04-28T07:56:36.510167Z",
     "start_time": "2021-04-28T07:56:36.495208Z"
    }
   },
   "outputs": [],
   "source": [
    "#特征提取\n",
    "def feature_extraction(trainData, baseline):\n",
    "\n",
    "    band = [4,8,13,16,30,45] #5 bands    band = [4,8,12,16,25,45]    \n",
    "    window_size = 128 #Averaging band power of 1 sec\n",
    "    step_size = 128 #Each 1 sec update once\n",
    "    sample_rate = 128 #Sampling rate of 128 Hz\n",
    "\n",
    "    features = trainData[:,:-2]\n",
    "    labels = trainData[:,-2:]\n",
    "    features = features.reshape(features.shape[0],32,128)\n",
    "\n",
    "    newData=[]\n",
    "    for i in range(features.shape[0]):    #样本数\n",
    "        channel_features=[]\n",
    "        for j in range(32):\n",
    "            X = features[i][j]\n",
    "            Y = pe.bin_power(X, band, sample_rate)\n",
    "            channel_features += list(Y[0])\n",
    "            ###################################################################################\n",
    "        channel_features += list(labels[i])    #添加标签\n",
    "        newData.append(channel_features)\n",
    "    trainData = np.array(newData)\n",
    "\n",
    "    #计算频域基线\n",
    "    features = baseline\n",
    "\n",
    "    newData=[]\n",
    "    for i in range(features.shape[0]):    #电影数\n",
    "        channel_features=[]\n",
    "        for k in range(3):\n",
    "            baseline_feature = []\n",
    "            for j in range(32):\n",
    "                X = features[i][j][k * 128 : (k + 1) * 128]\n",
    "                Y = pe.bin_power(X, band, sample_rate)\n",
    "                baseline_feature += list(Y[0])\n",
    "            channel_features.append(baseline_feature)    #求基线的均值还是均值的基线？\n",
    "        newData.append(np.array(channel_features).mean(axis = 0))\n",
    "    newData = np.array(newData)\n",
    "    \n",
    "# 减去基线特征\n",
    "    for i in range(40):\n",
    "        trainData[i * 60 : (i + 1) * 60 , : 160] -= newData[i]\n",
    "\n",
    "    return trainData"
   ]
  },
  {
   "cell_type": "code",
   "execution_count": 5,
   "metadata": {
    "ExecuteTime": {
     "end_time": "2021-04-28T07:56:36.525128Z",
     "start_time": "2021-04-28T07:56:36.511165Z"
    }
   },
   "outputs": [],
   "source": [
    "# AllSubFreq = []    #保存所有受试者的频域特征32*2400*160(不含标签)\n",
    "# for sub in range(32):\n",
    "#     SubData = De_baseline(sub)\n",
    "#     dataList, baseline = Data_set_partition(SubData)\n",
    "#     trainData = feature_extraction(dataList, baseline)\n",
    "#     AllSubFreq.append(trainData)\n",
    "# AllSubFreq = np.array(AllSubFreq)\n",
    "# print(AllSubFreq.shape)\n",
    "# AllSubFreq = np.reshape(AllSubFreq, (-1, 162))\n",
    "# print(AllSubFreq.shape)\n",
    "# np.save(\"./with_label_DE_baseline_AllSubFreq.npy\",AllSubFreq)"
   ]
  },
  {
   "cell_type": "code",
   "execution_count": 6,
   "metadata": {
    "ExecuteTime": {
     "end_time": "2021-04-28T07:56:36.541085Z",
     "start_time": "2021-04-28T07:56:36.526125Z"
    }
   },
   "outputs": [],
   "source": [
    "# #计算KL散度\n",
    "# import numpy as np\n",
    "# import scipy.stats\n",
    "\n",
    "# # 利用scipy API进行计算\n",
    "# # scipy计算函数可以处理非归一化情况，因此这里使用\n",
    "# # scipy.stats.entropy(x, y)或scipy.stats.entropy(px, py)均可\n",
    "# KL = np.zeros((32,32))\n",
    "# for i in range(32):\n",
    "#     for j in range(32):\n",
    "#         x = AllSubFreq[i]\n",
    "#         y = AllSubFreq[j]\n",
    "#         KL[i][j] = scipy.stats.entropy(x, y)\n",
    "# print(KL)\n",
    "# np.save(\"work/data/KL_AllSubFreq.npy\",KL)"
   ]
  },
  {
   "cell_type": "code",
   "execution_count": 7,
   "metadata": {
    "ExecuteTime": {
     "end_time": "2021-04-28T07:56:36.556045Z",
     "start_time": "2021-04-28T07:56:36.543080Z"
    }
   },
   "outputs": [],
   "source": [
    "# #计算JS散度\n",
    "\n",
    "# import numpy as np\n",
    "# import scipy.stats\n",
    "\n",
    "# def JS_divergence(p,q):\n",
    "#     M=(p+q)/2\n",
    "#     return 0.5*scipy.stats.entropy(p, M)+0.5*scipy.stats.entropy(q, M)\n",
    "\n",
    "# JS = np.zeros((32,32))\n",
    "# for i in range(32):\n",
    "#     for j in range(32):\n",
    "#         x = AllSubFreq[i]\n",
    "#         y = AllSubFreq[j]\n",
    "#         JS[i][j] = JS_divergence(x, y)\n",
    "# np.set_printoptions(threshold = 1e6)\n",
    "# print(JS)\n",
    "# np.save(\"work/data/JS_AllSubFreq.npy\",JS)\n"
   ]
  },
  {
   "cell_type": "code",
   "execution_count": 8,
   "metadata": {
    "ExecuteTime": {
     "end_time": "2021-04-28T07:56:36.572003Z",
     "start_time": "2021-04-28T07:56:36.557043Z"
    }
   },
   "outputs": [],
   "source": [
    "# def Gaussian_normalization(trainData, testData):\n",
    "#     \"\"\"高斯归一化\"\"\"\n",
    "\n",
    "#     #训练样本归一化\n",
    "#     feature=trainData[:,:-2]\n",
    "#     mean=feature.mean(axis=0)\n",
    "#     std=feature.std(axis=0)\n",
    "#     feature-=mean\n",
    "#     feature/=std\n",
    "#     trainData[:,:-2] = feature\n",
    "\n",
    "#     #测试样本归一化\n",
    "#     feature=testData[:,:-2]\n",
    "#     feature-=mean\n",
    "#     feature/=std\n",
    "#     testData[:,:-2] = feature\n",
    "\n",
    "#     return trainData, testData"
   ]
  },
  {
   "cell_type": "code",
   "execution_count": 9,
   "metadata": {
    "ExecuteTime": {
     "end_time": "2021-04-28T07:56:36.586963Z",
     "start_time": "2021-04-28T07:56:36.573001Z"
    }
   },
   "outputs": [],
   "source": [
    "#使用Wasserstein距离进行K-means聚类\n",
    "from scipy.stats import wasserstein_distance\n",
    "\n",
    "class K_Means(object):\n",
    "    # k是分组数；tolerance‘中心点误差’；max_iter是迭代次数\n",
    "    def __init__(self, k=2, tolerance=0.0000001, max_iter=30000):    #tolerance=0.0001,  max_iter=300\n",
    "        self.k_ = k\n",
    "        self.tolerance_ = tolerance\n",
    "        self.max_iter_ = max_iter\n",
    "\n",
    "    def fit(self, data):\n",
    "        self.centers_ = {}\n",
    "        for i in range(self.k_):\n",
    "            self.centers_[i] = data[i]\n",
    "\n",
    "        for i in range(self.max_iter_):\n",
    "            self.clf_ = {}\n",
    "            for j in range(self.k_):\n",
    "                self.clf_[j] = []\n",
    "            # print(\"质点:\",self.centers_)\n",
    "            for SubIndexId, feature in enumerate(data):\n",
    "                # distances = [np.linalg.norm(feature-self.centers[center]) for center in self.centers]\n",
    "                distances = []\n",
    "                for center in self.centers_:\n",
    "                    # 欧拉距离\n",
    "                    # np.sqrt(np.sum((features-self.centers_[center])**2))\n",
    "                    distances.append(wasserstein_distance(feature, self.centers_[center]))#np.linalg.norm(feature - self.centers_[center])\n",
    "                classification = distances.index(min(distances))\n",
    "                self.clf_[classification].append(SubIndexId)\n",
    "\n",
    "            # print(\"分组情况:\",self.clf_)\n",
    "            prev_centers = dict(self.centers_)\n",
    "            \n",
    "            self.flag = True    #聚类是否成功\n",
    "            for c in self.clf_:\n",
    "                if(len(self.clf_[c]) == 0):\n",
    "                    self.flag = False\n",
    "                    print('\\n第{}次迭代：'.format(i))\n",
    "                    print('************************聚类中心无样本截止！******************************')\n",
    "                    return\n",
    "                self.centers_[c] = np.average(data[np.array(self.clf_[c])], axis=0)\n",
    "\n",
    "            # '中心点'是否在误差范围\n",
    "            optimized = True\n",
    "            for center in self.centers_:\n",
    "                org_centers = prev_centers[center]\n",
    "                cur_centers = self.centers_[center]\n",
    "                if np.sum((cur_centers - org_centers) / org_centers * 100.0) > self.tolerance_:\n",
    "                    optimized = False\n",
    "            if optimized:\n",
    "                print('迭代次数：', i)\n",
    "                break\n",
    "\n",
    "    def predict(self, p_data):\n",
    "        allIndex = []\n",
    "        for oneTestSample in p_data:\n",
    "            distances = [wasserstein_distance(oneTestSample, self.centers_[center]) for center in self.centers_]#np.linalg.norm(p_data - self.centers_[center])\n",
    "            index = distances.index(min(distances))\n",
    "            allIndex.append(index)\n",
    "        return np.array(allIndex)"
   ]
  },
  {
   "cell_type": "code",
   "execution_count": 10,
   "metadata": {
    "ExecuteTime": {
     "end_time": "2021-04-28T07:56:36.602934Z",
     "start_time": "2021-04-28T07:56:36.587960Z"
    }
   },
   "outputs": [],
   "source": [
    "def W_K_means(n_cluster, trainSet):\n",
    "    AllSubFreq = trainSet\n",
    "    #print(AllSubFreq.shape)\n",
    "\n",
    "    k_means = K_Means(k=n_cluster)\n",
    "    k_means.fit(data  = AllSubFreq)\n",
    "    return k_means\n",
    "    # print(k_means.centers_)\n",
    "    # for center in k_means.centers_:\n",
    "    #     pyplot.scatter(k_means.centers_[center][0], k_means.centers_[center][1], marker='*', s=150)\n",
    "\n",
    "    # for cat in k_means.clf_:\n",
    "    #     for point in k_means.clf_[cat]:\n",
    "    #         pyplot.scatter(point[0], point[1], c=('r' if cat == 0 else 'b'))\n",
    "\n",
    "    # predict = [[2, 1],[6, 9]]\n",
    "    # for feature in predict:\n",
    "    #     cat = k_means.predict(feature)\n",
    "    #     pyplot.scatter(feature[0], feature[1], c=('r' if cat == 0 else 'b'), marker='x')\n",
    "\n",
    "    # pyplot.show()"
   ]
  },
  {
   "cell_type": "code",
   "execution_count": 11,
   "metadata": {
    "ExecuteTime": {
     "end_time": "2021-04-28T07:56:36.867021Z",
     "start_time": "2021-04-28T07:56:36.603949Z"
    }
   },
   "outputs": [],
   "source": [
    "from sklearn import svm\n",
    "from sklearn.preprocessing import normalize\n",
    "from sklearn.ensemble import RandomForestClassifier\n",
    "from sklearn.neighbors import KNeighborsClassifier\n",
    "from sklearn.naive_bayes import GaussianNB\n",
    "from sklearn.naive_bayes import MultinomialNB\n",
    "from sklearn.metrics import accuracy_score\n",
    "\n",
    "def trainModel(trainData, testData, Edim, modelId):\n",
    "    dim = Edim\n",
    "    \n",
    "    trainLabel = trainData[:, -2:]\n",
    "    trainData = trainData[:, :-2]\n",
    "    trainLabel = trainLabel[:, dim]\n",
    "    \n",
    "    testLabel = testData[:, -2:]\n",
    "    testData = testData[:, :-2]\n",
    "    testLabel = testLabel[:, dim]\n",
    "    print('model {}\\ttrainNum:{}\\ttestNum:{}\\t训练：测试 = {:.2f}'.format(modelId, trainData.shape[0], testData.shape[0], trainData.shape[0] / testData.shape[0]), end = '\\t')\n",
    "    \n",
    "#     svmModel = svm.SVC()\n",
    "#     svmModel.fit(data_training, valtrain) \n",
    "#     ypredict=svmModel.predict(data_testing)\n",
    "#     print(\"SVMacc：\",accuracy_score(ypredict,valtest)) \n",
    "\n",
    "    rfModel = RandomForestClassifier(n_estimators=512, n_jobs=16)\n",
    "    rfModel.fit(trainData, trainLabel)\n",
    "    ypredict = rfModel.predict(testData)\n",
    "    acc = accuracy_score(ypredict,testLabel)\n",
    "    print(\"acc = {:.2f}\".format(acc))\n",
    "    return acc, testData.shape[0]"
   ]
  },
  {
   "cell_type": "code",
   "execution_count": null,
   "metadata": {
    "ExecuteTime": {
     "start_time": "2021-04-28T07:56:35.916Z"
    }
   },
   "outputs": [
    {
     "name": "stdout",
     "output_type": "stream",
     "text": [
      "数据集shape： (76800, 162)\n",
      "-------------------------------------------第1折交叉验证开始-------------------------------------------------\n",
      "trainSet.shape = (67200, 162), testSet.shape = (9600, 162)\n",
      "K=1：\t迭代次数： 0\n",
      "model 0\ttrainNum:67200\ttestNum:9600\t训练：测试 = 7.00\tacc = 0.51\n",
      "K=2：\t迭代次数： 11\n",
      "model 0\ttrainNum:63512\ttestNum:8777\t训练：测试 = 7.24\tacc = 0.53\n",
      "model 1\ttrainNum:3688\ttestNum:823\t训练：测试 = 4.48\tacc = 0.45\n",
      "K=3：\t迭代次数： 36\n",
      "model 0\ttrainNum:2965\ttestNum:621\t训练：测试 = 4.77\tacc = 0.53\n",
      "model 1\ttrainNum:3509\ttestNum:733\t训练：测试 = 4.79\tacc = 0.44\n",
      "model 2\ttrainNum:60726\ttestNum:8246\t训练：测试 = 7.36\tacc = 0.52\n",
      "K=4：\t迭代次数： 50\n",
      "model 0\ttrainNum:45992\ttestNum:5135\t训练：测试 = 8.96\tacc = 0.52\n",
      "model 1\ttrainNum:3040\ttestNum:525\t训练：测试 = 5.79\tacc = 0.40\n",
      "model 2\ttrainNum:16190\ttestNum:3510\t训练：测试 = 4.61\tacc = 0.50\n",
      "model 3\ttrainNum:1978\ttestNum:430\t训练：测试 = 4.60\tacc = 0.55\n",
      "K=5：\t迭代次数： 86\n",
      "model 0\ttrainNum:43229\ttestNum:5501\t训练：测试 = 7.86\tacc = 0.52\n",
      "model 1\ttrainNum:2841\ttestNum:422\t训练：测试 = 6.73\tacc = 0.39\n",
      "model 2\ttrainNum:6739\ttestNum:2176\t训练：测试 = 3.10\tacc = 0.56\n",
      "model 3\ttrainNum:13169\ttestNum:1218\t训练：测试 = 10.81\tacc = 0.49\n",
      "model 4\ttrainNum:1222\ttestNum:283\t训练：测试 = 4.32\tacc = 0.54\n",
      "K=6：\t\n",
      "第1次迭代：\n",
      "************************聚类中心无样本截止！******************************\n",
      "K=7：\t\n",
      "第1次迭代：\n",
      "************************聚类中心无样本截止！******************************\n",
      "K=8：\t\n",
      "第2次迭代：\n",
      "************************聚类中心无样本截止！******************************\n",
      "K=9：\t\n",
      "第1次迭代：\n",
      "************************聚类中心无样本截止！******************************\n",
      "K=10：\t\n",
      "第1次迭代：\n",
      "************************聚类中心无样本截止！******************************\n",
      "K=11：\t\n",
      "第1次迭代：\n",
      "************************聚类中心无样本截止！******************************\n",
      "K=12：\t\n",
      "第1次迭代：\n",
      "************************聚类中心无样本截止！******************************\n",
      "K=13：\t\n",
      "第1次迭代：\n",
      "************************聚类中心无样本截止！******************************\n",
      "K=14：\t\n",
      "第1次迭代：\n",
      "************************聚类中心无样本截止！******************************\n",
      "K=15：\t\n",
      "第1次迭代：\n",
      "************************聚类中心无样本截止！******************************\n",
      "K=16：\t\n",
      "第1次迭代：\n",
      "************************聚类中心无样本截止！******************************\n",
      "K=17：\t\n",
      "第1次迭代：\n",
      "************************聚类中心无样本截止！******************************\n",
      "K=18：\t\n",
      "第1次迭代：\n",
      "************************聚类中心无样本截止！******************************\n",
      "K=19：\t\n",
      "第1次迭代：\n",
      "************************聚类中心无样本截止！******************************\n",
      "K=20：\t\n",
      "第1次迭代：\n",
      "************************聚类中心无样本截止！******************************\n",
      "K=21：\t\n",
      "第1次迭代：\n",
      "************************聚类中心无样本截止！******************************\n",
      "K=22：\t\n",
      "第1次迭代：\n",
      "************************聚类中心无样本截止！******************************\n",
      "K=23：\t\n",
      "第1次迭代：\n",
      "************************聚类中心无样本截止！******************************\n",
      "K=24：\t\n",
      "第1次迭代：\n",
      "************************聚类中心无样本截止！******************************\n",
      "K=25：\t\n",
      "第1次迭代：\n",
      "************************聚类中心无样本截止！******************************\n",
      "K=26：\t\n",
      "第1次迭代：\n",
      "************************聚类中心无样本截止！******************************\n",
      "K=27：\t\n",
      "第1次迭代：\n",
      "************************聚类中心无样本截止！******************************\n",
      "K=28：\t\n",
      "第1次迭代：\n",
      "************************聚类中心无样本截止！******************************\n",
      "K=29：\t\n",
      "第1次迭代：\n",
      "************************聚类中心无样本截止！******************************\n",
      "K=30：\t\n",
      "第1次迭代：\n",
      "************************聚类中心无样本截止！******************************\n",
      "K=31：\t\n",
      "第1次迭代：\n",
      "************************聚类中心无样本截止！******************************\n",
      "K=32：\t\n",
      "第1次迭代：\n",
      "************************聚类中心无样本截止！******************************\n"
     ]
    },
    {
     "data": {
      "image/png": "[encoded data removed]",
      "text/plain": [
       "<Figure size 432x288 with 1 Axes>"
      ]
     },
     "metadata": {
      "needs_background": "light"
     },
     "output_type": "display_data"
    },
    {
     "name": "stdout",
     "output_type": "stream",
     "text": [
      "-------------------------------------------第2折交叉验证开始-------------------------------------------------\n",
      "trainSet.shape = (67200, 162), testSet.shape = (9600, 162)\n",
      "K=1：\t迭代次数： 0\n",
      "model 0\ttrainNum:67200\ttestNum:9600\t训练：测试 = 7.00\tacc = 0.63\n",
      "K=2：\t迭代次数： 18\n",
      "model0无测试样本\n",
      "model 1\ttrainNum:62434\ttestNum:9600\t训练：测试 = 6.50\tacc = 0.63\n",
      "K=3：\t"
     ]
    }
   ],
   "source": [
    "# 开始对训练集聚类\n",
    "valence_or_arousal = -2    #-2 : valence;-1 : arousal\n",
    "\n",
    "allSub = np.load(\"./with_label_DE_baseline_AllSubFreq.npy\")\n",
    "print('数据集shape：', allSub.shape)\n",
    "\n",
    "subIndex = np.array([i for i in range(32 * 2400)])\n",
    "# 8折交叉验证\n",
    "allAcc = []\n",
    "for fold in range(1, 9):\n",
    "    print('-------------------------------------------第{}折交叉验证开始-------------------------------------------------'.format(fold))\n",
    "    # 数据集划分\n",
    "    testIndex = subIndex[(fold - 1) * 4 * 2400 : fold * 4 * 2400]\n",
    "    trainIndex = subIndex[np.array(list(set(subIndex) - set(subIndex[(fold - 1) * 4 * 2400 : fold * 4 * 2400])))]\n",
    "\n",
    "    trainSet = allSub[trainIndex]\n",
    "    testSet = allSub[testIndex]\n",
    "    print('trainSet.shape = {}, testSet.shape = {}'.format(trainSet.shape, testSet.shape))\n",
    "\n",
    "    trainFeature = trainSet[:, :-2]\n",
    "    testFeature = testSet[:, :-2]\n",
    "    \n",
    "    ####################################################\n",
    "    # 整体归一化（还可以在每个模型内部做归一化）\n",
    "    featureMean = trainFeature.mean(axis = 0)\n",
    "    featureStd = trainFeature.std(axis = 0)\n",
    "    \n",
    "    trainFeature -= featureMean\n",
    "    trainFeature /= featureStd\n",
    "    testFeature -= featureMean\n",
    "    testFeature /= featureStd\n",
    "    ####################################################\n",
    "\n",
    "    foldAcc = []\n",
    "    for num_cluster in range(1, 33):\n",
    "        print('K={}：'.format(num_cluster),end = '\\t')\n",
    "        #    *** 在这里我们关心哪些人的哪些视频被聚在了一起 ***    #\n",
    "        k_means_machine = W_K_means(num_cluster, trainFeature)\n",
    "        if(k_means_machine.flag == False):\n",
    "            continue\n",
    "        # 使用建立的K-means模型对测试集分类\n",
    "        allIndex = k_means_machine.predict(testFeature)\n",
    "        \n",
    "        classList = k_means_machine.clf_\n",
    "        \n",
    "        ###################################################\n",
    "        #统计样本在每个模型的分布\n",
    "        \n",
    "        trainSampleScatter = np.zeros((num_cluster, 1120))\n",
    "        testSampleScatter = np.zeros((num_cluster, 160))\n",
    "        for j in range(len(classList)):\n",
    "            for idxS, scatter in enumerate(allIndex) :\n",
    "                testSampleScatter[j][idxS//60] += scatter == j\n",
    "            \n",
    "            for scatter in classList[j] :\n",
    "                trainSampleScatter[j][scatter//60] += 1\n",
    "        np.save('E:/JupyterNotebookWorkSpace/刘敦辉/多受试者通用模型/分人_1秒样本聚类RF/样本在每个模型的分布/fold{}K{}trainSample.npy'.format(fold, num_cluster), trainSampleScatter)\n",
    "        np.save('E:/JupyterNotebookWorkSpace/刘敦辉/多受试者通用模型/分人_1秒样本聚类RF/样本在每个模型的分布/fold{}K{}testSample.npy'.format(fold, num_cluster), testSampleScatter)\n",
    "        ###################################################\n",
    "        \n",
    "        clusterMean = []\n",
    "        K_ModelAcc = []\n",
    "        for j in range(len(classList)):\n",
    "            testData = testSet[allIndex == j]\n",
    "            if(testData.shape[0]==0):\n",
    "                print('model{}无测试样本'.format(j))\n",
    "                continue\n",
    "            acc, testNum = trainModel(trainSet[np.array(classList[j])], testData, valence_or_arousal, modelId = j)\n",
    "            K_ModelAcc.append(acc)\n",
    "            # 求加权准确率\n",
    "            clusterMean.append(acc * testNum)\n",
    "        clusterMean = np.array(clusterMean).sum() / testSet.shape[0]\n",
    "        foldAcc.append(clusterMean)\n",
    "        allAcc.append(K_ModelAcc)\n",
    "        \n",
    "    plt.title(\"fold: {}\".format(fold), fontsize=24)\n",
    "    plt.xlabel(\"n_cluster\", fontsize=14)\n",
    "    plt.ylabel(\"acc\", fontsize=14)\n",
    "    n_cluster = [i for i in range(1, len(foldAcc) + 1)]\n",
    "    plt.plot(n_cluster, foldAcc, color='blue', label='test accuracy')\n",
    "\n",
    "    plt.grid()\n",
    "    plt.legend()\n",
    "    plt.show()\n",
    "np.save('所有准确率_8折x32种聚类_聚类容忍度调小1000倍.npy', np.array(allAcc))"
   ]
  },
  {
   "cell_type": "code",
   "execution_count": null,
   "metadata": {
    "ExecuteTime": {
     "start_time": "2021-04-28T07:56:35.916Z"
    }
   },
   "outputs": [],
   "source": [
    "ls = np.zeros((1,3))\n",
    "ls[0] += np.array([1,2,3], dtype = 'int64') == 1\n",
    "print(ls)"
   ]
  },
  {
   "cell_type": "code",
   "execution_count": null,
   "metadata": {
    "ExecuteTime": {
     "start_time": "2021-04-28T07:56:35.917Z"
    },
    "code_folding": []
   },
   "outputs": [],
   "source": [
    "#    *** 在这里我们关心哪些人的哪些视频被聚在了一起 ***    #\n",
    "# 除零警告\n",
    "# 为什么聚一类，一次都没迭代就收敛了，至少迭代一次吧，tolerance，是不是容忍度太高了\n",
    "# 聚类中心初始化问题，可能会在迭代过程中出现某个聚类中心中没有样本的情况"
   ]
  },
  {
   "cell_type": "code",
   "execution_count": null,
   "metadata": {},
   "outputs": [],
   "source": []
  }
 ],
 "metadata": {
  "kernelspec": {
   "display_name": "Python 3",
   "language": "python",
   "name": "python3"
  },
  "language_info": {
   "codemirror_mode": {
    "name": "ipython",
    "version": 3
   },
   "file_extension": ".py",
   "mimetype": "text/x-python",
   "name": "python",
   "nbconvert_exporter": "python",
   "pygments_lexer": "ipython3",
   "version": "3.7.6"
  },
  "toc": {
   "base_numbering": 1,
   "nav_menu": {},
   "number_sections": true,
   "sideBar": true,
   "skip_h1_title": false,
   "title_cell": "Table of Contents",
   "title_sidebar": "Contents",
   "toc_cell": false,
   "toc_position": {},
   "toc_section_display": true,
   "toc_window_display": false
  },
  "varInspector": {
   "cols": {
    "lenName": 16,
    "lenType": 16,
    "lenVar": 40
   },
   "kernels_config": {
    "python": {
     "delete_cmd_postfix": "",
     "delete_cmd_prefix": "del ",
     "library": "var_list.py",
     "varRefreshCmd": "print(var_dic_list())"
    },
    "r": {
     "delete_cmd_postfix": ") ",
     "delete_cmd_prefix": "rm(",
     "library": "var_list.r",
     "varRefreshCmd": "cat(var_dic_list()) "
    }
   },
   "types_to_exclude": [
    "module",
    "function",
    "builtin_function_or_method",
    "instance",
    "_Feature"
   ],
   "window_display": false
  }
 },
 "nbformat": 4,
 "nbformat_minor": 1
}

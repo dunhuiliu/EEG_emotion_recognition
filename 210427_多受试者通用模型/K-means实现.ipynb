{
 "cells": [
  {
   "cell_type": "code",
   "execution_count": 1,
   "metadata": {
    "ExecuteTime": {
     "end_time": "2021-04-20T14:46:29.429737Z",
     "start_time": "2021-04-20T14:46:29.150559Z"
    }
   },
   "outputs": [
    {
     "name": "stdout",
     "output_type": "stream",
     "text": [
      "{0: array([1.16666667, 1.46666667]), 1: array([7.33333333, 9.        ])}\n"
     ]
    },
    {
     "data": {
      "image/png": "[encoded data removed]",
      "text/plain": [
       "<Figure size 432x288 with 1 Axes>"
      ]
     },
     "metadata": {
      "needs_background": "light"
     },
     "output_type": "display_data"
    }
   ],
   "source": [
    "# -*- coding:utf-8 -*-\n",
    "import numpy as np\n",
    "from matplotlib import pyplot\n",
    "\n",
    "\n",
    "class K_Means(object):\n",
    "    # k是分组数；tolerance‘中心点误差’；max_iter是迭代次数\n",
    "    def __init__(self, k=2, tolerance=0.0001, max_iter=300):\n",
    "        self.k_ = k\n",
    "        self.tolerance_ = tolerance\n",
    "        self.max_iter_ = max_iter\n",
    "\n",
    "    def fit(self, data):\n",
    "        self.centers_ = {}\n",
    "        for i in range(self.k_):\n",
    "            self.centers_[i] = data[i]\n",
    "\n",
    "        for i in range(self.max_iter_):\n",
    "            self.clf_ = {}\n",
    "            for i in range(self.k_):\n",
    "                self.clf_[i] = []\n",
    "            # print(\"质点:\",self.centers_)\n",
    "            for SubIndexId, feature in enumerate(data):\n",
    "                # distances = [np.linalg.norm(feature-self.centers[center]) for center in self.centers]\n",
    "                distances = []\n",
    "                for center in self.centers_:\n",
    "                    # 欧拉距离\n",
    "                    # np.sqrt(np.sum((features-self.centers_[center])**2))\n",
    "                    distances.append(np.linalg.norm(feature - self.centers_[center]))\n",
    "                classification = distances.index(min(distances))\n",
    "                self.clf_[classification].append(SubIndexId)\n",
    "\n",
    "            # print(\"分组情况:\",self.clf_)\n",
    "            prev_centers = dict(self.centers_)\n",
    "            \n",
    "            for c in self.clf_:\n",
    "                self.centers_[c] = np.average(data[np.array(self.clf_[c])], axis=0)\n",
    "\n",
    "            # '中心点'是否在误差范围\n",
    "            optimized = True\n",
    "            for center in self.centers_:\n",
    "                org_centers = prev_centers[center]\n",
    "                cur_centers = self.centers_[center]\n",
    "                if np.sum((cur_centers - org_centers) / org_centers * 100.0) > self.tolerance_:\n",
    "                    optimized = False\n",
    "            if optimized:\n",
    "                break\n",
    "\n",
    "    def predict(self, p_data):\n",
    "        distances = [np.linalg.norm(p_data - self.centers_[center]) for center in self.centers_]\n",
    "        index = distances.index(min(distances))\n",
    "        return index\n",
    "\n",
    "\n",
    "if __name__ == '__main__':\n",
    "    x = np.array([[1, 2], [1.5, 1.8], [5, 8], [8, 8], [1, 0.6], [9, 11]])\n",
    "    k_means = K_Means(k=2)\n",
    "    k_means.fit(x)\n",
    "    print(k_means.centers_)\n",
    "    for center in k_means.centers_:\n",
    "        pyplot.scatter(k_means.centers_[center][0], k_means.centers_[center][1], marker='*', s=150)\n",
    "\n",
    "    for cat in k_means.clf_:\n",
    "        for point in x[np.array(k_means.clf_[cat])]:\n",
    "            pyplot.scatter(point[0], point[1], c=('r' if cat == 0 else 'b'))\n",
    "\n",
    "    predict = [[2, 1],[6, 9]]\n",
    "    for feature in predict:\n",
    "        cat = k_means.predict(feature)\n",
    "        pyplot.scatter(feature[0], feature[1], c=('r' if cat == 0 else 'b'), marker='x')\n",
    "\n",
    "    pyplot.show()\n"
   ]
  },
  {
   "cell_type": "code",
   "execution_count": null,
   "metadata": {},
   "outputs": [],
   "source": []
  }
 ],
 "metadata": {
  "kernelspec": {
   "display_name": "Python 3",
   "language": "python",
   "name": "python3"
  },
  "language_info": {
   "codemirror_mode": {
    "name": "ipython",
    "version": 3
   },
   "file_extension": ".py",
   "mimetype": "text/x-python",
   "name": "python",
   "nbconvert_exporter": "python",
   "pygments_lexer": "ipython3",
   "version": "3.7.6"
  },
  "toc": {
   "base_numbering": 1,
   "nav_menu": {},
   "number_sections": true,
   "sideBar": true,
   "skip_h1_title": false,
   "title_cell": "Table of Contents",
   "title_sidebar": "Contents",
   "toc_cell": false,
   "toc_position": {},
   "toc_section_display": true,
   "toc_window_display": false
  },
  "varInspector": {
   "cols": {
    "lenName": 16,
    "lenType": 16,
    "lenVar": 40
   },
   "kernels_config": {
    "python": {
     "delete_cmd_postfix": "",
     "delete_cmd_prefix": "del ",
     "library": "var_list.py",
     "varRefreshCmd": "print(var_dic_list())"
    },
    "r": {
     "delete_cmd_postfix": ") ",
     "delete_cmd_prefix": "rm(",
     "library": "var_list.r",
     "varRefreshCmd": "cat(var_dic_list()) "
    }
   },
   "types_to_exclude": [
    "module",
    "function",
    "builtin_function_or_method",
    "instance",
    "_Feature"
   ],
   "window_display": false
  }
 },
 "nbformat": 4,
 "nbformat_minor": 4
}

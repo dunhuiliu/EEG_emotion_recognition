{
 "cells": [
  {
   "cell_type": "markdown",
   "metadata": {},
   "source": [
    "# 类比实验\n",
    "- 32个受试者，按比例划分数据集，进行八折交叉验证\n",
    "- 把测试受试者随机选择一个训练好的模型（不选择Wasserstein距离最近的模型）作为对比实验\n",
    "- 与单受试者模型做对比，期望结果，准确率相差不多或比单受试者模型准确率略低\n",
    "- 与所有受试者公用一个模型做对比，期望结果，比所有受试者公用模型准确率高很多"
   ]
  },
  {
   "cell_type": "code",
   "execution_count": 1,
   "metadata": {
    "ExecuteTime": {
     "end_time": "2021-04-26T15:36:21.796025Z",
     "start_time": "2021-04-26T15:36:21.364695Z"
    }
   },
   "outputs": [],
   "source": [
    "#加载飞桨、Numpy和相关类库\n",
    "import numpy as np\n",
    "import pyeeg as pe\n",
    "import os\n",
    "import random\n",
    "import time\n",
    "\n",
    "from PIL import Image\n",
    "import matplotlib.pyplot as plt\n",
    "from matplotlib import pyplot\n",
    "\n",
    "from scipy.stats import wasserstein_distance"
   ]
  },
  {
   "cell_type": "code",
   "execution_count": 2,
   "metadata": {
    "ExecuteTime": {
     "end_time": "2021-04-26T15:36:21.810985Z",
     "start_time": "2021-04-26T15:36:21.797022Z"
    }
   },
   "outputs": [],
   "source": [
    "#加载一个受试者\n",
    "def De_baseline(sub):\n",
    "    dir='E:\\JupyterNotebookWorkSpace\\dataSet\\\\1280x258050(32x8064+2).npy'\n",
    "    data=np.load(dir)\n",
    "    subData = data[sub * 40 : (sub + 1) * 40]\n",
    "    subData[: , -2:] = np.where(subData[: , -2:] >= 5 , 1 , -1)\n",
    "    return subData"
   ]
  },
  {
   "cell_type": "code",
   "execution_count": 3,
   "metadata": {
    "ExecuteTime": {
     "end_time": "2021-04-26T15:36:21.826942Z",
     "start_time": "2021-04-26T15:36:21.811982Z"
    }
   },
   "outputs": [],
   "source": [
    "#数据集切60片，基线单独返回\n",
    "def Data_set_partition(subData):\n",
    "    features = subData[:,:-2]\n",
    "    labels = subData[:,-2:]\n",
    "    features = features.reshape(40,32,-1)\n",
    "    baseline = features[:,:,:384]\n",
    "    features = features[:,:,384:]\n",
    "    \n",
    "    dataList = []\n",
    "    for i in range(40):\n",
    "        for j in range(60):\n",
    "            dataList.append(np.append(features[i][ : , j * 128 : (j + 1) * 128].reshape(-1) , labels[i]))\n",
    "\n",
    "    dataList = np.array(dataList)\n",
    "\n",
    "    return dataList, baseline"
   ]
  },
  {
   "cell_type": "code",
   "execution_count": 4,
   "metadata": {
    "ExecuteTime": {
     "end_time": "2021-04-26T15:36:21.841902Z",
     "start_time": "2021-04-26T15:36:21.827940Z"
    }
   },
   "outputs": [],
   "source": [
    "#特征提取\n",
    "def feature_extraction(trainData, baseline):\n",
    "\n",
    "    band = [4,8,13,16,30,45] #5 bands    band = [4,8,12,16,25,45]    \n",
    "    window_size = 128 #Averaging band power of 1 sec\n",
    "    step_size = 128 #Each 1 sec update once\n",
    "    sample_rate = 128 #Sampling rate of 128 Hz\n",
    "\n",
    "    features = trainData[:,:-2]\n",
    "    labels = trainData[:,-2:]\n",
    "    features = features.reshape(features.shape[0],32,128)\n",
    "\n",
    "    newData=[]\n",
    "    for i in range(features.shape[0]):    #样本数\n",
    "        channel_features=[]\n",
    "        for j in range(32):\n",
    "            X = features[i][j]\n",
    "            Y = pe.bin_power(X, band, sample_rate)\n",
    "            channel_features += list(Y[0])\n",
    "            ###################################################################################\n",
    "        channel_features += list(labels[i])    #添加标签\n",
    "        newData.append(channel_features)\n",
    "    trainData = np.array(newData)\n",
    "\n",
    "    #计算频域基线\n",
    "    features = baseline\n",
    "\n",
    "    newData=[]\n",
    "    for i in range(features.shape[0]):    #电影数\n",
    "        channel_features=[]\n",
    "        for k in range(3):\n",
    "            baseline_feature = []\n",
    "            for j in range(32):\n",
    "                X = features[i][j][k * 128 : (k + 1) * 128]\n",
    "                Y = pe.bin_power(X, band, sample_rate)\n",
    "                baseline_feature += list(Y[0])\n",
    "            channel_features.append(baseline_feature)    #求基线的均值还是均值的基线？\n",
    "        newData.append(np.array(channel_features).mean(axis = 0))\n",
    "    newData = np.array(newData)\n",
    "    \n",
    "# 减去基线特征\n",
    "    for i in range(40):\n",
    "        trainData[i * 60 : (i + 1) * 60 , : 160] -= newData[i]\n",
    "\n",
    "    return trainData"
   ]
  },
  {
   "cell_type": "code",
   "execution_count": 5,
   "metadata": {
    "ExecuteTime": {
     "end_time": "2021-04-26T15:36:21.856891Z",
     "start_time": "2021-04-26T15:36:21.842900Z"
    }
   },
   "outputs": [],
   "source": [
    "# AllSubFreq = []    #保存所有受试者的频域特征32*2400*160(不含标签)\n",
    "# for sub in range(32):\n",
    "#     SubData = De_baseline(sub)\n",
    "#     dataList, baseline = Data_set_partition(SubData)\n",
    "#     trainData = feature_extraction(dataList, baseline)\n",
    "#     AllSubFreq.append(trainData)\n",
    "# AllSubFreq = np.array(AllSubFreq)\n",
    "# print(AllSubFreq.shape)\n",
    "# AllSubFreq = np.reshape(AllSubFreq, (-1, 162))\n",
    "# print(AllSubFreq.shape)\n",
    "# np.save(\"./with_label_DE_baseline_AllSubFreq.npy\",AllSubFreq)"
   ]
  },
  {
   "cell_type": "code",
   "execution_count": 6,
   "metadata": {
    "ExecuteTime": {
     "end_time": "2021-04-26T15:36:21.872848Z",
     "start_time": "2021-04-26T15:36:21.857861Z"
    }
   },
   "outputs": [],
   "source": [
    "# # 数据集划分\n",
    "\n",
    "# def Data_set_partition(data, ratio, random_state = int(time.time())):\n",
    "#     np.random.seed(random_state)\n",
    "#     np.random.shuffle(data)\n",
    "#     trainSet = data[:int(data.shape[0] * ratio)]\n",
    "#     testSet = data[int(data.shape[0] * ratio):]\n",
    "#     print('trainSet.shape = ', trainSet.shape)\n",
    "#     print('testSet.shape = ', testSet.shape)\n",
    "#     np.save(\"./trainSet.npy\", trainSet)\n",
    "#     np.save(\"./testSet.npy\", testSet)\n",
    "\n",
    "# allSub = np.load(\"./with_label_DE_baseline_AllSubFreq.npy\")\n",
    "# ratio = 0.8\n",
    "# Data_set_partition(allSub, ratio, random_state = 0)"
   ]
  },
  {
   "cell_type": "code",
   "execution_count": 7,
   "metadata": {
    "ExecuteTime": {
     "end_time": "2021-04-26T15:36:21.888777Z",
     "start_time": "2021-04-26T15:36:21.874815Z"
    }
   },
   "outputs": [],
   "source": [
    "# #计算KL散度\n",
    "# import numpy as np\n",
    "# import scipy.stats\n",
    "\n",
    "# # 利用scipy API进行计算\n",
    "# # scipy计算函数可以处理非归一化情况，因此这里使用\n",
    "# # scipy.stats.entropy(x, y)或scipy.stats.entropy(px, py)均可\n",
    "# KL = np.zeros((32,32))\n",
    "# for i in range(32):\n",
    "#     for j in range(32):\n",
    "#         x = AllSubFreq[i]\n",
    "#         y = AllSubFreq[j]\n",
    "#         KL[i][j] = scipy.stats.entropy(x, y)\n",
    "# print(KL)\n",
    "# np.save(\"work/data/KL_AllSubFreq.npy\",KL)"
   ]
  },
  {
   "cell_type": "code",
   "execution_count": 8,
   "metadata": {
    "ExecuteTime": {
     "end_time": "2021-04-26T15:36:21.903737Z",
     "start_time": "2021-04-26T15:36:21.889774Z"
    }
   },
   "outputs": [],
   "source": [
    "# #计算JS散度\n",
    "\n",
    "# import numpy as np\n",
    "# import scipy.stats\n",
    "\n",
    "# def JS_divergence(p,q):\n",
    "#     M=(p+q)/2\n",
    "#     return 0.5*scipy.stats.entropy(p, M)+0.5*scipy.stats.entropy(q, M)\n",
    "\n",
    "# JS = np.zeros((32,32))\n",
    "# for i in range(32):\n",
    "#     for j in range(32):\n",
    "#         x = AllSubFreq[i]\n",
    "#         y = AllSubFreq[j]\n",
    "#         JS[i][j] = JS_divergence(x, y)\n",
    "# np.set_printoptions(threshold = 1e6)\n",
    "# print(JS)\n",
    "# np.save(\"work/data/JS_AllSubFreq.npy\",JS)\n"
   ]
  },
  {
   "cell_type": "code",
   "execution_count": 9,
   "metadata": {
    "ExecuteTime": {
     "end_time": "2021-04-26T15:36:21.919694Z",
     "start_time": "2021-04-26T15:36:21.904734Z"
    }
   },
   "outputs": [],
   "source": [
    "# def Gaussian_normalization(trainData, testData):\n",
    "#     \"\"\"高斯归一化\"\"\"\n",
    "\n",
    "#     #训练样本归一化\n",
    "#     feature=trainData[:,:-2]\n",
    "#     mean=feature.mean(axis=0)\n",
    "#     std=feature.std(axis=0)\n",
    "#     feature-=mean\n",
    "#     feature/=std\n",
    "#     trainData[:,:-2] = feature\n",
    "\n",
    "#     #测试样本归一化\n",
    "#     feature=testData[:,:-2]\n",
    "#     feature-=mean\n",
    "#     feature/=std\n",
    "#     testData[:,:-2] = feature\n",
    "\n",
    "#     return trainData, testData"
   ]
  },
  {
   "cell_type": "code",
   "execution_count": 10,
   "metadata": {
    "ExecuteTime": {
     "end_time": "2021-04-26T15:36:21.934685Z",
     "start_time": "2021-04-26T15:36:21.920692Z"
    }
   },
   "outputs": [],
   "source": [
    "#使用Wasserstein距离进行K-means聚类\n",
    "from scipy.stats import wasserstein_distance\n",
    "\n",
    "class K_Means(object):\n",
    "    # k是分组数；tolerance‘中心点误差’；max_iter是迭代次数\n",
    "    def __init__(self, k=2, tolerance=0.0001, max_iter=300):\n",
    "        self.k_ = k\n",
    "        self.tolerance_ = tolerance\n",
    "        self.max_iter_ = max_iter\n",
    "\n",
    "    def fit(self, data):\n",
    "        self.centers_ = {}\n",
    "        for i in range(self.k_):\n",
    "            self.centers_[i] = data[i]\n",
    "\n",
    "        for i in range(self.max_iter_):\n",
    "            self.clf_ = {}\n",
    "            for j in range(self.k_):\n",
    "                self.clf_[j] = []\n",
    "            # print(\"质点:\",self.centers_)\n",
    "            for SubIndexId, feature in enumerate(data):\n",
    "                # distances = [np.linalg.norm(feature-self.centers[center]) for center in self.centers]\n",
    "                distances = []\n",
    "                for center in self.centers_:\n",
    "                    # 欧拉距离\n",
    "                    # np.sqrt(np.sum((features-self.centers_[center])**2))\n",
    "                    distances.append(wasserstein_distance(feature, self.centers_[center]))#np.linalg.norm(feature - self.centers_[center])\n",
    "                classification = distances.index(min(distances))\n",
    "                self.clf_[classification].append(SubIndexId)\n",
    "\n",
    "            # print(\"分组情况:\",self.clf_)\n",
    "            prev_centers = dict(self.centers_)\n",
    "            \n",
    "            self.flag = True    #聚类是否成功\n",
    "            for c in self.clf_:\n",
    "                if(len(self.clf_[c]) == 0):\n",
    "                    self.flag = False\n",
    "                    print('\\n')\n",
    "                    print('第{}次迭代：'.format(i))\n",
    "                    print('************************聚类中心无样本截止！******************************')\n",
    "                    return\n",
    "                self.centers_[c] = np.average(data[np.array(self.clf_[c])], axis=0)\n",
    "\n",
    "            # '中心点'是否在误差范围\n",
    "            optimized = True\n",
    "            for center in self.centers_:\n",
    "                org_centers = prev_centers[center]\n",
    "                cur_centers = self.centers_[center]\n",
    "                if np.sum((cur_centers - org_centers) / org_centers * 100.0) > self.tolerance_:\n",
    "                    optimized = False\n",
    "            if optimized:\n",
    "                print('迭代次数：', i)\n",
    "                break\n",
    "\n",
    "    def predict(self, p_data):\n",
    "        allIndex = []\n",
    "        for oneTestSample in p_data:\n",
    "            distances = [wasserstein_distance(oneTestSample, self.centers_[center]) for center in self.centers_]#np.linalg.norm(p_data - self.centers_[center])\n",
    "            index = distances.index(min(distances))\n",
    "            allIndex.append(index)\n",
    "        return np.array(allIndex)"
   ]
  },
  {
   "cell_type": "code",
   "execution_count": 11,
   "metadata": {
    "ExecuteTime": {
     "end_time": "2021-04-26T15:36:21.949615Z",
     "start_time": "2021-04-26T15:36:21.935652Z"
    }
   },
   "outputs": [],
   "source": [
    "def W_K_means(n_cluster, trainSet):\n",
    "    AllSubFreq = trainSet\n",
    "    #print(AllSubFreq.shape)\n",
    "\n",
    "    k_means = K_Means(k=n_cluster)\n",
    "    k_means.fit(data  = AllSubFreq)\n",
    "    return k_means\n",
    "    # print(k_means.centers_)\n",
    "    # for center in k_means.centers_:\n",
    "    #     pyplot.scatter(k_means.centers_[center][0], k_means.centers_[center][1], marker='*', s=150)\n",
    "\n",
    "    # for cat in k_means.clf_:\n",
    "    #     for point in k_means.clf_[cat]:\n",
    "    #         pyplot.scatter(point[0], point[1], c=('r' if cat == 0 else 'b'))\n",
    "\n",
    "    # predict = [[2, 1],[6, 9]]\n",
    "    # for feature in predict:\n",
    "    #     cat = k_means.predict(feature)\n",
    "    #     pyplot.scatter(feature[0], feature[1], c=('r' if cat == 0 else 'b'), marker='x')\n",
    "\n",
    "    # pyplot.show()"
   ]
  },
  {
   "cell_type": "code",
   "execution_count": 12,
   "metadata": {
    "ExecuteTime": {
     "end_time": "2021-04-26T15:36:22.165070Z",
     "start_time": "2021-04-26T15:36:21.950612Z"
    }
   },
   "outputs": [],
   "source": [
    "from sklearn import svm\n",
    "from sklearn.preprocessing import normalize\n",
    "from sklearn.ensemble import RandomForestClassifier\n",
    "from sklearn.neighbors import KNeighborsClassifier\n",
    "from sklearn.naive_bayes import GaussianNB\n",
    "from sklearn.naive_bayes import MultinomialNB\n",
    "from sklearn.metrics import accuracy_score\n",
    "\n",
    "def trainModel(trainData, testData, Edim, num_cluster, modelId):\n",
    "    dim = Edim\n",
    "    \n",
    "    trainLabel = trainData[:, -2:]\n",
    "    trainData = trainData[:, :-2]\n",
    "    trainLabel = trainLabel[:, dim]\n",
    "    \n",
    "    testLabel = testData[:, -2:]\n",
    "    testData = testData[:, :-2]\n",
    "    testLabel = testLabel[:, dim]\n",
    "    print('model_{}\\ttrainNum: {}\\ttestNum: {}，训练：测试 = {:.2f}'.format(modelId, trainData.shape[0], testData.shape[0], trainData.shape[0] / testData.shape[0]),end = '\\t')\n",
    "    \n",
    "#     svmModel = svm.SVC()\n",
    "#     svmModel.fit(data_training, valtrain) \n",
    "#     ypredict=svmModel.predict(data_testing)\n",
    "#     print(\"SVMacc：\",accuracy_score(ypredict,valtest)) \n",
    "\n",
    "    rfModel = RandomForestClassifier(n_estimators=512, n_jobs=8)\n",
    "    rfModel.fit(trainData, trainLabel)\n",
    "    ypredict = rfModel.predict(testData)\n",
    "    acc = accuracy_score(ypredict,testLabel)\n",
    "    print(\"acc = {}\".format(acc))\n",
    "    return acc, testData.shape[0]"
   ]
  },
  {
   "cell_type": "code",
   "execution_count": 13,
   "metadata": {
    "ExecuteTime": {
     "end_time": "2021-04-27T00:13:14.056162Z",
     "start_time": "2021-04-26T15:36:22.166036Z"
    }
   },
   "outputs": [
    {
     "name": "stdout",
     "output_type": "stream",
     "text": [
      "trainSet.shape = (61440, 162)\ttestSet.shape = (15360, 162)\n",
      "K = 1\t迭代次数： 0\n",
      "model_0\ttrainNum: 61440\ttestNum: 15360，训练：测试 = 4.00\tacc = 0.8475260416666667\n",
      "K = 2\t迭代次数： 19\n",
      "model_0\ttrainNum: 58469\ttestNum: 14596，训练：测试 = 4.01\tacc = 0.8412578788709235\n",
      "model_1\ttrainNum: 2971\ttestNum: 764，训练：测试 = 3.89\tacc = 0.9581151832460733\n",
      "K = 3\t迭代次数： 29\n",
      "model_0\ttrainNum: 6562\ttestNum: 1635，训练：测试 = 4.01\tacc = 0.7437308868501529\n",
      "model_1\ttrainNum: 2643\ttestNum: 680，训练：测试 = 3.89\tacc = 0.9632352941176471\n",
      "model_2\ttrainNum: 52235\ttestNum: 13045，训练：测试 = 4.00\tacc = 0.8522039095438866\n",
      "K = 4\t迭代次数： 43\n",
      "model_0\ttrainNum: 2539\ttestNum: 671，训练：测试 = 3.78\tacc = 0.6915052160953801\n",
      "model_1\ttrainNum: 1809\ttestNum: 473，训练：测试 = 3.82\tacc = 0.9619450317124736\n",
      "model_2\ttrainNum: 11900\ttestNum: 2987，训练：测试 = 3.98\tacc = 0.9450954134583194\n",
      "model_3\ttrainNum: 45192\ttestNum: 11229，训练：测试 = 4.02\tacc = 0.8204648677531392\n",
      "K = 5\t迭代次数： 48\n",
      "model_0\ttrainNum: 2128\ttestNum: 557，训练：测试 = 3.82\tacc = 0.6750448833034112\n",
      "model_1\ttrainNum: 3457\ttestNum: 871，训练：测试 = 3.97\tacc = 0.9494833524684271\n",
      "model_2\ttrainNum: 23934\ttestNum: 6004，训练：测试 = 3.99\tacc = 0.9102265156562291\n",
      "model_3\ttrainNum: 30453\ttestNum: 7552，训练：测试 = 4.03\tacc = 0.7850900423728814\n",
      "model_4\ttrainNum: 1468\ttestNum: 376，训练：测试 = 3.90\tacc = 0.9521276595744681\n",
      "K = 6\tmodel_0\ttrainNum: 1211\ttestNum: 304，训练：测试 = 3.98\tacc = 0.6710526315789473\n",
      "model_1\ttrainNum: 2907\ttestNum: 723，训练：测试 = 4.02\tacc = 0.9474412171507607\n",
      "model_2\ttrainNum: 17921\ttestNum: 4532，训练：测试 = 3.95\tacc = 0.925639894086496\n",
      "model_3\ttrainNum: 7136\ttestNum: 1787，训练：测试 = 3.99\tacc = 0.735870173475098\n",
      "model_4\ttrainNum: 1412\ttestNum: 365，训练：测试 = 3.87\tacc = 0.9534246575342465\n",
      "model_5\ttrainNum: 30853\ttestNum: 7649，训练：测试 = 4.03\tacc = 0.8053340305922343\n",
      "K = 7\t迭代次数： 56\n",
      "model_0\ttrainNum: 3837\ttestNum: 946，训练：测试 = 4.06\tacc = 0.7230443974630021\n",
      "model_1\ttrainNum: 2734\ttestNum: 672，训练：测试 = 4.07\tacc = 0.9449404761904762\n",
      "model_2\ttrainNum: 13745\ttestNum: 3509，训练：测试 = 3.92\tacc = 0.9273297235679681\n",
      "model_3\ttrainNum: 11252\ttestNum: 2819，训练：测试 = 3.99\tacc = 0.7254345512593118\n",
      "model_4\ttrainNum: 1406\ttestNum: 360，训练：测试 = 3.91\tacc = 0.9555555555555556\n",
      "model_5\ttrainNum: 27509\ttestNum: 6817，训练：测试 = 4.04\tacc = 0.8311574006161068\n",
      "model_6\ttrainNum: 957\ttestNum: 237，训练：测试 = 4.04\tacc = 0.6455696202531646\n",
      "K = 8\t迭代次数： 81\n",
      "model_0\ttrainNum: 3118\ttestNum: 765，训练：测试 = 4.08\tacc = 0.7045751633986929\n",
      "model_1\ttrainNum: 2549\ttestNum: 620，训练：测试 = 4.11\tacc = 0.9564516129032258\n",
      "model_2\ttrainNum: 9455\ttestNum: 2423，训练：测试 = 3.90\tacc = 0.93768056128766\n",
      "model_3\ttrainNum: 13721\ttestNum: 3366，训练：测试 = 4.08\tacc = 0.7932263814616756\n",
      "model_4\ttrainNum: 1402\ttestNum: 359，训练：测试 = 3.91\tacc = 0.9526462395543176\n",
      "model_5\ttrainNum: 21705\ttestNum: 5458，训练：测试 = 3.98\tacc = 0.8724807621839502\n",
      "model_6\ttrainNum: 755\ttestNum: 184，训练：测试 = 4.10\tacc = 0.6630434782608695\n",
      "model_7\ttrainNum: 8735\ttestNum: 2185，训练：测试 = 4.00\tacc = 0.7395881006864988\n",
      "K = 9\t迭代次数： 52\n",
      "model_0\ttrainNum: 2983\ttestNum: 733，训练：测试 = 4.07\tacc = 0.703956343792633\n",
      "model_1\ttrainNum: 8790\ttestNum: 2231，训练：测试 = 3.94\tacc = 0.9399372478709099\n",
      "model_2\ttrainNum: 20754\ttestNum: 5230，训练：测试 = 3.97\tacc = 0.8797323135755258\n",
      "model_3\ttrainNum: 4391\ttestNum: 1043，训练：测试 = 4.21\tacc = 0.7123681687440077\n",
      "model_4\ttrainNum: 1402\ttestNum: 358，训练：测试 = 3.92\tacc = 0.9441340782122905\n",
      "model_5\ttrainNum: 12308\ttestNum: 3029，训练：测试 = 4.06\tacc = 0.8075272367117861\n",
      "model_6\ttrainNum: 733\ttestNum: 177，训练：测试 = 4.14\tacc = 0.6666666666666666\n",
      "model_7\ttrainNum: 7549\ttestNum: 1944，训练：测试 = 3.88\tacc = 0.7371399176954733\n",
      "model_8\ttrainNum: 2530\ttestNum: 615，训练：测试 = 4.11\tacc = 0.9609756097560975\n",
      "K = 10\tmodel_0\ttrainNum: 2984\ttestNum: 734，训练：测试 = 4.07\tacc = 0.7070844686648501\n",
      "model_1\ttrainNum: 8751\ttestNum: 2222，训练：测试 = 3.94\tacc = 0.9450945094509451\n",
      "model_2\ttrainNum: 20651\ttestNum: 5210，训练：测试 = 3.96\tacc = 0.8769673704414588\n",
      "model_3\ttrainNum: 4147\ttestNum: 1029，训练：测试 = 4.03\tacc = 0.6967930029154519\n",
      "model_4\ttrainNum: 1402\ttestNum: 358，训练：测试 = 3.92\tacc = 0.9608938547486033\n",
      "model_5\ttrainNum: 11992\ttestNum: 2973，训练：测试 = 4.03\tacc = 0.8039017827110663\n",
      "model_6\ttrainNum: 733\ttestNum: 177，训练：测试 = 4.14\tacc = 0.6836158192090396\n",
      "model_7\ttrainNum: 7462\ttestNum: 1908，训练：测试 = 3.91\tacc = 0.7342767295597484\n",
      "model_8\ttrainNum: 2530\ttestNum: 614，训练：测试 = 4.12\tacc = 0.9495114006514658\n",
      "model_9\ttrainNum: 788\ttestNum: 135，训练：测试 = 5.84\tacc = 0.7703703703703704\n",
      "K = 11\t迭代次数： 150\n",
      "model_0\ttrainNum: 2926\ttestNum: 720，训练：测试 = 4.06\tacc = 0.6958333333333333\n",
      "model_1\ttrainNum: 8319\ttestNum: 2128，训练：测试 = 3.91\tacc = 0.9459586466165414\n",
      "model_2\ttrainNum: 12232\ttestNum: 2992，训练：测试 = 4.09\tacc = 0.8098262032085561\n",
      "model_3\ttrainNum: 3937\ttestNum: 1011，训练：测试 = 3.89\tacc = 0.6923837784371909\n",
      "model_4\ttrainNum: 1399\ttestNum: 358，训练：测试 = 3.91\tacc = 0.9636871508379888\n",
      "model_5\ttrainNum: 238\ttestNum: 147，训练：测试 = 1.62\tacc = 0.7210884353741497\n",
      "model_6\ttrainNum: 720\ttestNum: 172，训练：测试 = 4.19\tacc = 0.6744186046511628\n",
      "model_7\ttrainNum: 7400\ttestNum: 1900，训练：测试 = 3.89\tacc = 0.7363157894736843\n",
      "model_8\ttrainNum: 2502\ttestNum: 611，训练：测试 = 4.09\tacc = 0.9590834697217676\n",
      "model_9\ttrainNum: 1300\ttestNum: 163，训练：测试 = 7.98\tacc = 0.7423312883435583\n",
      "model_10\ttrainNum: 20467\ttestNum: 5158，训练：测试 = 3.97\tacc = 0.8784412563008919\n",
      "K = 12\t\n",
      "\n",
      "第5次迭代：\n",
      "************************聚类中心无样本截止！******************************\n",
      "K = 13\t\n",
      "\n",
      "第5次迭代：\n",
      "************************聚类中心无样本截止！******************************\n",
      "K = 14\t\n",
      "\n",
      "第5次迭代：\n",
      "************************聚类中心无样本截止！******************************\n",
      "K = 15\t\n",
      "\n",
      "第3次迭代：\n",
      "************************聚类中心无样本截止！******************************\n",
      "K = 16\t\n",
      "\n",
      "第7次迭代：\n",
      "************************聚类中心无样本截止！******************************\n",
      "K = 17\t\n",
      "\n",
      "第3次迭代：\n",
      "************************聚类中心无样本截止！******************************\n",
      "K = 18\t\n",
      "\n",
      "第3次迭代：\n",
      "************************聚类中心无样本截止！******************************\n",
      "K = 19\t\n",
      "\n",
      "第3次迭代：\n",
      "************************聚类中心无样本截止！******************************\n",
      "K = 20\t\n",
      "\n",
      "第1次迭代：\n",
      "************************聚类中心无样本截止！******************************\n",
      "K = 21\t\n",
      "\n",
      "第1次迭代：\n",
      "************************聚类中心无样本截止！******************************\n",
      "K = 22\t\n",
      "\n",
      "第1次迭代：\n",
      "************************聚类中心无样本截止！******************************\n",
      "K = 23\t\n",
      "\n",
      "第1次迭代：\n",
      "************************聚类中心无样本截止！******************************\n",
      "K = 24\t\n",
      "\n",
      "第1次迭代：\n",
      "************************聚类中心无样本截止！******************************\n",
      "K = 25\t\n",
      "\n",
      "第1次迭代：\n",
      "************************聚类中心无样本截止！******************************\n",
      "K = 26\t\n",
      "\n",
      "第1次迭代：\n",
      "************************聚类中心无样本截止！******************************\n",
      "K = 27\t\n",
      "\n",
      "第1次迭代：\n",
      "************************聚类中心无样本截止！******************************\n",
      "K = 28\t\n",
      "\n",
      "第1次迭代：\n",
      "************************聚类中心无样本截止！******************************\n",
      "K = 29\t\n",
      "\n",
      "第1次迭代：\n",
      "************************聚类中心无样本截止！******************************\n",
      "K = 30\t\n",
      "\n",
      "第1次迭代：\n",
      "************************聚类中心无样本截止！******************************\n",
      "K = 31\t\n",
      "\n",
      "第1次迭代：\n",
      "************************聚类中心无样本截止！******************************\n",
      "K = 32\t\n",
      "\n",
      "第1次迭代：\n",
      "************************聚类中心无样本截止！******************************\n"
     ]
    }
   ],
   "source": [
    "# 开始对训练集聚类\n",
    "valence_or_arousal = -2  #-2 : valence;-1 : arousal\n",
    "\n",
    "trainSet = np.load(\"./trainSet.npy\")\n",
    "trainFeature = trainSet[:, :-2]\n",
    "testSet = np.load(\"./testSet.npy\")\n",
    "testFeature = testSet[:, :-2]\n",
    "print('trainSet.shape = {}\\ttestSet.shape = {}'.format(trainSet.shape,\n",
    "                                                       testSet.shape))\n",
    "allAcc = []\n",
    "meanAcc = []\n",
    "for num_cluster in range(1, 33):  #12\n",
    "    print('K = {}\\t'.format(num_cluster), end='')\n",
    "    #    *** 在这里我们关心哪些人的哪些视频被聚在了一起 ***    #\n",
    "    k_means_machine = W_K_means(num_cluster, trainFeature)\n",
    "    if (k_means_machine.flag == False):\n",
    "        continue\n",
    "    # 使用建立的K-means模型对测试集分类\n",
    "    allIndex = k_means_machine.predict(testFeature)\n",
    "\n",
    "    classList = k_means_machine.clf_\n",
    "    clusterMean = []\n",
    "    K_ACC = []\n",
    "    for j in range(len(classList)):\n",
    "        accDict = {}\n",
    "        testData = testSet[allIndex == j]\n",
    "        acc, testNum = trainModel(trainSet[np.array(classList[j])],\n",
    "                                  testData,\n",
    "                                  valence_or_arousal,\n",
    "                                  num_cluster,\n",
    "                                  modelId=j)\n",
    "        accDict[acc] = testNum\n",
    "        K_ACC.append(accDict)\n",
    "        clusterMean.append(acc * testNum)\n",
    "    allAcc.append(K_ACC)\n",
    "    clusterMean = np.array(clusterMean).sum() / testSet.shape[0]\n",
    "    meanAcc.append(clusterMean)\n",
    "np.save('meanAcc.npy', np.array(meanAcc))\n",
    "np.save('allAcc.npy', np.array(allAcc))"
   ]
  },
  {
   "cell_type": "code",
   "execution_count": 15,
   "metadata": {
    "ExecuteTime": {
     "end_time": "2021-04-27T00:13:14.195789Z",
     "start_time": "2021-04-27T00:13:14.072121Z"
    },
    "scrolled": true
   },
   "outputs": [
    {
     "data": {
      "image/png": "[encoded data removed]",
      "text/plain": [
       "<Figure size 432x288 with 1 Axes>"
      ]
     },
     "metadata": {
      "needs_background": "light"
     },
     "output_type": "display_data"
    }
   ],
   "source": [
    "#plt.figure()\n",
    "#plt.subplot(211)\n",
    "plt.title(\"meanAccuracy\", fontsize=24)\n",
    "plt.xlabel(\"num_cluster\", fontsize=14)\n",
    "plt.ylabel(\"meanAccuracy\", fontsize=14)\n",
    "n_cluster = [i for i in range(1, len(meanAcc) + 1)]\n",
    "plt.plot(n_cluster, meanAcc, color='blue', label='test accuracy')\n",
    "\n",
    "plt.grid()\n",
    "plt.legend()\n",
    "plt.show()"
   ]
  },
  {
   "cell_type": "code",
   "execution_count": 16,
   "metadata": {
    "ExecuteTime": {
     "end_time": "2021-04-27T00:13:14.211774Z",
     "start_time": "2021-04-27T00:13:14.196787Z"
    },
    "code_folding": []
   },
   "outputs": [],
   "source": [
    "#    *** 在这里我们关心哪些人的哪些视频被聚在了一起 ***    #\n",
    "# 除零警告\n",
    "# 为什么聚一类，一次都没迭代就收敛了，至少迭代一次吧，tolerance，是不是容忍度太高了\n",
    "# 聚类中心初始化问题，可能会在迭代过程中出现某个聚类中心中没有样本的情况"
   ]
  }
 ],
 "metadata": {
  "kernelspec": {
   "display_name": "Python 3",
   "language": "python",
   "name": "python3"
  },
  "language_info": {
   "codemirror_mode": {
    "name": "ipython",
    "version": 3
   },
   "file_extension": ".py",
   "mimetype": "text/x-python",
   "name": "python",
   "nbconvert_exporter": "python",
   "pygments_lexer": "ipython3",
   "version": "3.7.6"
  },
  "toc": {
   "base_numbering": 1,
   "nav_menu": {},
   "number_sections": true,
   "sideBar": true,
   "skip_h1_title": false,
   "title_cell": "Table of Contents",
   "title_sidebar": "Contents",
   "toc_cell": false,
   "toc_position": {},
   "toc_section_display": true,
   "toc_window_display": false
  },
  "varInspector": {
   "cols": {
    "lenName": 16,
    "lenType": 16,
    "lenVar": 40
   },
   "kernels_config": {
    "python": {
     "delete_cmd_postfix": "",
     "delete_cmd_prefix": "del ",
     "library": "var_list.py",
     "varRefreshCmd": "print(var_dic_list())"
    },
    "r": {
     "delete_cmd_postfix": ") ",
     "delete_cmd_prefix": "rm(",
     "library": "var_list.r",
     "varRefreshCmd": "cat(var_dic_list()) "
    }
   },
   "types_to_exclude": [
    "module",
    "function",
    "builtin_function_or_method",
    "instance",
    "_Feature"
   ],
   "window_display": false
  }
 },
 "nbformat": 4,
 "nbformat_minor": 1
}

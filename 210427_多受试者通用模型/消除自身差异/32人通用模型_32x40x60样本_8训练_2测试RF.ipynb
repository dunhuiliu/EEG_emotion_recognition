{
 "cells": [
  {
   "cell_type": "markdown",
   "metadata": {},
   "source": [
    "# 消除自身差异\n",
    "- 60秒信号取均值，60秒每个样本减去这个均值\n",
    "- 前30秒作为基线，取均值或直接用后30秒减去前30秒\n",
    "- 用60秒的高兴信号减去另一个高兴的信号"
   ]
  },
  {
   "cell_type": "code",
   "execution_count": 1,
   "metadata": {
    "ExecuteTime": {
     "end_time": "2021-05-04T13:36:16.815442Z",
     "start_time": "2021-05-04T13:36:16.195450Z"
    }
   },
   "outputs": [],
   "source": [
    "#加载飞桨、Numpy和相关类库\n",
    "import numpy as np\n",
    "import pyeeg as pe\n",
    "import os\n",
    "import random\n",
    "import time\n",
    "\n",
    "from PIL import Image\n",
    "import matplotlib.pyplot as plt\n",
    "from matplotlib import pyplot\n",
    "\n",
    "from scipy.stats import wasserstein_distance"
   ]
  },
  {
   "cell_type": "code",
   "execution_count": 2,
   "metadata": {
    "ExecuteTime": {
     "end_time": "2021-05-04T13:36:16.830373Z",
     "start_time": "2021-05-04T13:36:16.816411Z"
    }
   },
   "outputs": [],
   "source": [
    "#加载一个受试者\n",
    "def loadSub(sub):\n",
    "    dir='E:\\JupyterNotebookWorkSpace\\dataSet\\\\1280x258050(32x8064+2).npy'\n",
    "    data=np.load(dir)\n",
    "    subData = data[sub * 40 : (sub + 1) * 40]\n",
    "    subData[: , -2:] = np.where(subData[: , -2:] >= 5 , 1 , -1)\n",
    "    return subData"
   ]
  },
  {
   "cell_type": "code",
   "execution_count": 3,
   "metadata": {
    "ExecuteTime": {
     "end_time": "2021-05-04T13:36:16.846198Z",
     "start_time": "2021-05-04T13:36:16.831239Z"
    }
   },
   "outputs": [],
   "source": [
    "#数据集切60片\n",
    "def data_session(subData):\n",
    "    features = subData[:,:-2]\n",
    "    labels = subData[:,-2:]\n",
    "    features = features.reshape(40,32,-1)\n",
    "    features = features[:,:,384:]\n",
    "    \n",
    "    dataList = []\n",
    "    for i in range(40):\n",
    "        for j in range(60):\n",
    "            dataList.append(np.append(features[i][ : , j * 128 : (j + 1) * 128].reshape(-1) , labels[i]))\n",
    "\n",
    "    dataList = np.array(dataList)\n",
    "\n",
    "    return dataList"
   ]
  },
  {
   "cell_type": "code",
   "execution_count": 4,
   "metadata": {
    "ExecuteTime": {
     "end_time": "2021-05-04T13:36:16.862005Z",
     "start_time": "2021-05-04T13:36:16.847196Z"
    }
   },
   "outputs": [],
   "source": [
    "#特征提取\n",
    "def feature_extraction(trainData):\n",
    "\n",
    "    band = [4,8,13,16,30,45] #5 bands    band = [4,8,12,16,25,45]    \n",
    "    window_size = 128 #Averaging band power of 1 sec\n",
    "    step_size = 128 #Each 1 sec update once\n",
    "    sample_rate = 128 #Sampling rate of 128 Hz\n",
    "\n",
    "    features = trainData[:,:-2]\n",
    "    labels = trainData[:,-2:]\n",
    "    features = features.reshape(features.shape[0],32,128)\n",
    "\n",
    "    newData=[]\n",
    "    for i in range(features.shape[0]):    #样本数\n",
    "        channel_features=[]\n",
    "        for j in range(32):\n",
    "            X = features[i][j]\n",
    "            Y = pe.bin_power(X, band, sample_rate)\n",
    "            channel_features += list(Y[0])\n",
    "            ###################################################################################\n",
    "        channel_features += list(labels[i])    #添加标签\n",
    "        newData.append(channel_features)\n",
    "    trainData = np.array(newData)\n",
    "\n",
    "    return trainData"
   ]
  },
  {
   "cell_type": "code",
   "execution_count": 5,
   "metadata": {
    "ExecuteTime": {
     "end_time": "2021-05-04T13:36:16.876940Z",
     "start_time": "2021-05-04T13:36:16.862975Z"
    }
   },
   "outputs": [],
   "source": [
    "# AllSubFreq = []    #保存所有受试者的频域特征32*2400*162\n",
    "# for sub in range(32):\n",
    "#     SubData = loadSub(sub)\n",
    "#     dataList = data_session(SubData)\n",
    "#     trainData = feature_extraction(dataList)\n",
    "#     AllSubFreq.append(trainData)\n",
    "# AllSubFreq = np.array(AllSubFreq)\n",
    "# print(AllSubFreq.shape)\n",
    "# AllSubFreq = np.reshape(AllSubFreq, (32, 40, 60, 162))\n",
    "# print(AllSubFreq.shape)\n",
    "\n",
    "# # 减去60秒均值\n",
    "# for sub in range(AllSubFreq.shape[0]):\n",
    "#     for trail in range(AllSubFreq.shape[1]):\n",
    "#         mean = AllSubFreq[sub][trail][:, :-2].mean(axis = 0)\n",
    "#         AllSubFreq[sub][trail][:, :-2] -= mean\n",
    "\n",
    "# print(AllSubFreq.shape)\n",
    "# np.save(\"./AllSubFreq.npy\",AllSubFreq)"
   ]
  },
  {
   "cell_type": "code",
   "execution_count": 6,
   "metadata": {
    "ExecuteTime": {
     "end_time": "2021-05-04T13:36:16.891771Z",
     "start_time": "2021-05-04T13:36:16.877967Z"
    }
   },
   "outputs": [],
   "source": [
    "def Gaussian_normalization(trainData, testData):\n",
    "    \"\"\"高斯归一化\"\"\"\n",
    "\n",
    "    #训练样本归一化\n",
    "    feature=trainData[:,:-2]\n",
    "    mean=feature.mean(axis=0)\n",
    "    std=feature.std(axis=0)\n",
    "    feature-=mean\n",
    "    feature/=std\n",
    "    trainData[:,:-2] = feature\n",
    "\n",
    "    #测试样本归一化\n",
    "    feature=testData[:,:-2]\n",
    "    feature-=mean\n",
    "    feature/=std\n",
    "    testData[:,:-2] = feature\n",
    "\n",
    "    return trainData, testData"
   ]
  },
  {
   "cell_type": "code",
   "execution_count": 7,
   "metadata": {
    "ExecuteTime": {
     "end_time": "2021-05-04T13:36:17.185442Z",
     "start_time": "2021-05-04T13:36:16.893765Z"
    }
   },
   "outputs": [],
   "source": [
    "from sklearn import svm\n",
    "from sklearn.preprocessing import normalize\n",
    "from sklearn.ensemble import RandomForestClassifier\n",
    "from sklearn.neighbors import KNeighborsClassifier\n",
    "from sklearn.naive_bayes import GaussianNB\n",
    "from sklearn.naive_bayes import MultinomialNB\n",
    "from sklearn.metrics import accuracy_score\n",
    "\n",
    "def trainModel(trainData, testData, Edim):\n",
    "    dim = Edim\n",
    "    \n",
    "    trainLabel = trainData[:, -2:]\n",
    "    trainData = trainData[:, :-2]\n",
    "    trainLabel = trainLabel[:, dim]\n",
    "    \n",
    "    testLabel = testData[:, -2:]\n",
    "    testData = testData[:, :-2]\n",
    "    testLabel = testLabel[:, dim]\n",
    "    \n",
    "#     svmModel = svm.SVC()\n",
    "#     svmModel.fit(data_training, valtrain) \n",
    "#     ypredict=svmModel.predict(data_testing)\n",
    "#     print(\"SVMacc：\",accuracy_score(ypredict,valtest)) \n",
    "\n",
    "    rfModel = RandomForestClassifier(n_estimators=512, n_jobs=16)\n",
    "    rfModel.fit(trainData, trainLabel)\n",
    "    ypredict = rfModel.predict(testData)\n",
    "    acc = accuracy_score(ypredict,testLabel)\n",
    "    print(\"acc = {:.2f}\".format(acc))\n",
    "    return acc"
   ]
  },
  {
   "cell_type": "code",
   "execution_count": 8,
   "metadata": {
    "ExecuteTime": {
     "end_time": "2021-05-04T15:08:26.991999Z",
     "start_time": "2021-05-04T13:36:17.187438Z"
    }
   },
   "outputs": [
    {
     "name": "stdout",
     "output_type": "stream",
     "text": [
      "(76800, 162)\n",
      "trainNum.shape = (61440, 162), testNum.shape = (15360, 162)\n",
      "acc = 0.65\n",
      "acc = 0.65\n",
      "acc = 0.65\n",
      "acc = 0.65\n",
      "acc = 0.64\n",
      "acc = 0.65\n",
      "acc = 0.65\n",
      "acc = 0.64\n",
      "acc = 0.65\n",
      "acc = 0.65\n",
      "acc = 0.65\n",
      "acc = 0.65\n",
      "acc = 0.65\n",
      "acc = 0.66\n",
      "acc = 0.64\n",
      "acc = 0.65\n",
      "acc = 0.65\n",
      "acc = 0.64\n",
      "acc = 0.65\n",
      "acc = 0.64\n",
      "acc = 0.65\n",
      "acc = 0.64\n",
      "acc = 0.64\n",
      "acc = 0.65\n",
      "acc = 0.65\n",
      "acc = 0.64\n",
      "acc = 0.65\n",
      "acc = 0.65\n",
      "acc = 0.64\n",
      "acc = 0.65\n",
      "acc = 0.64\n",
      "acc = 0.65\n",
      "acc = 0.65\n",
      "acc = 0.64\n",
      "acc = 0.65\n",
      "acc = 0.65\n",
      "acc = 0.65\n",
      "acc = 0.65\n",
      "acc = 0.64\n",
      "acc = 0.65\n",
      "acc = 0.65\n",
      "acc = 0.65\n",
      "acc = 0.65\n",
      "acc = 0.64\n",
      "acc = 0.65\n",
      "acc = 0.65\n",
      "acc = 0.64\n",
      "acc = 0.65\n",
      "acc = 0.64\n",
      "acc = 0.64\n",
      "acc = 0.65\n",
      "acc = 0.65\n",
      "acc = 0.64\n",
      "acc = 0.65\n",
      "acc = 0.64\n",
      "acc = 0.65\n",
      "acc = 0.64\n",
      "acc = 0.64\n",
      "acc = 0.65\n",
      "acc = 0.65\n",
      "acc = 0.64\n",
      "acc = 0.64\n",
      "acc = 0.65\n",
      "acc = 0.65\n",
      "acc = 0.65\n",
      "acc = 0.64\n",
      "acc = 0.65\n",
      "acc = 0.64\n",
      "acc = 0.65\n",
      "acc = 0.64\n",
      "acc = 0.64\n",
      "acc = 0.64\n",
      "acc = 0.64\n",
      "acc = 0.64\n",
      "acc = 0.64\n",
      "acc = 0.64\n",
      "acc = 0.65\n",
      "acc = 0.65\n",
      "acc = 0.65\n",
      "acc = 0.65\n",
      "acc = 0.65\n",
      "acc = 0.65\n",
      "acc = 0.64\n",
      "acc = 0.65\n",
      "acc = 0.64\n",
      "acc = 0.65\n",
      "acc = 0.65\n",
      "acc = 0.65\n",
      "acc = 0.65\n",
      "acc = 0.64\n",
      "acc = 0.64\n",
      "acc = 0.65\n",
      "acc = 0.64\n",
      "acc = 0.65\n",
      "acc = 0.64\n",
      "acc = 0.65\n",
      "acc = 0.64\n",
      "acc = 0.65\n",
      "acc = 0.65\n",
      "acc = 0.65\n"
     ]
    }
   ],
   "source": [
    "# 数据集划分\n",
    "AllSubFreq = np.load(\"./AllSubFreq.npy\")\n",
    "AllSubFreq = AllSubFreq.reshape((-1 , 162))\n",
    "print(AllSubFreq.shape)\n",
    "\n",
    "allAcc = []\n",
    "\n",
    "for SEED in range(100):\n",
    "    np.random.seed(SEED)\n",
    "    np.random.shuffle(AllSubFreq)\n",
    "    ratio = 0.8\n",
    "    trainSet = AllSubFreq[:int(ratio * AllSubFreq.shape[0])]\n",
    "    testSet = AllSubFreq[int(ratio * AllSubFreq.shape[0]):]\n",
    "    if SEED == 0:\n",
    "        print('trainNum.shape = {}, testNum.shape = {}'.format(trainSet.shape, testSet.shape))\n",
    "\n",
    "    #------------------------------------是否归一化------------------------------------\n",
    "    normal = True\n",
    "    Edim = 0\n",
    "    if normal:\n",
    "        trainSet, testSet = Gaussian_normalization(trainSet, testSet)\n",
    "\n",
    "    # 训练\n",
    "    acc = trainModel(trainSet, testSet, Edim)\n",
    "    allAcc.append(acc)"
   ]
  },
  {
   "cell_type": "code",
   "execution_count": 9,
   "metadata": {
    "ExecuteTime": {
     "end_time": "2021-05-04T15:08:27.006959Z",
     "start_time": "2021-05-04T15:08:26.994992Z"
    }
   },
   "outputs": [
    {
     "name": "stdout",
     "output_type": "stream",
     "text": [
      "seed =  13 maxAcc =  0.65546875\n",
      "meanAcc =  0.6462929687500001\n"
     ]
    }
   ],
   "source": [
    "allAcc = np.array(allAcc)\n",
    "index = allAcc.argmax()\n",
    "print('seed = ',index,'maxAcc = ', allAcc.max())\n",
    "print('meanAcc = ', allAcc.mean())"
   ]
  },
  {
   "cell_type": "code",
   "execution_count": 10,
   "metadata": {
    "ExecuteTime": {
     "end_time": "2021-05-04T15:08:27.021920Z",
     "start_time": "2021-05-04T15:08:27.008954Z"
    }
   },
   "outputs": [
    {
     "data": {
      "text/plain": [
       "1.3446199205186653e-05"
      ]
     },
     "execution_count": 10,
     "metadata": {},
     "output_type": "execute_result"
    }
   ],
   "source": [
    "allAcc.var()"
   ]
  },
  {
   "cell_type": "code",
   "execution_count": 11,
   "metadata": {
    "ExecuteTime": {
     "end_time": "2021-05-04T15:08:27.162542Z",
     "start_time": "2021-05-04T15:08:27.023915Z"
    }
   },
   "outputs": [
    {
     "data": {
      "text/plain": [
       "[<matplotlib.lines.Line2D at 0x2d39f722048>]"
      ]
     },
     "execution_count": 11,
     "metadata": {},
     "output_type": "execute_result"
    },
    {
     "data": {
      "image/png": "[encoded data removed]",
      "text/plain": [
       "<Figure size 432x288 with 1 Axes>"
      ]
     },
     "metadata": {
      "needs_background": "light"
     },
     "output_type": "display_data"
    }
   ],
   "source": [
    "plt.ylim([0,1])\n",
    "plt.xlabel('seed')\n",
    "plt.ylabel('acc')\n",
    "plt.plot(range(1,101), allAcc)"
   ]
  }
 ],
 "metadata": {
  "kernelspec": {
   "display_name": "Python 3",
   "language": "python",
   "name": "python3"
  },
  "language_info": {
   "codemirror_mode": {
    "name": "ipython",
    "version": 3
   },
   "file_extension": ".py",
   "mimetype": "text/x-python",
   "name": "python",
   "nbconvert_exporter": "python",
   "pygments_lexer": "ipython3",
   "version": "3.8.8"
  },
  "toc": {
   "base_numbering": 1,
   "nav_menu": {},
   "number_sections": true,
   "sideBar": true,
   "skip_h1_title": false,
   "title_cell": "Table of Contents",
   "title_sidebar": "Contents",
   "toc_cell": false,
   "toc_position": {},
   "toc_section_display": true,
   "toc_window_display": false
  },
  "varInspector": {
   "cols": {
    "lenName": 16,
    "lenType": 16,
    "lenVar": 40
   },
   "kernels_config": {
    "python": {
     "delete_cmd_postfix": "",
     "delete_cmd_prefix": "del ",
     "library": "var_list.py",
     "varRefreshCmd": "print(var_dic_list())"
    },
    "r": {
     "delete_cmd_postfix": ") ",
     "delete_cmd_prefix": "rm(",
     "library": "var_list.r",
     "varRefreshCmd": "cat(var_dic_list()) "
    }
   },
   "types_to_exclude": [
    "module",
    "function",
    "builtin_function_or_method",
    "instance",
    "_Feature"
   ],
   "window_display": false
  }
 },
 "nbformat": 4,
 "nbformat_minor": 4
}
